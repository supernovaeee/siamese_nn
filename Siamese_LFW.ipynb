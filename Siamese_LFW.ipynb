{
  "cells": [
    {
      "cell_type": "markdown",
      "metadata": {
        "id": "view-in-github",
        "colab_type": "text"
      },
      "source": [
        "<a href=\"https://colab.research.google.com/github/supernovaeee/siamese_nn/blob/main/Siamese_LFW.ipynb\" target=\"_parent\"><img src=\"https://colab.research.google.com/assets/colab-badge.svg\" alt=\"Open In Colab\"/></a>"
      ]
    },
    {
      "cell_type": "code",
      "execution_count": null,
      "id": "fc5cbf68",
      "metadata": {
        "id": "fc5cbf68"
      },
      "outputs": [],
      "source": [
        "# !pip install tensorflow opencv-python matplotlib"
      ]
    },
    {
      "cell_type": "code",
      "execution_count": null,
      "id": "85e918de",
      "metadata": {
        "id": "85e918de"
      },
      "outputs": [],
      "source": [
        "# !pip install -U scikit-learn"
      ]
    },
    {
      "cell_type": "markdown",
      "id": "c0c37fb0",
      "metadata": {
        "id": "c0c37fb0"
      },
      "source": [
        "## 1.2 Import Dependencies"
      ]
    },
    {
      "cell_type": "code",
      "execution_count": null,
      "id": "89488b7d",
      "metadata": {
        "id": "89488b7d"
      },
      "outputs": [],
      "source": [
        "import cv2\n",
        "import os\n",
        "import random\n",
        "import numpy as np\n",
        "from matplotlib import pyplot as plt\n",
        "import glob\n",
        "import string\n",
        "import re"
      ]
    },
    {
      "cell_type": "code",
      "execution_count": null,
      "id": "f2424872",
      "metadata": {
        "id": "f2424872"
      },
      "outputs": [],
      "source": [
        "# Import tensorflow dependencies - functional API\n",
        "from tensorflow.keras.models import Model\n",
        "from tensorflow.keras.layers import Layer, Conv2D, Dense, MaxPooling2D, Input, Flatten\n",
        "import tensorflow as tf\n",
        "from sklearn.metrics import accuracy_score\n",
        "from tensorflow.keras import layers, models, losses, optimizers\n",
        "from tensorflow.keras.utils import Progbar\n",
        "from sklearn.model_selection import GridSearchCV\n",
        "from tensorflow.keras.wrappers.scikit_learn import KerasClassifier"
      ]
    },
    {
      "cell_type": "code",
      "execution_count": null,
      "id": "f3c6d0a1",
      "metadata": {
        "id": "f3c6d0a1"
      },
      "outputs": [],
      "source": [
        "# tf.config.list_physical_devices(\"GPU\")"
      ]
    },
    {
      "cell_type": "markdown",
      "id": "644adc0d",
      "metadata": {
        "id": "644adc0d"
      },
      "source": [
        "## 1.3 Create Folder Structures"
      ]
    },
    {
      "cell_type": "code",
      "execution_count": null,
      "id": "aa72ef46",
      "metadata": {
        "id": "aa72ef46"
      },
      "outputs": [],
      "source": [
        "# set up paths\n",
        "POS_PATH = os.path.join('drive', 'MyDrive','FaceID','data', 'positive')\n",
        "NEG_PATH = os.path.join('drive', 'MyDrive','FaceID','data', 'negative')\n",
        "ANC_PATH = os.path.join('drive', 'MyDrive','FaceID','data', 'anchor')"
      ]
    },
    {
      "cell_type": "markdown",
      "id": "4fa87b85",
      "metadata": {
        "id": "4fa87b85"
      },
      "source": [
        "# 2. Collect Positives and Anchors"
      ]
    },
    {
      "cell_type": "markdown",
      "id": "a8cebb1b",
      "metadata": {
        "id": "a8cebb1b"
      },
      "source": [
        "## 2.1 Untar Labelled Faces in the Wild Dataset"
      ]
    },
    {
      "cell_type": "code",
      "execution_count": null,
      "id": "3722ffeb",
      "metadata": {
        "id": "3722ffeb"
      },
      "outputs": [],
      "source": [
        "# https://vis-www.cs.umass.edu/lfw/"
      ]
    },
    {
      "cell_type": "code",
      "execution_count": null,
      "id": "814dd0ce",
      "metadata": {
        "id": "814dd0ce"
      },
      "outputs": [],
      "source": [
        "# # uncompress tar LFW dataset\n",
        "# !tar -xf lfw.tgz"
      ]
    },
    {
      "cell_type": "code",
      "execution_count": null,
      "id": "e4fb0980",
      "metadata": {
        "id": "e4fb0980"
      },
      "outputs": [],
      "source": [
        "\n",
        "\n",
        "# # Define the letters to check\n",
        "# letters_to_check = string.ascii_uppercase[2::2]  # 'C', 'E', 'G', ...\n",
        "\n",
        "# # Move LFW images to the following repo (data/negative)\n",
        "# for file in os.listdir('FaceID/data/negative'):\n",
        "#     for letter in letters_to_check:\n",
        "#         if file.startswith(letter):\n",
        "#             EX_PATH = os.path.join('FaceID/data/negative', file)\n",
        "#             NEW_PATH = os.path.join(ANC_PATH, file)\n",
        "#             os.renames(EX_PATH, NEW_PATH)\n",
        "#             break  # Break the loop if a match is found\n"
      ]
    },
    {
      "cell_type": "code",
      "execution_count": null,
      "id": "8376ada6",
      "metadata": {
        "id": "8376ada6"
      },
      "outputs": [],
      "source": [
        "# os.listdir(POS_PATH)"
      ]
    },
    {
      "cell_type": "code",
      "execution_count": null,
      "id": "7e71a9c3",
      "metadata": {
        "id": "7e71a9c3"
      },
      "outputs": [],
      "source": [
        "\n",
        "\n",
        "# # Move images from anchor to positive if their filenames end with even numbers\n",
        "# for file in os.listdir(POS_PATH):\n",
        "#     if re.match('.*\\_[01][012][0123456789][02468]\\.jpg$', file):\n",
        "#         EX_PATH = os.path.join(POS_PATH, file)\n",
        "#         NEW_PATH = os.path.join(ANC_PATH, file)\n",
        "#         os.renames(EX_PATH, NEW_PATH)\n"
      ]
    },
    {
      "cell_type": "markdown",
      "id": "4a5cab56",
      "metadata": {
        "id": "4a5cab56"
      },
      "source": [
        "# 3. Load and Preprocess Images"
      ]
    },
    {
      "cell_type": "markdown",
      "id": "f4b3d7dc",
      "metadata": {
        "id": "f4b3d7dc"
      },
      "source": [
        "## 3.1 Get Image Directories"
      ]
    },
    {
      "cell_type": "code",
      "execution_count": null,
      "id": "a6d492e9",
      "metadata": {
        "id": "a6d492e9"
      },
      "outputs": [],
      "source": [
        "# First, ensure that the image files are correctly stored into anchor, positive, and negative folders\n",
        "# The anchor and positive images should refer to the same person, while negative is for remaining datasets\n",
        "# Split a person's images into anchor and positive"
      ]
    },
    {
      "cell_type": "code",
      "source": [
        "# document_files = os.listdir(POS_PATH)\n",
        "# document_files"
      ],
      "metadata": {
        "id": "yIjmUykuyq0G"
      },
      "id": "yIjmUykuyq0G",
      "execution_count": null,
      "outputs": []
    },
    {
      "cell_type": "code",
      "source": [
        "from google.colab import drive\n",
        "drive.mount('/content/drive')"
      ],
      "metadata": {
        "colab": {
          "base_uri": "https://localhost:8080/"
        },
        "id": "lByxFKQrxlNK",
        "outputId": "8d3a34e2-0ef8-4f8d-ea48-269f944c8ee0"
      },
      "id": "lByxFKQrxlNK",
      "execution_count": null,
      "outputs": [
        {
          "output_type": "stream",
          "name": "stdout",
          "text": [
            "Mounted at /content/drive\n"
          ]
        }
      ]
    },
    {
      "cell_type": "code",
      "execution_count": null,
      "id": "d7143767",
      "metadata": {
        "id": "d7143767"
      },
      "outputs": [],
      "source": [
        "# Get all filenames in the document directory\n",
        "document_files = os.listdir(ANC_PATH)\n",
        "\n",
        "# Extract unique names from the document filenames\n",
        "names = []\n",
        "for filename in document_files:\n",
        "    parts = filename.split('_')\n",
        "    if len(parts) == 3:\n",
        "        # Format: FirstName_LastName_0002.jpg\n",
        "        name = '_'.join(parts[:2]) + '_'\n",
        "    elif len(parts) == 2:\n",
        "        # Format: FirstName_0002.jpg\n",
        "        name = parts[0] + '_'\n",
        "    else:\n",
        "        continue  # Skip files with unexpected format\n",
        "\n",
        "    names.append(name)\n",
        "\n",
        "# Remove duplicates from the names list\n",
        "names = list(set(names))\n"
      ]
    },
    {
      "cell_type": "code",
      "execution_count": null,
      "id": "e10ff615",
      "metadata": {
        "id": "e10ff615",
        "outputId": "453756ff-7bfd-4aa4-ccd1-be168da17844",
        "colab": {
          "base_uri": "https://localhost:8080/"
        }
      },
      "outputs": [
        {
          "output_type": "execute_result",
          "data": {
            "text/plain": [
              "703"
            ]
          },
          "metadata": {},
          "execution_count": 7
        }
      ],
      "source": [
        "len(names)"
      ]
    },
    {
      "cell_type": "code",
      "execution_count": null,
      "id": "908a2e25",
      "metadata": {
        "id": "908a2e25"
      },
      "outputs": [],
      "source": [
        "# Randomly select names from the available names list\n",
        "# num_names = len(names) - 1\n",
        "selected_names = random.sample(names, 700)\n",
        "\n",
        "\n",
        "# Create empty anchor and positive datasets\n",
        "anchor_list = []\n",
        "positive_list = []\n",
        "negative = tf.data.Dataset.from_tensor_slices([\"\"])\n",
        "\n",
        "# Load images from anchor and positive folders and pair them\n",
        "for i, name in enumerate(selected_names):\n",
        "    anchor_files = glob.glob(ANC_PATH + f'/{name}*.jpg')\n",
        "    positive_files = glob.glob(POS_PATH + f'/{name}*.jpg')\n",
        "\n",
        "    anchor_num = len(anchor_files)\n",
        "    positive_num = len(positive_files)\n",
        "\n",
        "    if (anchor_num > positive_num):\n",
        "      # cycle through the filenames of the most abundant (if anchor files is more abundant than positive files for this name)\n",
        "      for i in range(anchor_num):\n",
        "        positive_item = positive_files[i % positive_num] # modulo operator makes sure the index used for positive_files never goes out of bounds. It will cycle back to zero (and increment from zero) once the index reaches a multiple of the list's len()\n",
        "        anchor_item = anchor_files[i]\n",
        "\n",
        "        # Append the datasets to anchor and positive\n",
        "        anchor_list.append(anchor_item)\n",
        "        positive_list.append(positive_item)\n",
        "    else:\n",
        "      # cycle through the filenames of the most abundant (else, if positive files is more abundant than anchor files for this name, or they are equal)\n",
        "      for i in range(positive_num):\n",
        "        anchor_item = anchor_files[i % anchor_num] # modulo operator makes sure the index used for anchor_files never goes out of bounds. It will cycle back to zero (and increment from zero) once the index reaches a multiple of the list's len()\n",
        "        positive_item = positive_files[i]\n",
        "        # Append the datasets to anchor and positive\n",
        "        anchor_list.append(anchor_item)\n",
        "        positive_list.append(positive_item)\n",
        "\n",
        "# Turn anchor and positive list into tf.data.Dataset (tensorflow dataset(?))\n",
        "anchor = tf.data.Dataset.from_tensor_slices(anchor_list)\n",
        "positive = tf.data.Dataset.from_tensor_slices(positive_list)\n",
        "\n",
        "negative = tf.data.Dataset.list_files(NEG_PATH+'/*.jpg').take(len(anchor)) # take the length of anchor since length of either one is the same.\n",
        "\n"
      ]
    },
    {
      "cell_type": "code",
      "source": [
        "len(positive)"
      ],
      "metadata": {
        "id": "ODQdQ1p7iqbj",
        "colab": {
          "base_uri": "https://localhost:8080/"
        },
        "outputId": "a2475f63-2ab3-4c91-b52c-17ce7f7fe71d"
      },
      "id": "ODQdQ1p7iqbj",
      "execution_count": null,
      "outputs": [
        {
          "output_type": "execute_result",
          "data": {
            "text/plain": [
              "1867"
            ]
          },
          "metadata": {},
          "execution_count": 11
        }
      ]
    },
    {
      "cell_type": "code",
      "source": [
        "# # Print the elements of the paired datasets -- FOR CHECKING\n",
        "# num_elements_to_show = 30  # Specify the number of elements to show\n",
        "# anchor_samples = anchor.take(num_elements_to_show)\n",
        "# positive_samples = positive.take(num_elements_to_show)\n",
        "\n",
        "# for a, p in tf.data.Dataset.zip((anchor_samples, positive_samples)):\n",
        "#     print(\"Anchor:\", a)\n",
        "#     print(\"Positive:\", p)"
      ],
      "metadata": {
        "id": "SpmB7nVEiQ7-"
      },
      "id": "SpmB7nVEiQ7-",
      "execution_count": null,
      "outputs": []
    },
    {
      "cell_type": "code",
      "execution_count": null,
      "id": "b59f2c2d",
      "metadata": {
        "id": "b59f2c2d"
      },
      "outputs": [],
      "source": [
        "# # Print the elements of the paired datasets -- FOR CHECKING\n",
        "# num_elements_to_show = 30  # Specify the number of elements to show\n",
        "# anchor_samples = anchor.take(num_elements_to_show)\n",
        "# negative_samples = negative.take(num_elements_to_show)\n",
        "\n",
        "# for a, p in tf.data.Dataset.zip((anchor_samples, negative_samples)):\n",
        "#     print(\"Anchor:\", a)\n",
        "#     print(\"Negative:\", p)"
      ]
    },
    {
      "cell_type": "code",
      "execution_count": null,
      "id": "ffce634d",
      "metadata": {
        "id": "ffce634d"
      },
      "outputs": [],
      "source": [
        "# # Take a look at the anchor dataset -- FOR CHECKING\n",
        "# dir_test = anchor.as_numpy_iterator()"
      ]
    },
    {
      "cell_type": "code",
      "execution_count": null,
      "id": "6ec00508",
      "metadata": {
        "id": "6ec00508",
        "outputId": "ff2509af-c1ee-457b-cb54-a1fcd29b406c",
        "colab": {
          "base_uri": "https://localhost:8080/"
        }
      },
      "outputs": [
        {
          "output_type": "stream",
          "name": "stdout",
          "text": [
            "b'drive/MyDrive/FaceID/data/anchor/Mick_Jagger_0002.jpg'\n"
          ]
        }
      ],
      "source": [
        "# print(dir_test.next()) -- FOR CHECKING"
      ]
    },
    {
      "cell_type": "markdown",
      "id": "f8b3bd14",
      "metadata": {
        "id": "f8b3bd14"
      },
      "source": [
        "## 3.2 Preprocessing - Scale and Resize"
      ]
    },
    {
      "cell_type": "code",
      "execution_count": null,
      "id": "13a44bf1",
      "metadata": {
        "id": "13a44bf1"
      },
      "outputs": [],
      "source": [
        "def preprocess(file_path):\n",
        "\n",
        "    # Read in image from file path\n",
        "    byte_img = tf.io.read_file(file_path)\n",
        "    # Load in the image\n",
        "    img = tf.io.decode_jpeg(byte_img)\n",
        "\n",
        "    # Preprocessing steps - resizing the image to be 100x100x3\n",
        "    img = tf.image.resize(img, (100,100))\n",
        "    # Scale image to be between 0 and 1\n",
        "    img = img / 255.0\n",
        "#\n",
        "    # Return image\n",
        "    return img"
      ]
    },
    {
      "cell_type": "code",
      "source": [
        "def process(file_path):\n",
        "\n",
        " # Read in image from file path\n",
        "    byte_img = tf.io.read_file(file_path)\n",
        "    # Load in the image\n",
        "    img = tf.io.decode_jpeg(byte_img)\n",
        "\n",
        "    return img"
      ],
      "metadata": {
        "id": "nXZcl8YEkYXB"
      },
      "id": "nXZcl8YEkYXB",
      "execution_count": null,
      "outputs": []
    },
    {
      "cell_type": "code",
      "execution_count": null,
      "id": "60b69b99",
      "metadata": {
        "id": "60b69b99"
      },
      "outputs": [],
      "source": [
        "# img = preprocess('drive/MyDrive/FaceID/data/anchor/Mick_Jagger_0002.jpg') -- FOR CHECKING"
      ]
    },
    {
      "cell_type": "code",
      "source": [
        "# x = process('drive/MyDrive/FaceID/data/anchor/Mick_Jagger_0002.jpg') -- FOR CHECKING\n",
        "# # Display the image using Matplotlib\n",
        "# plt.imshow(x)\n",
        "# plt.axis('off')  # Remove axis ticks\n",
        "# plt.show()"
      ],
      "metadata": {
        "id": "_TrIWWamkOFJ"
      },
      "id": "_TrIWWamkOFJ",
      "execution_count": null,
      "outputs": []
    },
    {
      "cell_type": "code",
      "source": [
        "# # Convert the TensorFlow tensor to a NumPy array for visualization -- FOR CHECKING\n",
        "# img_np = img.numpy()\n",
        "\n",
        "# # Display the image using Matplotlib\n",
        "# plt.imshow(img_np)\n",
        "# plt.axis('off')  # Remove axis ticks\n",
        "# plt.show()\n"
      ],
      "metadata": {
        "id": "9HhqvFIZkFPY"
      },
      "id": "9HhqvFIZkFPY",
      "execution_count": null,
      "outputs": []
    },
    {
      "cell_type": "code",
      "execution_count": null,
      "id": "e986a79e",
      "metadata": {
        "id": "e986a79e"
      },
      "outputs": [],
      "source": [
        "# img.numpy().max() -- FOR CHECKING"
      ]
    },
    {
      "cell_type": "markdown",
      "id": "da6a1585",
      "metadata": {
        "id": "da6a1585"
      },
      "source": [
        "## 3.3 Create Labelled Dataset"
      ]
    },
    {
      "cell_type": "code",
      "execution_count": null,
      "id": "ff4b2855",
      "metadata": {
        "id": "ff4b2855"
      },
      "outputs": [],
      "source": [
        "# (anchor, positive) => 1,1,1,1,1\n",
        "# (anchor, negative) => 0,0,0,0,0"
      ]
    },
    {
      "cell_type": "code",
      "source": [
        "# len(negative)"
      ],
      "metadata": {
        "id": "xt_fbq95od2P"
      },
      "id": "xt_fbq95od2P",
      "execution_count": null,
      "outputs": []
    },
    {
      "cell_type": "code",
      "source": [
        "# def preprocess(file_path):\n",
        "\n",
        "#     # Read in image from file path\n",
        "#     byte_img = tf.io.read_file(file_path)\n",
        "#     # Load in the image\n",
        "#     img = tf.io.decode_jpeg(byte_img)\n",
        "\n",
        "#     # Preprocessing steps - resizing the image to be 100x100x3\n",
        "#     img = tf.image.resize(img, (100,100))\n",
        "#     # Scale image to be between 0 and 1\n",
        "#     img = img / 255.0\n",
        "\n",
        "#     # Return image\n",
        "#     return img"
      ],
      "metadata": {
        "id": "GH_77SoPrs2S"
      },
      "id": "GH_77SoPrs2S",
      "execution_count": null,
      "outputs": []
    },
    {
      "cell_type": "code",
      "source": [
        "# def process(file_path):\n",
        "\n",
        "#     # Read in image from file path\n",
        "#     byte_img = tf.io.read_file(file_path)\n",
        "#     # Load in the image\n",
        "#     img = tf.io.decode_jpeg(byte_img)\n",
        "\n",
        "#     return img\n",
        "\n",
        "def preprocess_twin(input_img, validation_img, label):\n",
        "    return(preprocess(input_img), preprocess(validation_img), label)"
      ],
      "metadata": {
        "id": "dI3cyHdYrvLg"
      },
      "id": "dI3cyHdYrvLg",
      "execution_count": null,
      "outputs": []
    },
    {
      "cell_type": "code",
      "source": [
        "# # Load and preprocess the anchor, positive, and negative images\n",
        "# anchor_images = [preprocess(path) for path in anchor]\n",
        "# positive_images = [preprocess(path) for path in positive]\n",
        "# negative_images = [preprocess(path) for path in negative]\n",
        "\n",
        "# # Convert the image lists to tensors\n",
        "# anchor = tf.data.Dataset.from_tensor_slices(anchor_images)\n",
        "# positive = tf.data.Dataset.from_tensor_slices(positive_images)\n",
        "# negative = tf.data.Dataset.from_tensor_slices(negative_images)\n",
        "\n",
        "# # Combine the datasets\n",
        "# positives = tf.data.Dataset.zip((anchor, positive, tf.data.Dataset.from_tensor_slices(tf.ones(len(positive)))))\n",
        "# negatives = tf.data.Dataset.zip((anchor, negative, tf.data.Dataset.from_tensor_slices(tf.zeros(len(negative)))))\n",
        "# data = positives.concatenate(negatives)\n",
        "\n",
        "# # Continue with the rest of the code for creating the Siamese network and training\n",
        "\n"
      ],
      "metadata": {
        "id": "YfgqpB07fxFf"
      },
      "id": "YfgqpB07fxFf",
      "execution_count": null,
      "outputs": []
    },
    {
      "cell_type": "code",
      "execution_count": null,
      "id": "56d39927",
      "metadata": {
        "id": "56d39927"
      },
      "outputs": [],
      "source": [
        "positives = tf.data.Dataset.zip((anchor, positive, tf.data.Dataset.from_tensor_slices(tf.ones(len(positive)))))\n",
        "negatives = tf.data.Dataset.zip((anchor, negative, tf.data.Dataset.from_tensor_slices(tf.zeros(len(negative)))))\n",
        "data = positives.concatenate(negatives)"
      ]
    },
    {
      "cell_type": "code",
      "source": [
        "data.element_spec"
      ],
      "metadata": {
        "colab": {
          "base_uri": "https://localhost:8080/"
        },
        "id": "jAYT2mkpZng9",
        "outputId": "138d6fe4-45fb-4f58-e010-d209b9f4b0e6"
      },
      "id": "jAYT2mkpZng9",
      "execution_count": null,
      "outputs": [
        {
          "output_type": "execute_result",
          "data": {
            "text/plain": [
              "(TensorSpec(shape=(), dtype=tf.string, name=None),\n",
              " TensorSpec(shape=(), dtype=tf.string, name=None),\n",
              " TensorSpec(shape=(), dtype=tf.float32, name=None))"
            ]
          },
          "metadata": {},
          "execution_count": 304
        }
      ]
    },
    {
      "cell_type": "code",
      "execution_count": null,
      "id": "09a652bd",
      "metadata": {
        "id": "09a652bd"
      },
      "outputs": [],
      "source": [
        "# num_elements_to_show = 5  # Specify the number of elements to show\n",
        "# positive_samples = positives.take(num_elements_to_show)\n",
        "\n",
        "# for data_point in positive_samples:\n",
        "#     print(data_point)\n"
      ]
    },
    {
      "cell_type": "markdown",
      "source": [],
      "metadata": {
        "id": "NJ356cPITPB4"
      },
      "id": "NJ356cPITPB4"
    },
    {
      "cell_type": "code",
      "execution_count": null,
      "id": "fc3c715a",
      "metadata": {
        "id": "fc3c715a"
      },
      "outputs": [],
      "source": [
        "# samples = data.as_numpy_iterator()"
      ]
    },
    {
      "cell_type": "code",
      "execution_count": null,
      "id": "21b067f3",
      "metadata": {
        "id": "21b067f3"
      },
      "outputs": [],
      "source": [
        "# examples = samples.next()"
      ]
    },
    {
      "cell_type": "markdown",
      "id": "378ee17f",
      "metadata": {
        "id": "378ee17f"
      },
      "source": [
        "## 3.4 Build Train and Test Partition"
      ]
    },
    {
      "cell_type": "code",
      "execution_count": null,
      "id": "edf9c7e2",
      "metadata": {
        "id": "edf9c7e2"
      },
      "outputs": [],
      "source": [
        "def preprocess_twin(input_img, validation_img, label):\n",
        "    return(preprocess(input_img), preprocess(validation_img), label)"
      ]
    },
    {
      "cell_type": "code",
      "execution_count": null,
      "id": "3423194e",
      "metadata": {
        "id": "3423194e"
      },
      "outputs": [],
      "source": [
        "# res = preprocess_twin(*examples)"
      ]
    },
    {
      "cell_type": "code",
      "execution_count": null,
      "id": "227ff16f",
      "metadata": {
        "id": "227ff16f"
      },
      "outputs": [],
      "source": [
        "# plt.imshow(res[1])"
      ]
    },
    {
      "cell_type": "code",
      "execution_count": null,
      "id": "53ec168c",
      "metadata": {
        "id": "53ec168c"
      },
      "outputs": [],
      "source": [
        "# Build dataloader pipeline\n",
        "data = data.map(preprocess_twin)\n",
        "data = data.cache()\n",
        "data = data.shuffle(buffer_size = 1024)"
      ]
    },
    {
      "cell_type": "code",
      "source": [
        "len(data)"
      ],
      "metadata": {
        "colab": {
          "base_uri": "https://localhost:8080/"
        },
        "id": "G9K9v1seQ_Ji",
        "outputId": "8f0fbc7f-ec38-4fad-d0d1-f980c40cf4b1"
      },
      "id": "G9K9v1seQ_Ji",
      "execution_count": null,
      "outputs": [
        {
          "output_type": "execute_result",
          "data": {
            "text/plain": [
              "3734"
            ]
          },
          "metadata": {},
          "execution_count": 17
        }
      ]
    },
    {
      "cell_type": "code",
      "execution_count": null,
      "id": "22ff36af",
      "metadata": {
        "id": "22ff36af"
      },
      "outputs": [],
      "source": [
        "# REPLACED - NOT USED\n",
        "# # Training partition\n",
        "# train_data = data.take(round(len(data)*.7))\n",
        "# # train_data = data.take(4)\n",
        "# print(len(train_data))\n",
        "# train_data = train_data.batch(16)\n",
        "# print(len(train_data))\n",
        "# train_data = train_data.prefetch(8)\n",
        "# print(len(train_data))"
      ]
    },
    {
      "cell_type": "code",
      "execution_count": null,
      "id": "8e1260a5",
      "metadata": {
        "id": "8e1260a5"
      },
      "outputs": [],
      "source": [
        "# REPLACED - NOT USED\n",
        "# # Testing partition\n",
        "# test_data = data.skip(round(len(data)*.7))\n",
        "# # test_data = data.skip(4)\n",
        "# # test_data = test_data.take(round(len(data)*.3)) # use the dataset that has been skipped the amount of what was taken for train_data\n",
        "# print(len(test_data))\n",
        "# test_data = test_data.batch(16)\n",
        "# print(len(test_data))\n",
        "# test_data = test_data.prefetch(8)\n",
        "# print(len(test_data))"
      ]
    },
    {
      "cell_type": "code",
      "source": [],
      "metadata": {
        "id": "HAhN6_lfL0K6"
      },
      "id": "HAhN6_lfL0K6",
      "execution_count": null,
      "outputs": []
    },
    {
      "cell_type": "code",
      "source": [
        "# Split the data into training, validation, and testing partitions\n",
        "train_size = round(len(data) * 0.7)\n",
        "val_size = round(len(data) * 0.2)\n",
        "test_size = len(data) - train_size - val_size\n",
        "\n",
        "train_data = data.take(train_size)\n",
        "val_data = data.skip(train_size).take(val_size)\n",
        "test_data = data.skip(train_size + val_size)"
      ],
      "metadata": {
        "id": "hICb_pGjT7vq"
      },
      "id": "hICb_pGjT7vq",
      "execution_count": null,
      "outputs": []
    },
    {
      "cell_type": "code",
      "source": [
        "print(len(train_data))\n",
        "print(len(val_data))\n",
        "print(len(test_data))"
      ],
      "metadata": {
        "colab": {
          "base_uri": "https://localhost:8080/"
        },
        "id": "1WXKlERKT-2B",
        "outputId": "90acea3a-a724-4d47-b533-97f436f1d700"
      },
      "id": "1WXKlERKT-2B",
      "execution_count": null,
      "outputs": [
        {
          "output_type": "stream",
          "name": "stdout",
          "text": [
            "2614\n",
            "747\n",
            "373\n"
          ]
        }
      ]
    },
    {
      "cell_type": "code",
      "source": [
        "train_data.element_spec"
      ],
      "metadata": {
        "colab": {
          "base_uri": "https://localhost:8080/"
        },
        "id": "TX-Eg7MCNjqO",
        "outputId": "79c3ce3a-bc12-43e5-a5f8-2dcf577e1520"
      },
      "id": "TX-Eg7MCNjqO",
      "execution_count": null,
      "outputs": [
        {
          "output_type": "execute_result",
          "data": {
            "text/plain": [
              "(TensorSpec(shape=(None, 100, 100, None), dtype=tf.float32, name=None),\n",
              " TensorSpec(shape=(None, 100, 100, None), dtype=tf.float32, name=None),\n",
              " TensorSpec(shape=(None,), dtype=tf.float32, name=None))"
            ]
          },
          "metadata": {},
          "execution_count": 332
        }
      ]
    },
    {
      "cell_type": "code",
      "source": [
        "batch_size = 16\n",
        "train_data = train_data.batch(batch_size).prefetch(tf.data.AUTOTUNE) # add , drop_remainder=True after batch_size if want to drop remainder\n",
        "val_data = val_data.batch(batch_size).prefetch(tf.data.AUTOTUNE)\n",
        "test_data = test_data.batch(batch_size).prefetch(tf.data.AUTOTUNE)"
      ],
      "metadata": {
        "id": "lBCEM5JPUF4I"
      },
      "id": "lBCEM5JPUF4I",
      "execution_count": null,
      "outputs": []
    },
    {
      "cell_type": "code",
      "source": [
        "len(test_data)"
      ],
      "metadata": {
        "colab": {
          "base_uri": "https://localhost:8080/"
        },
        "id": "9IbjtCpzu4Zd",
        "outputId": "1e9289d6-96d7-4524-ee36-56ffb9ff4322"
      },
      "id": "9IbjtCpzu4Zd",
      "execution_count": null,
      "outputs": [
        {
          "output_type": "execute_result",
          "data": {
            "text/plain": [
              "24"
            ]
          },
          "metadata": {},
          "execution_count": 21
        }
      ]
    },
    {
      "cell_type": "code",
      "source": [
        "                                                                                                                                      # # Convert tf.data.Dataset to NumPy arrays\n",
        "# train_data_np = np.array(list(train_data.as_numpy_iterator()))\n",
        "# val_data_np = np.array(list(val_data.as_numpy_iterator()))"
      ],
      "metadata": {
        "id": "TaBnVjErkqQB"
      },
      "id": "TaBnVjErkqQB",
      "execution_count": null,
      "outputs": []
    },
    {
      "cell_type": "code",
      "source": [
        "# train_samples = train_data.as_numpy_iterator()"
      ],
      "metadata": {
        "id": "64zTAFBxT24-"
      },
      "id": "64zTAFBxT24-",
      "execution_count": null,
      "outputs": []
    },
    {
      "cell_type": "code",
      "source": [
        "# examples = train_samples.next()"
      ],
      "metadata": {
        "id": "EdH5op65Uibk"
      },
      "id": "EdH5op65Uibk",
      "execution_count": null,
      "outputs": []
    },
    {
      "cell_type": "code",
      "source": [
        "# plt.imshow(examples[0])"
      ],
      "metadata": {
        "id": "z-sVz_p3UkD1"
      },
      "id": "z-sVz_p3UkD1",
      "execution_count": null,
      "outputs": []
    },
    {
      "cell_type": "code",
      "execution_count": null,
      "id": "d0299f90",
      "metadata": {
        "id": "d0299f90"
      },
      "outputs": [],
      "source": [
        "# test_data_samples = test_data.as_numpy_iterator()\n",
        "# examples = train_samples.next()\n"
      ]
    },
    {
      "cell_type": "code",
      "source": [
        "# plt.imshow(examples[1])"
      ],
      "metadata": {
        "id": "8NVS40sqV4oi"
      },
      "id": "8NVS40sqV4oi",
      "execution_count": null,
      "outputs": []
    },
    {
      "cell_type": "markdown",
      "id": "980a817f",
      "metadata": {
        "id": "980a817f"
      },
      "source": [
        "# 4. Model Engineering"
      ]
    },
    {
      "cell_type": "code",
      "source": [
        "def make_embedding():\n",
        "  inp = Input(shape=(100,100,3), name='input_image')\n",
        "\n",
        "  # First block\n",
        "  c1 = Conv2D(64, (10,10), activation='relu')(inp)\n",
        "  m1 = MaxPooling2D(64, (2,2), padding='same')(c1)\n",
        "\n",
        "  # Second block\n",
        "  c2 = Conv2D(128, (7,7), activation='relu')(m1)\n",
        "  m2 = MaxPooling2D(64, (2,2), padding='same')(c2)\n",
        "\n",
        "  # Third block\n",
        "  c3 = Conv2D(128, (4,4), activation='relu')(m2)\n",
        "  m3 = MaxPooling2D(64, (2,2), padding='same')(c3)\n",
        "\n",
        "  # Final embedding block\n",
        "  c4 = Conv2D(256, (4,4), activation='relu')(m3)\n",
        "  f1 = Flatten()(c4)\n",
        "  d1 = Dense(4096, activation='sigmoid')(f1)\n",
        "\n",
        "  return Model(inputs=[inp], outputs=[d1], name='embedding')"
      ],
      "metadata": {
        "id": "IhlOpm66C1h5"
      },
      "id": "IhlOpm66C1h5",
      "execution_count": null,
      "outputs": []
    },
    {
      "cell_type": "code",
      "source": [
        "embedding = make_embedding()"
      ],
      "metadata": {
        "id": "QmkHUPWbC7lM"
      },
      "id": "QmkHUPWbC7lM",
      "execution_count": null,
      "outputs": []
    },
    {
      "cell_type": "code",
      "source": [
        "embedding.summary()"
      ],
      "metadata": {
        "colab": {
          "base_uri": "https://localhost:8080/"
        },
        "id": "u9TAjaUvQUVz",
        "outputId": "1ddf79a4-2f57-435e-d268-e442daefebbf"
      },
      "id": "u9TAjaUvQUVz",
      "execution_count": null,
      "outputs": [
        {
          "output_type": "stream",
          "name": "stdout",
          "text": [
            "Model: \"embedding\"\n",
            "_________________________________________________________________\n",
            " Layer (type)                Output Shape              Param #   \n",
            "=================================================================\n",
            " input_image (InputLayer)    [(None, 100, 100, 3)]     0         \n",
            "                                                                 \n",
            " conv2d (Conv2D)             (None, 91, 91, 64)        19264     \n",
            "                                                                 \n",
            " max_pooling2d (MaxPooling2D  (None, 46, 46, 64)       0         \n",
            " )                                                               \n",
            "                                                                 \n",
            " conv2d_1 (Conv2D)           (None, 40, 40, 128)       401536    \n",
            "                                                                 \n",
            " max_pooling2d_1 (MaxPooling  (None, 20, 20, 128)      0         \n",
            " 2D)                                                             \n",
            "                                                                 \n",
            " conv2d_2 (Conv2D)           (None, 17, 17, 128)       262272    \n",
            "                                                                 \n",
            " max_pooling2d_2 (MaxPooling  (None, 9, 9, 128)        0         \n",
            " 2D)                                                             \n",
            "                                                                 \n",
            " conv2d_3 (Conv2D)           (None, 6, 6, 256)         524544    \n",
            "                                                                 \n",
            " flatten (Flatten)           (None, 9216)              0         \n",
            "                                                                 \n",
            " dense (Dense)               (None, 4096)              37752832  \n",
            "                                                                 \n",
            "=================================================================\n",
            "Total params: 38,960,448\n",
            "Trainable params: 38,960,448\n",
            "Non-trainable params: 0\n",
            "_________________________________________________________________\n"
          ]
        }
      ]
    },
    {
      "cell_type": "code",
      "source": [
        "def make_siamese_model():\n",
        "\n",
        "  # Anchor image input in the network\n",
        "  input_image = Input(name='input_img', shape=(100,100,3))\n",
        "\n",
        "  # Validation image in the network\n",
        "  validation_image = Input(name='validation_img', shape=(100,100,3))\n",
        "\n",
        "  # Combine siamese distance components\n",
        "  siamese_layer = L1Dist()\n",
        "  siamese_layer._name = 'distance'\n",
        "  distances = siamese_layer(embedding(input_image), embedding(validation_image))\n",
        "\n",
        "  # Classification layer\n",
        "  classifier = Dense(1, activation='sigmoid')(distances)\n",
        "\n",
        "  return Model(inputs=[input_image, validation_image], outputs=classifier, name='SiameseNetwork')"
      ],
      "metadata": {
        "id": "z2yZhMXKCSbP"
      },
      "id": "z2yZhMXKCSbP",
      "execution_count": null,
      "outputs": []
    },
    {
      "cell_type": "code",
      "source": [
        "siamese_model = make_siamese_model()"
      ],
      "metadata": {
        "id": "y078yhNoCwzG"
      },
      "id": "y078yhNoCwzG",
      "execution_count": null,
      "outputs": []
    },
    {
      "cell_type": "code",
      "source": [
        "siamese_model.summary()"
      ],
      "metadata": {
        "colab": {
          "base_uri": "https://localhost:8080/"
        },
        "id": "joySCiMjQX6c",
        "outputId": "eca402b0-78bd-49b6-9b59-32ebfb1ad2af"
      },
      "id": "joySCiMjQX6c",
      "execution_count": null,
      "outputs": [
        {
          "output_type": "stream",
          "name": "stdout",
          "text": [
            "Model: \"SiameseNetwork\"\n",
            "__________________________________________________________________________________________________\n",
            " Layer (type)                   Output Shape         Param #     Connected to                     \n",
            "==================================================================================================\n",
            " input_img (InputLayer)         [(None, 100, 100, 3  0           []                               \n",
            "                                )]                                                                \n",
            "                                                                                                  \n",
            " validation_img (InputLayer)    [(None, 100, 100, 3  0           []                               \n",
            "                                )]                                                                \n",
            "                                                                                                  \n",
            " embedding (Functional)         (None, 4096)         38960448    ['input_img[0][0]',              \n",
            "                                                                  'validation_img[0][0]']         \n",
            "                                                                                                  \n",
            " distance (L1Dist)              (None, 4096)         0           ['embedding[0][0]',              \n",
            "                                                                  'embedding[1][0]']              \n",
            "                                                                                                  \n",
            " dense_1 (Dense)                (None, 1)            4097        ['distance[0][0]']               \n",
            "                                                                                                  \n",
            "==================================================================================================\n",
            "Total params: 38,964,545\n",
            "Trainable params: 38,964,545\n",
            "Non-trainable params: 0\n",
            "__________________________________________________________________________________________________\n"
          ]
        }
      ]
    },
    {
      "cell_type": "code",
      "source": [
        "# Siamese L1 Distance class -- possible to change to equillibrium distance\n",
        "class L1Dist(Layer):\n",
        "\n",
        "    # Init method - inheritance\n",
        "    def __init__(self, **kwargs):\n",
        "        super().__init__()\n",
        "\n",
        "    # Magic happens here - similarity calculation\n",
        "    def call(self, input_embedding, validation_embedding):\n",
        "        return tf.math.abs(input_embedding - validation_embedding)"
      ],
      "metadata": {
        "id": "ydb2Jw4tCB8u"
      },
      "id": "ydb2Jw4tCB8u",
      "execution_count": null,
      "outputs": []
    },
    {
      "cell_type": "code",
      "source": [
        "import tf.keras.backend as K\n",
        "# Equillibrium Distance class\n",
        "def equillibrium_distance(vectors):\n",
        "  v1, v2 = vectors\n",
        "  sum_square = K.sum(K.square(v1 - v2), axis=1, keepdims=True)\n",
        "  return K.sqrt(K.maximum(sum_square, K.epsilon()))\n"
      ],
      "metadata": {
        "id": "vwWkDb6gqHCV"
      },
      "id": "vwWkDb6gqHCV",
      "execution_count": null,
      "outputs": []
    },
    {
      "cell_type": "code",
      "source": [
        "l1 = L1Dist()"
      ],
      "metadata": {
        "id": "NbR03NsBCHxi"
      },
      "id": "NbR03NsBCHxi",
      "execution_count": null,
      "outputs": []
    },
    {
      "cell_type": "code",
      "source": [
        "# Function to create the Siamese Neural Network model\n",
        "def create_siamese_model(learning_rate=1e-4):\n",
        "\n",
        "     # Anchor image input in the network\n",
        "    input_image = Input(name='input_img', shape=(100, 100, 3))\n",
        "\n",
        "    # Validation image in the network\n",
        "    validation_image = Input(name='validation_img', shape=(100, 100, 3))\n",
        "\n",
        "    # Combine siamese distance components\n",
        "    siamese_layer = L1Dist()\n",
        "    siamese_layer._name = 'distance'\n",
        "    distances = siamese_layer(embedding(input_image), embedding(validation_image))\n",
        "\n",
        "    # Classification layer\n",
        "    classifier = Dense(1, activation='sigmoid')(distances)\n",
        "\n",
        "    siamese_model = Model(inputs=[input_image, validation_image], outputs=classifier, name='SiameseNetwork')\n",
        "\n",
        "    # Compile the model with the loss function\n",
        "    siamese_model.compile(loss='binary_crossentropy', optimizer='adam')\n",
        "\n",
        "    return siamese_model"
      ],
      "metadata": {
        "id": "yfVo1QhprlHd"
      },
      "id": "yfVo1QhprlHd",
      "execution_count": null,
      "outputs": []
    },
    {
      "cell_type": "code",
      "source": [
        "from tensorflow.keras.layers import Lambda\n",
        "# Function to create the Siamese Neural Network model\n",
        "def create_siamese_model(learning_rate=1e-4):\n",
        "\n",
        "     # Anchor image input in the network\n",
        "    input_image = Input(name='input_img', shape=(100, 100, 3))\n",
        "\n",
        "    # Validation image in the network\n",
        "    validation_image = Input(name='validation_img', shape=(100, 100, 3))\n",
        "\n",
        "    embedded_anchor = embedding(input_image)\n",
        "    embedded_val = embedding(validation_image)\n",
        "\n",
        "    # Distance\n",
        "    distance = Lambda(equillibrium_distance, output_shape=(1,))([embedded_anchor, embedded_val])\n",
        "\n",
        "    # Classification layer\n",
        "    classifier = Dense(1, activation='sigmoid')(distance)\n",
        "\n",
        "    siamese_model = Model(inputs=[input_image, validation_image], outputs=classifier, name='SiameseNetwork')\n",
        "\n",
        "    # Compile the model with the loss function\n",
        "    siamese_model.compile(loss='binary_crossentropy', optimizer='adam')\n",
        "\n",
        "    return siamese_model"
      ],
      "metadata": {
        "id": "r8jwD4rvrmED"
      },
      "id": "r8jwD4rvrmED",
      "execution_count": null,
      "outputs": []
    },
    {
      "cell_type": "code",
      "source": [],
      "metadata": {
        "id": "pK2JBPearmLV"
      },
      "id": "pK2JBPearmLV",
      "execution_count": null,
      "outputs": []
    },
    {
      "cell_type": "code",
      "source": [
        "import tensorflow_datasets as tfds\n",
        "train_data.element_spec"
      ],
      "metadata": {
        "colab": {
          "base_uri": "https://localhost:8080/"
        },
        "id": "9tUSJ5mCY5-g",
        "outputId": "9ebcc80f-4884-4b94-b82b-30aab356bd29"
      },
      "id": "9tUSJ5mCY5-g",
      "execution_count": null,
      "outputs": [
        {
          "output_type": "execute_result",
          "data": {
            "text/plain": [
              "(TensorSpec(shape=(None, 100, 100, None), dtype=tf.float32, name=None),\n",
              " TensorSpec(shape=(None, 100, 100, None), dtype=tf.float32, name=None),\n",
              " TensorSpec(shape=(None,), dtype=tf.float32, name=None))"
            ]
          },
          "metadata": {},
          "execution_count": 331
        }
      ]
    },
    {
      "cell_type": "code",
      "source": [
        "# Extract the labels from train_data and convert them to a NumPy array\n",
        "y_train = np.array(list(train_data.map(lambda anchor, sample, label: label).as_numpy_iterator()))\n",
        "# Extract the labels from val_data and convert them to a NumPy array\n",
        "y_val = np.array(list(val_data.map(lambda anchor, sample, label: label).as_numpy_iterator()))\n",
        "print(len(y_train))\n",
        "print(len(y_val))\n",
        "print(len(train_data))\n",
        "print(len(val_data))\n",
        "\n",
        "# Wrap the model creation function in KerasClassifier for use with scikit-learn\n",
        "model = KerasClassifier(build_fn=create_siamese_model, verbose=0)\n",
        "\n",
        "# Define hyperparameter grid for grid search\n",
        "param_grid = {\n",
        "    'learning_rate': [1e-4, 1e-3],\n",
        "    'batch_size': [16, 32],\n",
        "    'dropout_rate': [0.2, 0.4, 0.6],\n",
        "    'optimizer': ['adam', 'adamax', 'resprop']\n",
        "}\n",
        "# Perform GridSearchCV for hyperparameter tuning\n",
        "grid = GridSearchCV(estimator=model, param_grid=param_grid, cv=3, error_score='raise')\n",
        "\n",
        "# Fit the grid search on the data with labels (y_train) and validation data (val_data)\n",
        "grid_result = grid.fit(train_data, y_train, validation_data=(val_data, y_val))\n",
        "\n",
        "# Get the best hyperparameters from the search\n",
        "best_learning_rate = grid_result.best_params_['learning_rate']\n",
        "best_batch_size = grid_result.best_params_['batch_size']\n",
        "best_dropout_rate = grid_result.best_params_['dropout_rate']\n",
        "best_optimizer = grid_result.best_params_['optimizer']"
      ],
      "metadata": {
        "colab": {
          "base_uri": "https://localhost:8080/",
          "height": 608
        },
        "id": "_bI9fugVkDtC",
        "outputId": "826af7d7-a1d2-434a-abad-d932c3d3c5e5"
      },
      "id": "_bI9fugVkDtC",
      "execution_count": null,
      "outputs": [
        {
          "output_type": "stream",
          "name": "stdout",
          "text": [
            "164\n",
            "47\n",
            "164\n",
            "47\n"
          ]
        },
        {
          "output_type": "stream",
          "name": "stderr",
          "text": [
            "<ipython-input-48-1575070990c0>:2: VisibleDeprecationWarning: Creating an ndarray from ragged nested sequences (which is a list-or-tuple of lists-or-tuples-or ndarrays with different lengths or shapes) is deprecated. If you meant to do this, you must specify 'dtype=object' when creating the ndarray.\n",
            "  y_train = np.array(list(train_data.map(lambda anchor, sample, label: label).as_numpy_iterator()))\n",
            "<ipython-input-48-1575070990c0>:4: VisibleDeprecationWarning: Creating an ndarray from ragged nested sequences (which is a list-or-tuple of lists-or-tuples-or ndarrays with different lengths or shapes) is deprecated. If you meant to do this, you must specify 'dtype=object' when creating the ndarray.\n",
            "  y_val = np.array(list(val_data.map(lambda anchor, sample, label: label).as_numpy_iterator()))\n",
            "<ipython-input-48-1575070990c0>:11: DeprecationWarning: KerasClassifier is deprecated, use Sci-Keras (https://github.com/adriangb/scikeras) instead. See https://www.adriangb.com/scikeras/stable/migration.html for help migrating.\n",
            "  model = KerasClassifier(build_fn=create_siamese_model, verbose=0)\n"
          ]
        },
        {
          "output_type": "error",
          "ename": "TypeError",
          "evalue": "ignored",
          "traceback": [
            "\u001b[0;31m---------------------------------------------------------------------------\u001b[0m",
            "\u001b[0;31mTypeError\u001b[0m                                 Traceback (most recent call last)",
            "\u001b[0;32m<ipython-input-48-1575070990c0>\u001b[0m in \u001b[0;36m<cell line: 24>\u001b[0;34m()\u001b[0m\n\u001b[1;32m     22\u001b[0m \u001b[0;34m\u001b[0m\u001b[0m\n\u001b[1;32m     23\u001b[0m \u001b[0;31m# Fit the grid search on the data with labels (y_train) and validation data (val_data)\u001b[0m\u001b[0;34m\u001b[0m\u001b[0;34m\u001b[0m\u001b[0m\n\u001b[0;32m---> 24\u001b[0;31m \u001b[0mgrid_result\u001b[0m \u001b[0;34m=\u001b[0m \u001b[0mgrid\u001b[0m\u001b[0;34m.\u001b[0m\u001b[0mfit\u001b[0m\u001b[0;34m(\u001b[0m\u001b[0mtrain_data\u001b[0m\u001b[0;34m,\u001b[0m \u001b[0my_train\u001b[0m\u001b[0;34m,\u001b[0m \u001b[0mvalidation_data\u001b[0m\u001b[0;34m=\u001b[0m\u001b[0;34m(\u001b[0m\u001b[0mval_data\u001b[0m\u001b[0;34m,\u001b[0m \u001b[0my_val\u001b[0m\u001b[0;34m)\u001b[0m\u001b[0;34m)\u001b[0m\u001b[0;34m\u001b[0m\u001b[0;34m\u001b[0m\u001b[0m\n\u001b[0m\u001b[1;32m     25\u001b[0m \u001b[0;34m\u001b[0m\u001b[0m\n\u001b[1;32m     26\u001b[0m \u001b[0;31m# Get the best hyperparameters from the search\u001b[0m\u001b[0;34m\u001b[0m\u001b[0;34m\u001b[0m\u001b[0m\n",
            "\u001b[0;32m/usr/local/lib/python3.10/dist-packages/sklearn/model_selection/_search.py\u001b[0m in \u001b[0;36mfit\u001b[0;34m(self, X, y, groups, **fit_params)\u001b[0m\n\u001b[1;32m    780\u001b[0m             \u001b[0mrefit_metric\u001b[0m \u001b[0;34m=\u001b[0m \u001b[0mself\u001b[0m\u001b[0;34m.\u001b[0m\u001b[0mrefit\u001b[0m\u001b[0;34m\u001b[0m\u001b[0;34m\u001b[0m\u001b[0m\n\u001b[1;32m    781\u001b[0m \u001b[0;34m\u001b[0m\u001b[0m\n\u001b[0;32m--> 782\u001b[0;31m         \u001b[0mX\u001b[0m\u001b[0;34m,\u001b[0m \u001b[0my\u001b[0m\u001b[0;34m,\u001b[0m \u001b[0mgroups\u001b[0m \u001b[0;34m=\u001b[0m \u001b[0mindexable\u001b[0m\u001b[0;34m(\u001b[0m\u001b[0mX\u001b[0m\u001b[0;34m,\u001b[0m \u001b[0my\u001b[0m\u001b[0;34m,\u001b[0m \u001b[0mgroups\u001b[0m\u001b[0;34m)\u001b[0m\u001b[0;34m\u001b[0m\u001b[0;34m\u001b[0m\u001b[0m\n\u001b[0m\u001b[1;32m    783\u001b[0m         \u001b[0mfit_params\u001b[0m \u001b[0;34m=\u001b[0m \u001b[0m_check_fit_params\u001b[0m\u001b[0;34m(\u001b[0m\u001b[0mX\u001b[0m\u001b[0;34m,\u001b[0m \u001b[0mfit_params\u001b[0m\u001b[0;34m)\u001b[0m\u001b[0;34m\u001b[0m\u001b[0;34m\u001b[0m\u001b[0m\n\u001b[1;32m    784\u001b[0m \u001b[0;34m\u001b[0m\u001b[0m\n",
            "\u001b[0;32m/usr/local/lib/python3.10/dist-packages/sklearn/utils/validation.py\u001b[0m in \u001b[0;36mindexable\u001b[0;34m(*iterables)\u001b[0m\n\u001b[1;32m    441\u001b[0m \u001b[0;34m\u001b[0m\u001b[0m\n\u001b[1;32m    442\u001b[0m     \u001b[0mresult\u001b[0m \u001b[0;34m=\u001b[0m \u001b[0;34m[\u001b[0m\u001b[0m_make_indexable\u001b[0m\u001b[0;34m(\u001b[0m\u001b[0mX\u001b[0m\u001b[0;34m)\u001b[0m \u001b[0;32mfor\u001b[0m \u001b[0mX\u001b[0m \u001b[0;32min\u001b[0m \u001b[0miterables\u001b[0m\u001b[0;34m]\u001b[0m\u001b[0;34m\u001b[0m\u001b[0;34m\u001b[0m\u001b[0m\n\u001b[0;32m--> 443\u001b[0;31m     \u001b[0mcheck_consistent_length\u001b[0m\u001b[0;34m(\u001b[0m\u001b[0;34m*\u001b[0m\u001b[0mresult\u001b[0m\u001b[0;34m)\u001b[0m\u001b[0;34m\u001b[0m\u001b[0;34m\u001b[0m\u001b[0m\n\u001b[0m\u001b[1;32m    444\u001b[0m     \u001b[0;32mreturn\u001b[0m \u001b[0mresult\u001b[0m\u001b[0;34m\u001b[0m\u001b[0;34m\u001b[0m\u001b[0m\n\u001b[1;32m    445\u001b[0m \u001b[0;34m\u001b[0m\u001b[0m\n",
            "\u001b[0;32m/usr/local/lib/python3.10/dist-packages/sklearn/utils/validation.py\u001b[0m in \u001b[0;36mcheck_consistent_length\u001b[0;34m(*arrays)\u001b[0m\n\u001b[1;32m    392\u001b[0m     \"\"\"\n\u001b[1;32m    393\u001b[0m \u001b[0;34m\u001b[0m\u001b[0m\n\u001b[0;32m--> 394\u001b[0;31m     \u001b[0mlengths\u001b[0m \u001b[0;34m=\u001b[0m \u001b[0;34m[\u001b[0m\u001b[0m_num_samples\u001b[0m\u001b[0;34m(\u001b[0m\u001b[0mX\u001b[0m\u001b[0;34m)\u001b[0m \u001b[0;32mfor\u001b[0m \u001b[0mX\u001b[0m \u001b[0;32min\u001b[0m \u001b[0marrays\u001b[0m \u001b[0;32mif\u001b[0m \u001b[0mX\u001b[0m \u001b[0;32mis\u001b[0m \u001b[0;32mnot\u001b[0m \u001b[0;32mNone\u001b[0m\u001b[0;34m]\u001b[0m\u001b[0;34m\u001b[0m\u001b[0;34m\u001b[0m\u001b[0m\n\u001b[0m\u001b[1;32m    395\u001b[0m     \u001b[0muniques\u001b[0m \u001b[0;34m=\u001b[0m \u001b[0mnp\u001b[0m\u001b[0;34m.\u001b[0m\u001b[0munique\u001b[0m\u001b[0;34m(\u001b[0m\u001b[0mlengths\u001b[0m\u001b[0;34m)\u001b[0m\u001b[0;34m\u001b[0m\u001b[0;34m\u001b[0m\u001b[0m\n\u001b[1;32m    396\u001b[0m     \u001b[0;32mif\u001b[0m \u001b[0mlen\u001b[0m\u001b[0;34m(\u001b[0m\u001b[0muniques\u001b[0m\u001b[0;34m)\u001b[0m \u001b[0;34m>\u001b[0m \u001b[0;36m1\u001b[0m\u001b[0;34m:\u001b[0m\u001b[0;34m\u001b[0m\u001b[0;34m\u001b[0m\u001b[0m\n",
            "\u001b[0;32m/usr/local/lib/python3.10/dist-packages/sklearn/utils/validation.py\u001b[0m in \u001b[0;36m<listcomp>\u001b[0;34m(.0)\u001b[0m\n\u001b[1;32m    392\u001b[0m     \"\"\"\n\u001b[1;32m    393\u001b[0m \u001b[0;34m\u001b[0m\u001b[0m\n\u001b[0;32m--> 394\u001b[0;31m     \u001b[0mlengths\u001b[0m \u001b[0;34m=\u001b[0m \u001b[0;34m[\u001b[0m\u001b[0m_num_samples\u001b[0m\u001b[0;34m(\u001b[0m\u001b[0mX\u001b[0m\u001b[0;34m)\u001b[0m \u001b[0;32mfor\u001b[0m \u001b[0mX\u001b[0m \u001b[0;32min\u001b[0m \u001b[0marrays\u001b[0m \u001b[0;32mif\u001b[0m \u001b[0mX\u001b[0m \u001b[0;32mis\u001b[0m \u001b[0;32mnot\u001b[0m \u001b[0;32mNone\u001b[0m\u001b[0;34m]\u001b[0m\u001b[0;34m\u001b[0m\u001b[0;34m\u001b[0m\u001b[0m\n\u001b[0m\u001b[1;32m    395\u001b[0m     \u001b[0muniques\u001b[0m \u001b[0;34m=\u001b[0m \u001b[0mnp\u001b[0m\u001b[0;34m.\u001b[0m\u001b[0munique\u001b[0m\u001b[0;34m(\u001b[0m\u001b[0mlengths\u001b[0m\u001b[0;34m)\u001b[0m\u001b[0;34m\u001b[0m\u001b[0;34m\u001b[0m\u001b[0m\n\u001b[1;32m    396\u001b[0m     \u001b[0;32mif\u001b[0m \u001b[0mlen\u001b[0m\u001b[0;34m(\u001b[0m\u001b[0muniques\u001b[0m\u001b[0;34m)\u001b[0m \u001b[0;34m>\u001b[0m \u001b[0;36m1\u001b[0m\u001b[0;34m:\u001b[0m\u001b[0;34m\u001b[0m\u001b[0;34m\u001b[0m\u001b[0m\n",
            "\u001b[0;32m/usr/local/lib/python3.10/dist-packages/sklearn/utils/validation.py\u001b[0m in \u001b[0;36m_num_samples\u001b[0;34m(x)\u001b[0m\n\u001b[1;32m    333\u001b[0m     \u001b[0;32mif\u001b[0m \u001b[0mhasattr\u001b[0m\u001b[0;34m(\u001b[0m\u001b[0mx\u001b[0m\u001b[0;34m,\u001b[0m \u001b[0;34m\"shape\"\u001b[0m\u001b[0;34m)\u001b[0m \u001b[0;32mand\u001b[0m \u001b[0mx\u001b[0m\u001b[0;34m.\u001b[0m\u001b[0mshape\u001b[0m \u001b[0;32mis\u001b[0m \u001b[0;32mnot\u001b[0m \u001b[0;32mNone\u001b[0m\u001b[0;34m:\u001b[0m\u001b[0;34m\u001b[0m\u001b[0;34m\u001b[0m\u001b[0m\n\u001b[1;32m    334\u001b[0m         \u001b[0;32mif\u001b[0m \u001b[0mlen\u001b[0m\u001b[0;34m(\u001b[0m\u001b[0mx\u001b[0m\u001b[0;34m.\u001b[0m\u001b[0mshape\u001b[0m\u001b[0;34m)\u001b[0m \u001b[0;34m==\u001b[0m \u001b[0;36m0\u001b[0m\u001b[0;34m:\u001b[0m\u001b[0;34m\u001b[0m\u001b[0;34m\u001b[0m\u001b[0m\n\u001b[0;32m--> 335\u001b[0;31m             raise TypeError(\n\u001b[0m\u001b[1;32m    336\u001b[0m                 \u001b[0;34m\"Singleton array %r cannot be considered a valid collection.\"\u001b[0m \u001b[0;34m%\u001b[0m \u001b[0mx\u001b[0m\u001b[0;34m\u001b[0m\u001b[0;34m\u001b[0m\u001b[0m\n\u001b[1;32m    337\u001b[0m             )\n",
            "\u001b[0;31mTypeError\u001b[0m: Singleton array array(<_PrefetchDataset element_spec=(TensorSpec(shape=(None, 100, 100, None), dtype=tf.float32, name=None), TensorSpec(shape=(None, 100, 100, None), dtype=tf.float32, name=None), TensorSpec(shape=(None,), dtype=tf.float32, name=None))>,\n      dtype=object) cannot be considered a valid collection."
          ]
        }
      ]
    },
    {
      "cell_type": "code",
      "source": [
        "def extract_labels(data_generator):\n",
        "  labels = np.array([label for _, _, label in data.as_numpy_iterator()])\n",
        "  return labels\n",
        "\n",
        "y_train = extract_labels(train_data)\n",
        "y_val = extract_labels(val_data)\n",
        "\n",
        "train_data = train_data.map(lambda anchor, sample, label: (anchor / 255.0, sample / 255.0, label))\n",
        "val_data = val_data.map(lambda anchor, sample, label: (anchor / 255.0, sample / 255.0, label))\n",
        "\n",
        "# Wrap the model creation function in KerasClassifier for use with scikit-learn\n",
        "model = KerasClassifier(build_fn=create_siamese_model, verbose=0)\n",
        "\n",
        "# Define hyperparameter grid for grid search\n",
        "param_grid = {\n",
        "    'learning_rate': [1e-4, 1e-3],\n",
        "    'batch_size': [16, 32],\n",
        "    'dropout_rate': [0.2, 0.4, 0.6],\n",
        "    'optimizer': ['adam', 'adamax', 'resprop']\n",
        "}\n",
        "\n",
        "# Perform GridSearchCV for hyperparameter tuning\n",
        "grid = GridSearchCV(estimator=model, param_grid=param_grid, cv=3, error_score='raise')\n",
        "\n",
        "# Fit the grid search on the data with labels (y_train) and validation data (val_data)\n",
        "grid_result = grid.fit(train_data, y_train, validation_data=val_data)\n",
        "\n",
        "\n",
        "# Get the best hyperparameters from the search\n",
        "best_learning_rate = grid_result.best_params_['learning_rate']\n",
        "best_batch_size = grid_result.best_params_['batch_size']\n",
        "best_dropout_rate = grid_result.best_params_['dropout_rate']\n",
        "best_optimizer = grid_result.best_params_['optimizer']"
      ],
      "metadata": {
        "colab": {
          "base_uri": "https://localhost:8080/",
          "height": 504
        },
        "id": "9c4UD-ImvlaV",
        "outputId": "d5299552-1075-4c6f-e497-2659a47b9ae5"
      },
      "id": "9c4UD-ImvlaV",
      "execution_count": null,
      "outputs": [
        {
          "output_type": "stream",
          "name": "stderr",
          "text": [
            "<ipython-input-50-25bb4c315a63>:2: VisibleDeprecationWarning: Creating an ndarray from ragged nested sequences (which is a list-or-tuple of lists-or-tuples-or ndarrays with different lengths or shapes) is deprecated. If you meant to do this, you must specify 'dtype=object' when creating the ndarray.\n",
            "  return np.array([label for _, _, label in data_generator.as_numpy_iterator()])\n",
            "<ipython-input-50-25bb4c315a63>:11: DeprecationWarning: KerasClassifier is deprecated, use Sci-Keras (https://github.com/adriangb/scikeras) instead. See https://www.adriangb.com/scikeras/stable/migration.html for help migrating.\n",
            "  model = KerasClassifier(build_fn=create_siamese_model, verbose=0)\n"
          ]
        },
        {
          "output_type": "error",
          "ename": "TypeError",
          "evalue": "ignored",
          "traceback": [
            "\u001b[0;31m---------------------------------------------------------------------------\u001b[0m",
            "\u001b[0;31mTypeError\u001b[0m                                 Traceback (most recent call last)",
            "\u001b[0;32m<ipython-input-50-25bb4c315a63>\u001b[0m in \u001b[0;36m<cell line: 25>\u001b[0;34m()\u001b[0m\n\u001b[1;32m     23\u001b[0m \u001b[0;34m\u001b[0m\u001b[0m\n\u001b[1;32m     24\u001b[0m \u001b[0;31m# Fit the grid search on the data with labels (y_train) and validation data (val_data)\u001b[0m\u001b[0;34m\u001b[0m\u001b[0;34m\u001b[0m\u001b[0m\n\u001b[0;32m---> 25\u001b[0;31m \u001b[0mgrid_result\u001b[0m \u001b[0;34m=\u001b[0m \u001b[0mgrid\u001b[0m\u001b[0;34m.\u001b[0m\u001b[0mfit\u001b[0m\u001b[0;34m(\u001b[0m\u001b[0mtrain_data\u001b[0m\u001b[0;34m,\u001b[0m \u001b[0my_train\u001b[0m\u001b[0;34m,\u001b[0m \u001b[0mvalidation_data\u001b[0m\u001b[0;34m=\u001b[0m\u001b[0;34m(\u001b[0m\u001b[0mval_data\u001b[0m\u001b[0;34m,\u001b[0m \u001b[0my_val\u001b[0m\u001b[0;34m)\u001b[0m\u001b[0;34m)\u001b[0m\u001b[0;34m\u001b[0m\u001b[0;34m\u001b[0m\u001b[0m\n\u001b[0m\u001b[1;32m     26\u001b[0m \u001b[0;34m\u001b[0m\u001b[0m\n\u001b[1;32m     27\u001b[0m \u001b[0;31m# Get the best hyperparameters from the search\u001b[0m\u001b[0;34m\u001b[0m\u001b[0;34m\u001b[0m\u001b[0m\n",
            "\u001b[0;32m/usr/local/lib/python3.10/dist-packages/sklearn/model_selection/_search.py\u001b[0m in \u001b[0;36mfit\u001b[0;34m(self, X, y, groups, **fit_params)\u001b[0m\n\u001b[1;32m    780\u001b[0m             \u001b[0mrefit_metric\u001b[0m \u001b[0;34m=\u001b[0m \u001b[0mself\u001b[0m\u001b[0;34m.\u001b[0m\u001b[0mrefit\u001b[0m\u001b[0;34m\u001b[0m\u001b[0;34m\u001b[0m\u001b[0m\n\u001b[1;32m    781\u001b[0m \u001b[0;34m\u001b[0m\u001b[0m\n\u001b[0;32m--> 782\u001b[0;31m         \u001b[0mX\u001b[0m\u001b[0;34m,\u001b[0m \u001b[0my\u001b[0m\u001b[0;34m,\u001b[0m \u001b[0mgroups\u001b[0m \u001b[0;34m=\u001b[0m \u001b[0mindexable\u001b[0m\u001b[0;34m(\u001b[0m\u001b[0mX\u001b[0m\u001b[0;34m,\u001b[0m \u001b[0my\u001b[0m\u001b[0;34m,\u001b[0m \u001b[0mgroups\u001b[0m\u001b[0;34m)\u001b[0m\u001b[0;34m\u001b[0m\u001b[0;34m\u001b[0m\u001b[0m\n\u001b[0m\u001b[1;32m    783\u001b[0m         \u001b[0mfit_params\u001b[0m \u001b[0;34m=\u001b[0m \u001b[0m_check_fit_params\u001b[0m\u001b[0;34m(\u001b[0m\u001b[0mX\u001b[0m\u001b[0;34m,\u001b[0m \u001b[0mfit_params\u001b[0m\u001b[0;34m)\u001b[0m\u001b[0;34m\u001b[0m\u001b[0;34m\u001b[0m\u001b[0m\n\u001b[1;32m    784\u001b[0m \u001b[0;34m\u001b[0m\u001b[0m\n",
            "\u001b[0;32m/usr/local/lib/python3.10/dist-packages/sklearn/utils/validation.py\u001b[0m in \u001b[0;36mindexable\u001b[0;34m(*iterables)\u001b[0m\n\u001b[1;32m    441\u001b[0m \u001b[0;34m\u001b[0m\u001b[0m\n\u001b[1;32m    442\u001b[0m     \u001b[0mresult\u001b[0m \u001b[0;34m=\u001b[0m \u001b[0;34m[\u001b[0m\u001b[0m_make_indexable\u001b[0m\u001b[0;34m(\u001b[0m\u001b[0mX\u001b[0m\u001b[0;34m)\u001b[0m \u001b[0;32mfor\u001b[0m \u001b[0mX\u001b[0m \u001b[0;32min\u001b[0m \u001b[0miterables\u001b[0m\u001b[0;34m]\u001b[0m\u001b[0;34m\u001b[0m\u001b[0;34m\u001b[0m\u001b[0m\n\u001b[0;32m--> 443\u001b[0;31m     \u001b[0mcheck_consistent_length\u001b[0m\u001b[0;34m(\u001b[0m\u001b[0;34m*\u001b[0m\u001b[0mresult\u001b[0m\u001b[0;34m)\u001b[0m\u001b[0;34m\u001b[0m\u001b[0;34m\u001b[0m\u001b[0m\n\u001b[0m\u001b[1;32m    444\u001b[0m     \u001b[0;32mreturn\u001b[0m \u001b[0mresult\u001b[0m\u001b[0;34m\u001b[0m\u001b[0;34m\u001b[0m\u001b[0m\n\u001b[1;32m    445\u001b[0m \u001b[0;34m\u001b[0m\u001b[0m\n",
            "\u001b[0;32m/usr/local/lib/python3.10/dist-packages/sklearn/utils/validation.py\u001b[0m in \u001b[0;36mcheck_consistent_length\u001b[0;34m(*arrays)\u001b[0m\n\u001b[1;32m    392\u001b[0m     \"\"\"\n\u001b[1;32m    393\u001b[0m \u001b[0;34m\u001b[0m\u001b[0m\n\u001b[0;32m--> 394\u001b[0;31m     \u001b[0mlengths\u001b[0m \u001b[0;34m=\u001b[0m \u001b[0;34m[\u001b[0m\u001b[0m_num_samples\u001b[0m\u001b[0;34m(\u001b[0m\u001b[0mX\u001b[0m\u001b[0;34m)\u001b[0m \u001b[0;32mfor\u001b[0m \u001b[0mX\u001b[0m \u001b[0;32min\u001b[0m \u001b[0marrays\u001b[0m \u001b[0;32mif\u001b[0m \u001b[0mX\u001b[0m \u001b[0;32mis\u001b[0m \u001b[0;32mnot\u001b[0m \u001b[0;32mNone\u001b[0m\u001b[0;34m]\u001b[0m\u001b[0;34m\u001b[0m\u001b[0;34m\u001b[0m\u001b[0m\n\u001b[0m\u001b[1;32m    395\u001b[0m     \u001b[0muniques\u001b[0m \u001b[0;34m=\u001b[0m \u001b[0mnp\u001b[0m\u001b[0;34m.\u001b[0m\u001b[0munique\u001b[0m\u001b[0;34m(\u001b[0m\u001b[0mlengths\u001b[0m\u001b[0;34m)\u001b[0m\u001b[0;34m\u001b[0m\u001b[0;34m\u001b[0m\u001b[0m\n\u001b[1;32m    396\u001b[0m     \u001b[0;32mif\u001b[0m \u001b[0mlen\u001b[0m\u001b[0;34m(\u001b[0m\u001b[0muniques\u001b[0m\u001b[0;34m)\u001b[0m \u001b[0;34m>\u001b[0m \u001b[0;36m1\u001b[0m\u001b[0;34m:\u001b[0m\u001b[0;34m\u001b[0m\u001b[0;34m\u001b[0m\u001b[0m\n",
            "\u001b[0;32m/usr/local/lib/python3.10/dist-packages/sklearn/utils/validation.py\u001b[0m in \u001b[0;36m<listcomp>\u001b[0;34m(.0)\u001b[0m\n\u001b[1;32m    392\u001b[0m     \"\"\"\n\u001b[1;32m    393\u001b[0m \u001b[0;34m\u001b[0m\u001b[0m\n\u001b[0;32m--> 394\u001b[0;31m     \u001b[0mlengths\u001b[0m \u001b[0;34m=\u001b[0m \u001b[0;34m[\u001b[0m\u001b[0m_num_samples\u001b[0m\u001b[0;34m(\u001b[0m\u001b[0mX\u001b[0m\u001b[0;34m)\u001b[0m \u001b[0;32mfor\u001b[0m \u001b[0mX\u001b[0m \u001b[0;32min\u001b[0m \u001b[0marrays\u001b[0m \u001b[0;32mif\u001b[0m \u001b[0mX\u001b[0m \u001b[0;32mis\u001b[0m \u001b[0;32mnot\u001b[0m \u001b[0;32mNone\u001b[0m\u001b[0;34m]\u001b[0m\u001b[0;34m\u001b[0m\u001b[0;34m\u001b[0m\u001b[0m\n\u001b[0m\u001b[1;32m    395\u001b[0m     \u001b[0muniques\u001b[0m \u001b[0;34m=\u001b[0m \u001b[0mnp\u001b[0m\u001b[0;34m.\u001b[0m\u001b[0munique\u001b[0m\u001b[0;34m(\u001b[0m\u001b[0mlengths\u001b[0m\u001b[0;34m)\u001b[0m\u001b[0;34m\u001b[0m\u001b[0;34m\u001b[0m\u001b[0m\n\u001b[1;32m    396\u001b[0m     \u001b[0;32mif\u001b[0m \u001b[0mlen\u001b[0m\u001b[0;34m(\u001b[0m\u001b[0muniques\u001b[0m\u001b[0;34m)\u001b[0m \u001b[0;34m>\u001b[0m \u001b[0;36m1\u001b[0m\u001b[0;34m:\u001b[0m\u001b[0;34m\u001b[0m\u001b[0;34m\u001b[0m\u001b[0m\n",
            "\u001b[0;32m/usr/local/lib/python3.10/dist-packages/sklearn/utils/validation.py\u001b[0m in \u001b[0;36m_num_samples\u001b[0;34m(x)\u001b[0m\n\u001b[1;32m    333\u001b[0m     \u001b[0;32mif\u001b[0m \u001b[0mhasattr\u001b[0m\u001b[0;34m(\u001b[0m\u001b[0mx\u001b[0m\u001b[0;34m,\u001b[0m \u001b[0;34m\"shape\"\u001b[0m\u001b[0;34m)\u001b[0m \u001b[0;32mand\u001b[0m \u001b[0mx\u001b[0m\u001b[0;34m.\u001b[0m\u001b[0mshape\u001b[0m \u001b[0;32mis\u001b[0m \u001b[0;32mnot\u001b[0m \u001b[0;32mNone\u001b[0m\u001b[0;34m:\u001b[0m\u001b[0;34m\u001b[0m\u001b[0;34m\u001b[0m\u001b[0m\n\u001b[1;32m    334\u001b[0m         \u001b[0;32mif\u001b[0m \u001b[0mlen\u001b[0m\u001b[0;34m(\u001b[0m\u001b[0mx\u001b[0m\u001b[0;34m.\u001b[0m\u001b[0mshape\u001b[0m\u001b[0;34m)\u001b[0m \u001b[0;34m==\u001b[0m \u001b[0;36m0\u001b[0m\u001b[0;34m:\u001b[0m\u001b[0;34m\u001b[0m\u001b[0;34m\u001b[0m\u001b[0m\n\u001b[0;32m--> 335\u001b[0;31m             raise TypeError(\n\u001b[0m\u001b[1;32m    336\u001b[0m                 \u001b[0;34m\"Singleton array %r cannot be considered a valid collection.\"\u001b[0m \u001b[0;34m%\u001b[0m \u001b[0mx\u001b[0m\u001b[0;34m\u001b[0m\u001b[0;34m\u001b[0m\u001b[0m\n\u001b[1;32m    337\u001b[0m             )\n",
            "\u001b[0;31mTypeError\u001b[0m: Singleton array array(<_MapDataset element_spec=(TensorSpec(shape=(None, 100, 100, None), dtype=tf.float32, name=None), TensorSpec(shape=(None, 100, 100, None), dtype=tf.float32, name=None), TensorSpec(shape=(None,), dtype=tf.float32, name=None))>,\n      dtype=object) cannot be considered a valid collection."
          ]
        }
      ]
    },
    {
      "cell_type": "markdown",
      "id": "516e220a",
      "metadata": {
        "id": "516e220a"
      },
      "source": [
        "## 4.1 Build Embedding Layer"
      ]
    },
    {
      "cell_type": "code",
      "execution_count": null,
      "id": "4772d1ea",
      "metadata": {
        "id": "4772d1ea"
      },
      "outputs": [],
      "source": [
        "# def make_embedding():\n",
        "#     inp = Input(shape=(100,100,3), name='input_image')\n",
        "\n",
        "#     # First block\n",
        "#     c1 = Conv2D(64, (10,10), activation='relu')(inp)\n",
        "#     m1 = MaxPooling2D(64, (2,2), padding='same')(c1)\n",
        "\n",
        "#     # Second block\n",
        "#     c2 = Conv2D(128, (7,7), activation='relu')(m1)\n",
        "#     m2 = MaxPooling2D(64, (2,2), padding='same')(c2)\n",
        "\n",
        "#     # Third block\n",
        "#     c3 = Conv2D(128, (4,4), activation='relu')(m2)\n",
        "#     m3 = MaxPooling2D(64, (2,2), padding='same')(c3)\n",
        "\n",
        "#     # Final embedding block\n",
        "#     c4 = Conv2D(256, (4,4), activation='relu')(m3)\n",
        "#     f1 = Flatten()(c4)\n",
        "#     d1 = Dense(4096, activation='sigmoid')(f1)\n",
        "\n",
        "#     return Model(inputs=[inp], outputs=[d1], name='embedding')"
      ]
    },
    {
      "cell_type": "code",
      "execution_count": null,
      "id": "dde57d64",
      "metadata": {
        "id": "dde57d64"
      },
      "outputs": [],
      "source": [
        "# embedding = make_embedding()"
      ]
    },
    {
      "cell_type": "code",
      "execution_count": null,
      "id": "fccf72b5",
      "metadata": {
        "id": "fccf72b5"
      },
      "outputs": [],
      "source": [
        "# embedding.summary()"
      ]
    },
    {
      "cell_type": "markdown",
      "id": "43d6429f",
      "metadata": {
        "id": "43d6429f"
      },
      "source": [
        "##  4.3 Make Siamese Model"
      ]
    },
    {
      "cell_type": "code",
      "source": [],
      "metadata": {
        "id": "xyLFqgEzicmC"
      },
      "id": "xyLFqgEzicmC",
      "execution_count": null,
      "outputs": []
    },
    {
      "cell_type": "code",
      "execution_count": null,
      "id": "027cef1a",
      "metadata": {
        "id": "027cef1a"
      },
      "outputs": [],
      "source": [
        "# def make_siamese_model():\n",
        "\n",
        "#     # Anchor image input in the network\n",
        "#     input_image = Input(name='input_img', shape=(100,100,3))\n",
        "\n",
        "#     # Validation image in the network\n",
        "#     validation_image = Input(name='validation_img', shape=(100,100,3))\n",
        "\n",
        "#     # Combine siamese distance components\n",
        "#     siamese_layer = L1Dist()\n",
        "#     siamese_layer._name = 'distance'\n",
        "#     distances = siamese_layer(embedding(input_image), embedding(validation_image))\n",
        "\n",
        "#     # Classification layer\n",
        "#     classifier = Dense(1, activation='sigmoid')(distances)\n",
        "\n",
        "#     return Model(inputs=[input_image, validation_image], outputs=classifier, name='SiameseNetwork')"
      ]
    },
    {
      "cell_type": "code",
      "execution_count": null,
      "id": "e58c0708",
      "metadata": {
        "id": "e58c0708"
      },
      "outputs": [],
      "source": [
        "# siamese_model = make_siamese_model()"
      ]
    },
    {
      "cell_type": "code",
      "execution_count": null,
      "id": "bdae4806",
      "metadata": {
        "id": "bdae4806"
      },
      "outputs": [],
      "source": [
        "siamese_model.summary()"
      ]
    },
    {
      "cell_type": "markdown",
      "id": "5fad5458",
      "metadata": {
        "id": "5fad5458"
      },
      "source": [
        "# 5. Training"
      ]
    },
    {
      "cell_type": "markdown",
      "id": "b68c6beb",
      "metadata": {
        "id": "b68c6beb"
      },
      "source": [
        "## 5.1 Setup Loss and Optimizer"
      ]
    },
    {
      "cell_type": "code",
      "execution_count": null,
      "id": "a1dfec63",
      "metadata": {
        "id": "a1dfec63"
      },
      "outputs": [],
      "source": [
        "binary_cross_loss = tf.losses.BinaryCrossentropy()"
      ]
    },
    {
      "cell_type": "code",
      "execution_count": null,
      "id": "9bf43225",
      "metadata": {
        "id": "9bf43225"
      },
      "outputs": [],
      "source": [
        "opt = tf.keras.optimizers.Adam(1e-4)"
      ]
    },
    {
      "cell_type": "markdown",
      "id": "9828022e",
      "metadata": {
        "id": "9828022e"
      },
      "source": [
        "## 5.2 Build Train Step Function"
      ]
    },
    {
      "cell_type": "code",
      "execution_count": null,
      "id": "31ea39ae",
      "metadata": {
        "id": "31ea39ae"
      },
      "outputs": [],
      "source": [
        "# @tf.function\n",
        "# def train_step(batch):\n",
        "\n",
        "#     # Record all of our operations\n",
        "#     with tf.GradientTape() as tape:\n",
        "#         # Get anchor and positive/negative image\n",
        "#         X = batch[:2]\n",
        "#         # Get label\n",
        "#         y = batch[2]\n",
        "\n",
        "#         # Forward pass\n",
        "#         yhat = siamese_model(X, training=True)\n",
        "#         # Calculate loss\n",
        "#         loss = binary_cross_loss(y, yhat)\n",
        "\n",
        "\n",
        "#     # # Calculate accuracy\n",
        "#     # accuracy = tf.keras.metrics.binary_accuracy(y, yhat)\n",
        "\n",
        "#     # # Update the accuracy lists\n",
        "#     # train_accuracy.append(accuracy)\n",
        "\n",
        "#     # Calculate gradients\n",
        "#     grad = tape.gradient(loss, siamese_model.trainable_variables)\n",
        "\n",
        "#     # Calculate updated weights and apply to siamese model\n",
        "#     opt.apply_gradients(zip(grad, siamese_model.trainable_variables))\n",
        "\n",
        "#     # Return loss\n",
        "#     return loss"
      ]
    },
    {
      "cell_type": "code",
      "source": [
        "@tf.function\n",
        "def train_step(batch):\n",
        "    # Record all of our operations\n",
        "    with tf.GradientTape() as tape:\n",
        "        # Get anchor and positive/negative image\n",
        "        X = batch[:2]\n",
        "        # Get label\n",
        "        y = batch[2]\n",
        "\n",
        "        # Forward pass\n",
        "        yhat = siamese_model(X, training=True)\n",
        "        # Calculate loss\n",
        "        loss = binary_cross_loss(y, yhat)\n",
        "\n",
        "    # Calculate gradients\n",
        "    grad = tape.gradient(loss, siamese_model.trainable_variables)\n",
        "\n",
        "    # Calculate updated weights and apply to siamese model\n",
        "    opt.apply_gradients(zip(grad, siamese_model.trainable_variables))\n",
        "\n",
        "    # Return loss\n",
        "    return loss"
      ],
      "metadata": {
        "id": "Mwsr8VzyRauD"
      },
      "id": "Mwsr8VzyRauD",
      "execution_count": null,
      "outputs": []
    },
    {
      "cell_type": "markdown",
      "id": "4889a8ab",
      "metadata": {
        "id": "4889a8ab"
      },
      "source": [
        "## 5.3 Build Training Loop"
      ]
    },
    {
      "cell_type": "code",
      "execution_count": null,
      "id": "e1b88891",
      "metadata": {
        "id": "e1b88891"
      },
      "outputs": [],
      "source": [
        "# def train(data, EPOCHS):\n",
        "#     # Lists to store loss for plotting\n",
        "#     train_losses = []\n",
        "\n",
        "#     # Loop through epochs\n",
        "#     for epoch in range(1, EPOCHS+1):\n",
        "#         print('\\n Epoch{}/{}'.format(epoch, EPOCHS))\n",
        "#         progbar = Progbar(len(data))\n",
        "\n",
        "#         # Variable to store total loss in this epoch\n",
        "#         total_loss = 0.0\n",
        "\n",
        "#         # Loop through each batch\n",
        "#         for idx, batch in enumerate(data):\n",
        "#             # Run train step and get the loss\n",
        "#             loss = train_step(batch).numpy()\n",
        "\n",
        "#             # Update total loss for this epoch\n",
        "#             total_loss += loss\n",
        "\n",
        "#             # Print the loss value\n",
        "#             print(\"Loss: \", loss)\n",
        "#             progbar.update(idx + 1)\n",
        "\n",
        "#         # Calculate average loss for this epoch\n",
        "#         epoch_loss = total_loss / len(data)\n",
        "#         train_losses.append(epoch_loss)\n",
        "\n",
        "#     # Plot the loss\n",
        "#     plt.plot(range(1, EPOCHS+1), train_losses, label='Training Loss')\n",
        "#     plt.xlabel('Epoch')\n",
        "#     plt.ylabel('Loss')\n",
        "#     plt.legend()\n",
        "#     plt.show()\n"
      ]
    },
    {
      "cell_type": "code",
      "source": [
        "# Training function with validation\n",
        "def train_with_validation(train_data, val_data, EPOCHS):\n",
        "    train_losses = []  # To store training losses\n",
        "    val_losses = []    # To store validation losses\n",
        "\n",
        "    for epoch in range(1, EPOCHS+1):\n",
        "        print(f'\\nEpoch {epoch}/{EPOCHS}')\n",
        "        progbar = tf.keras.utils.Progbar(len(train_data))\n",
        "        batches = 0  # To track the number of batches processed during training\n",
        "\n",
        "        # Training loop\n",
        "        for idx, batch in enumerate(train_data):\n",
        "            loss = train_step(batch).numpy()\n",
        "            train_losses.append(loss)\n",
        "            progbar.update(idx + 1)\n",
        "            batches += 1\n",
        "\n",
        "        # Validation loop\n",
        "        val_loss = 0.0\n",
        "        for idx, batch in enumerate(val_data):\n",
        "            val_loss += train_step(batch).numpy()\n",
        "        val_loss /= len(val_data)\n",
        "        val_losses.extend([val_loss] * batches)  # Extend the list to match train_losses\n",
        "\n",
        "        # Print training and validation losses\n",
        "        print(f'\\nTraining Loss: {train_losses[-1]}, Validation Loss: {val_losses[-1]}')\n",
        "\n",
        "    # Plot the training and validation losses\n",
        "    plt.plot(range(1, len(train_losses)+1), train_losses, label='Training Loss')\n",
        "    plt.plot(range(1, len(val_losses)+1), val_losses, label='Validation Loss')\n",
        "    plt.xlabel('Training Steps')\n",
        "    plt.ylabel('Loss')\n",
        "    plt.legend()\n",
        "    plt.show()\n"
      ],
      "metadata": {
        "id": "ciop--T1UOMh"
      },
      "id": "ciop--T1UOMh",
      "execution_count": null,
      "outputs": []
    },
    {
      "cell_type": "code",
      "source": [],
      "metadata": {
        "id": "pn1hKx5wj_ic"
      },
      "id": "pn1hKx5wj_ic",
      "execution_count": null,
      "outputs": []
    },
    {
      "cell_type": "markdown",
      "id": "46d985b5",
      "metadata": {
        "id": "46d985b5"
      },
      "source": [
        "## 5.4 Train the model"
      ]
    },
    {
      "cell_type": "code",
      "execution_count": null,
      "id": "7bcd037f",
      "metadata": {
        "id": "7bcd037f"
      },
      "outputs": [],
      "source": [
        "EPOCHS = 50"
      ]
    },
    {
      "cell_type": "code",
      "execution_count": null,
      "id": "61cdaaf5",
      "metadata": {
        "id": "61cdaaf5",
        "outputId": "e50ce038-732e-4ede-89de-8a195b31969f",
        "colab": {
          "base_uri": "https://localhost:8080/",
          "height": 1000
        }
      },
      "outputs": [
        {
          "output_type": "stream",
          "name": "stdout",
          "text": [
            "\n",
            "Epoch 1/50\n",
            "164/164 [==============================] - 343s 1s/step\n",
            "\n",
            "Training Loss: 0.7871341109275818, Validation Loss: 0.4882317458061462\n",
            "\n",
            "Epoch 2/50\n",
            "164/164 [==============================] - 31s 186ms/step\n",
            "\n",
            "Training Loss: 0.5106175541877747, Validation Loss: 0.521325890054094\n",
            "\n",
            "Epoch 3/50\n",
            "164/164 [==============================] - 30s 182ms/step\n",
            "\n",
            "Training Loss: 0.6998001933097839, Validation Loss: 0.6965078495918436\n",
            "\n",
            "Epoch 4/50\n",
            "164/164 [==============================] - 30s 184ms/step\n",
            "\n",
            "Training Loss: 0.7006357312202454, Validation Loss: 0.6974245208374997\n",
            "\n",
            "Epoch 5/50\n",
            "164/164 [==============================] - 30s 182ms/step\n",
            "\n",
            "Training Loss: 0.7014515995979309, Validation Loss: 0.6980145167797169\n",
            "\n",
            "Epoch 6/50\n",
            "164/164 [==============================] - 30s 182ms/step\n",
            "\n",
            "Training Loss: 0.6962073445320129, Validation Loss: 0.6984488761171381\n",
            "\n",
            "Epoch 7/50\n",
            "164/164 [==============================] - 30s 185ms/step\n",
            "\n",
            "Training Loss: 0.7030859589576721, Validation Loss: 0.6991173498173977\n",
            "\n",
            "Epoch 8/50\n",
            "164/164 [==============================] - 30s 184ms/step\n",
            "\n",
            "Training Loss: 0.7004225850105286, Validation Loss: 0.700001171294679\n",
            "\n",
            "Epoch 9/50\n",
            "164/164 [==============================] - 30s 182ms/step\n",
            "\n",
            "Training Loss: 0.7049883008003235, Validation Loss: 0.7005155986927926\n",
            "\n",
            "Epoch 10/50\n",
            "164/164 [==============================] - 30s 183ms/step\n",
            "\n",
            "Training Loss: 0.697420597076416, Validation Loss: 0.7007075763763265\n",
            "\n",
            "Epoch 11/50\n",
            "164/164 [==============================] - 30s 182ms/step\n",
            "\n",
            "Training Loss: 0.7022924423217773, Validation Loss: 0.7016653114176811\n",
            "\n",
            "Epoch 12/50\n",
            "164/164 [==============================] - 30s 184ms/step\n",
            "\n",
            "Training Loss: 0.698028028011322, Validation Loss: 0.7025128641027085\n",
            "\n",
            "Epoch 13/50\n",
            "164/164 [==============================] - 30s 183ms/step\n",
            "\n",
            "Training Loss: 0.6982924938201904, Validation Loss: 0.7024776263439909\n",
            "\n",
            "Epoch 14/50\n",
            "164/164 [==============================] - 30s 182ms/step\n",
            "\n",
            "Training Loss: 0.7092142105102539, Validation Loss: 0.7035015212728623\n",
            "\n",
            "Epoch 15/50\n",
            "164/164 [==============================] - 30s 183ms/step\n",
            "\n",
            "Training Loss: 0.7043914794921875, Validation Loss: 0.7034165466085394\n",
            "\n",
            "Epoch 16/50\n",
            "164/164 [==============================] - 30s 184ms/step\n",
            "\n",
            "Training Loss: 0.69329833984375, Validation Loss: 0.7044394624994156\n",
            "\n",
            "Epoch 17/50\n",
            "164/164 [==============================] - 30s 182ms/step\n",
            "\n",
            "Training Loss: 0.7114078998565674, Validation Loss: 0.705003040902158\n",
            "\n",
            "Epoch 18/50\n",
            "164/164 [==============================] - 30s 183ms/step\n",
            "\n",
            "Training Loss: 0.6996251940727234, Validation Loss: 0.7055179134328314\n",
            "\n",
            "Epoch 19/50\n",
            "164/164 [==============================] - 30s 182ms/step\n",
            "\n",
            "Training Loss: 0.6998526453971863, Validation Loss: 0.7062587319536412\n",
            "\n",
            "Epoch 20/50\n",
            "164/164 [==============================] - 30s 186ms/step\n",
            "\n",
            "Training Loss: 0.7001064419746399, Validation Loss: 0.7064687191171849\n",
            "\n",
            "Epoch 21/50\n",
            "164/164 [==============================] - 30s 182ms/step\n",
            "\n",
            "Training Loss: 0.7073270678520203, Validation Loss: 0.7061895132064819\n",
            "\n",
            "Epoch 22/50\n",
            "164/164 [==============================] - 30s 183ms/step\n",
            "\n",
            "Training Loss: 0.7152156233787537, Validation Loss: 0.7067950050881568\n",
            "\n",
            "Epoch 23/50\n",
            "164/164 [==============================] - 30s 182ms/step\n",
            "\n",
            "Training Loss: 0.7084601521492004, Validation Loss: 0.7077981284324159\n",
            "\n",
            "Epoch 24/50\n",
            "164/164 [==============================] - 30s 183ms/step\n",
            "\n",
            "Training Loss: 0.7090451121330261, Validation Loss: 0.7086234092712402\n",
            "\n",
            "Epoch 25/50\n",
            "164/164 [==============================] - 30s 183ms/step\n",
            "\n",
            "Training Loss: 0.709406852722168, Validation Loss: 0.7090598357484695\n",
            "\n",
            "Epoch 26/50\n",
            "164/164 [==============================] - 30s 183ms/step\n",
            "\n",
            "Training Loss: 0.7181077003479004, Validation Loss: 0.7089952953318333\n",
            "\n",
            "Epoch 27/50\n",
            "164/164 [==============================] - 30s 183ms/step\n",
            "\n",
            "Training Loss: 0.7019211649894714, Validation Loss: 0.709758756008554\n",
            "\n",
            "Epoch 28/50\n",
            "164/164 [==============================] - 30s 184ms/step\n",
            "\n",
            "Training Loss: 0.7195872664451599, Validation Loss: 0.7103542076780441\n",
            "\n",
            "Epoch 29/50\n",
            "164/164 [==============================] - 30s 182ms/step\n",
            "\n",
            "Training Loss: 0.7112531661987305, Validation Loss: 0.7116454319751009\n",
            "\n",
            "Epoch 30/50\n",
            "164/164 [==============================] - 30s 183ms/step\n",
            "\n",
            "Training Loss: 0.711600124835968, Validation Loss: 0.7118180673173133\n",
            "\n",
            "Epoch 31/50\n",
            "164/164 [==============================] - 30s 182ms/step\n",
            "\n",
            "Training Loss: 0.71181720495224, Validation Loss: 0.7099836062877736\n",
            "\n",
            "Epoch 32/50\n",
            "164/164 [==============================] - 30s 182ms/step\n",
            "\n",
            "Training Loss: 0.7123684883117676, Validation Loss: 0.7117074195374834\n",
            "\n",
            "Epoch 33/50\n",
            "164/164 [==============================] - 30s 182ms/step\n",
            "\n",
            "Training Loss: 0.7222636342048645, Validation Loss: 0.7116015096928211\n",
            "\n",
            "Epoch 34/50\n",
            "164/164 [==============================] - 30s 183ms/step\n",
            "\n",
            "Training Loss: 0.7130501866340637, Validation Loss: 0.7122285733831689\n",
            "\n",
            "Epoch 35/50\n",
            "164/164 [==============================] - 30s 183ms/step\n",
            "\n",
            "Training Loss: 0.713503360748291, Validation Loss: 0.711523876545277\n",
            "\n",
            "Epoch 36/50\n",
            "164/164 [==============================] - 30s 183ms/step\n",
            "\n",
            "Training Loss: 0.724094808101654, Validation Loss: 0.7131744052501435\n",
            "\n",
            "Epoch 37/50\n",
            "164/164 [==============================] - 30s 182ms/step\n",
            "\n",
            "Training Loss: 0.7142446637153625, Validation Loss: 0.7132052918697925\n",
            "\n",
            "Epoch 38/50\n",
            "164/164 [==============================] - 30s 182ms/step\n",
            "\n",
            "Training Loss: 0.693645179271698, Validation Loss: 0.7151373104846224\n",
            "\n",
            "Epoch 39/50\n",
            "164/164 [==============================] - 30s 182ms/step\n",
            "\n",
            "Training Loss: 0.725573718547821, Validation Loss: 0.7153773650209955\n",
            "\n",
            "Epoch 40/50\n",
            "164/164 [==============================] - 30s 182ms/step\n",
            "\n",
            "Training Loss: 0.704403817653656, Validation Loss: 0.7143990460862505\n",
            "\n",
            "Epoch 41/50\n",
            "164/164 [==============================] - 30s 182ms/step\n",
            "\n",
            "Training Loss: 0.7155669331550598, Validation Loss: 0.7159272026508412\n",
            "\n",
            "Epoch 42/50\n",
            "164/164 [==============================] - 30s 182ms/step\n",
            "\n",
            "Training Loss: 0.6936948299407959, Validation Loss: 0.7148497053917419\n",
            "\n",
            "Epoch 43/50\n",
            "164/164 [==============================] - 30s 182ms/step\n",
            "\n",
            "Training Loss: 0.6825032234191895, Validation Loss: 0.7154892683029175\n",
            "\n",
            "Epoch 44/50\n",
            "164/164 [==============================] - 30s 185ms/step\n",
            "\n",
            "Training Loss: 0.7164969444274902, Validation Loss: 0.7151802258288606\n",
            "\n",
            "Epoch 45/50\n",
            "164/164 [==============================] - 30s 182ms/step\n",
            "\n",
            "Training Loss: 0.705345869064331, Validation Loss: 0.7166760221440741\n",
            "\n",
            "Epoch 46/50\n",
            "164/164 [==============================] - 30s 182ms/step\n",
            "\n",
            "Training Loss: 0.7172144055366516, Validation Loss: 0.7181074492474819\n",
            "\n",
            "Epoch 47/50\n",
            "164/164 [==============================] - 30s 182ms/step\n",
            "\n",
            "Training Loss: 0.729243278503418, Validation Loss: 0.7167056139479292\n",
            "\n",
            "Epoch 48/50\n",
            "164/164 [==============================] - 30s 182ms/step\n",
            "\n",
            "Training Loss: 0.7297980189323425, Validation Loss: 0.7174568810361497\n",
            "\n",
            "Epoch 49/50\n",
            "164/164 [==============================] - 30s 183ms/step\n",
            "\n",
            "Training Loss: 0.7059359550476074, Validation Loss: 0.7171093732752698\n",
            "\n",
            "Epoch 50/50\n",
            "164/164 [==============================] - 30s 185ms/step\n",
            "\n",
            "Training Loss: 0.7308343052864075, Validation Loss: 0.7188179784632743\n"
          ]
        },
        {
          "output_type": "display_data",
          "data": {
            "text/plain": [
              "<Figure size 640x480 with 1 Axes>"
            ],
            "image/png": "[encoded data removed]"
          },
          "metadata": {}
        }
      ],
      "source": [
        "train_with_validation(train_data, val_data, EPOCHS)"
      ]
    },
    {
      "cell_type": "markdown",
      "id": "8d5c7ec3",
      "metadata": {
        "id": "8d5c7ec3"
      },
      "source": [
        "# 6. Evaluate Model"
      ]
    },
    {
      "cell_type": "markdown",
      "id": "9a3b1585",
      "metadata": {
        "id": "9a3b1585"
      },
      "source": [
        "## 6.1 Import Metrics"
      ]
    },
    {
      "cell_type": "code",
      "execution_count": null,
      "id": "494558de",
      "metadata": {
        "id": "494558de"
      },
      "outputs": [],
      "source": [
        "# import metric calculations\n",
        "from tensorflow.keras.metrics import Precision, Recall"
      ]
    },
    {
      "cell_type": "markdown",
      "id": "f76b1ab3",
      "metadata": {
        "id": "f76b1ab3"
      },
      "source": [
        "## 6.2 Make Predictions"
      ]
    },
    {
      "cell_type": "code",
      "execution_count": null,
      "id": "827225ab",
      "metadata": {
        "id": "827225ab"
      },
      "outputs": [],
      "source": [
        "# get entire test data\n",
        "\n",
        "# Initialize empty lists\n",
        "test_input_list = []\n",
        "test_val_list = []\n",
        "y_true_list = []\n",
        "# Iterate over the test_data and collect the data\n",
        "\n",
        "for test_input, test_val, y_true in test_data.as_numpy_iterator():\n",
        "    test_input_list.append(test_input)\n",
        "    test_val_list.append(test_val)\n",
        "    y_true_list.append(y_true)\n",
        "\n",
        "# Concatenate the collected data into numpy arrays\n",
        "test_input = np.concatenate(test_input_list)\n",
        "test_val = np.concatenate(test_val_list)\n",
        "y_true = np.concatenate(y_true_list)"
      ]
    },
    {
      "cell_type": "code",
      "execution_count": null,
      "id": "58f15383",
      "metadata": {
        "id": "58f15383",
        "outputId": "5aee2b57-60d0-475a-d4ac-66a777eb97e6",
        "colab": {
          "base_uri": "https://localhost:8080/"
        }
      },
      "outputs": [
        {
          "output_type": "stream",
          "name": "stdout",
          "text": [
            "12/12 [==============================] - 3s 176ms/step\n"
          ]
        },
        {
          "output_type": "execute_result",
          "data": {
            "text/plain": [
              "array([[0.51727253],\n",
              "       [0.5172727 ],\n",
              "       [0.51727253],\n",
              "       [0.517273  ],\n",
              "       [0.51727253],\n",
              "       [0.5172726 ],\n",
              "       [0.5172734 ],\n",
              "       [0.517273  ],\n",
              "       [0.5172729 ],\n",
              "       [0.5172729 ],\n",
              "       [0.51727253],\n",
              "       [0.51727253],\n",
              "       [0.5172726 ],\n",
              "       [0.51727253],\n",
              "       [0.51727253],\n",
              "       [0.51727253],\n",
              "       [0.51727337],\n",
              "       [0.51727253],\n",
              "       [0.51727545],\n",
              "       [0.51727253],\n",
              "       [0.5172733 ],\n",
              "       [0.51727253],\n",
              "       [0.51727253],\n",
              "       [0.51727253],\n",
              "       [0.51727253],\n",
              "       [0.517273  ],\n",
              "       [0.51727253],\n",
              "       [0.5172726 ],\n",
              "       [0.51727253],\n",
              "       [0.51727253],\n",
              "       [0.51727253],\n",
              "       [0.51727253],\n",
              "       [0.51727253],\n",
              "       [0.5172726 ],\n",
              "       [0.51727253],\n",
              "       [0.51727253],\n",
              "       [0.5172726 ],\n",
              "       [0.51727253],\n",
              "       [0.5172726 ],\n",
              "       [0.51727325],\n",
              "       [0.51727253],\n",
              "       [0.5172726 ],\n",
              "       [0.51727253],\n",
              "       [0.5172726 ],\n",
              "       [0.5172726 ],\n",
              "       [0.51727253],\n",
              "       [0.5172726 ],\n",
              "       [0.51727253],\n",
              "       [0.51727253],\n",
              "       [0.51727253],\n",
              "       [0.51727253],\n",
              "       [0.51727253],\n",
              "       [0.5172726 ],\n",
              "       [0.5172727 ],\n",
              "       [0.51727253],\n",
              "       [0.51727253],\n",
              "       [0.5172726 ],\n",
              "       [0.51727384],\n",
              "       [0.5172726 ],\n",
              "       [0.5172726 ],\n",
              "       [0.5172726 ],\n",
              "       [0.5172726 ],\n",
              "       [0.51727253],\n",
              "       [0.5172728 ],\n",
              "       [0.5172726 ],\n",
              "       [0.5172726 ],\n",
              "       [0.51727253],\n",
              "       [0.51727253],\n",
              "       [0.51727253],\n",
              "       [0.5172737 ],\n",
              "       [0.5172727 ],\n",
              "       [0.51727253],\n",
              "       [0.5172726 ],\n",
              "       [0.5172726 ],\n",
              "       [0.51727253],\n",
              "       [0.5172726 ],\n",
              "       [0.51727253],\n",
              "       [0.51727253],\n",
              "       [0.51727253],\n",
              "       [0.51727253],\n",
              "       [0.5172726 ],\n",
              "       [0.5172729 ],\n",
              "       [0.5172726 ],\n",
              "       [0.5172726 ],\n",
              "       [0.51727253],\n",
              "       [0.5172738 ],\n",
              "       [0.51727253],\n",
              "       [0.51727253],\n",
              "       [0.51727253],\n",
              "       [0.51727253],\n",
              "       [0.51727253],\n",
              "       [0.5172727 ],\n",
              "       [0.51727253],\n",
              "       [0.51727253],\n",
              "       [0.51727253],\n",
              "       [0.51727253],\n",
              "       [0.51727253],\n",
              "       [0.51727253],\n",
              "       [0.51727253],\n",
              "       [0.51727253],\n",
              "       [0.51727253],\n",
              "       [0.51727253],\n",
              "       [0.51727253],\n",
              "       [0.51727253],\n",
              "       [0.51727253],\n",
              "       [0.51727253],\n",
              "       [0.51727253],\n",
              "       [0.5172726 ],\n",
              "       [0.51727253],\n",
              "       [0.51727283],\n",
              "       [0.51727253],\n",
              "       [0.51727253],\n",
              "       [0.51727253],\n",
              "       [0.5172727 ],\n",
              "       [0.5172729 ],\n",
              "       [0.51727253],\n",
              "       [0.51727253],\n",
              "       [0.51727253],\n",
              "       [0.51727253],\n",
              "       [0.51727253],\n",
              "       [0.5172729 ],\n",
              "       [0.51727253],\n",
              "       [0.5172726 ],\n",
              "       [0.51727253],\n",
              "       [0.51727253],\n",
              "       [0.5172728 ],\n",
              "       [0.51727253],\n",
              "       [0.5172726 ],\n",
              "       [0.51727253],\n",
              "       [0.51727253],\n",
              "       [0.51727253],\n",
              "       [0.51727253],\n",
              "       [0.51727253],\n",
              "       [0.51727253],\n",
              "       [0.5172726 ],\n",
              "       [0.51727253],\n",
              "       [0.5172726 ],\n",
              "       [0.51727253],\n",
              "       [0.5172726 ],\n",
              "       [0.51727253],\n",
              "       [0.51727253],\n",
              "       [0.51727253],\n",
              "       [0.51727253],\n",
              "       [0.517304  ],\n",
              "       [0.51727253],\n",
              "       [0.5172726 ],\n",
              "       [0.51727253],\n",
              "       [0.51727253],\n",
              "       [0.51727253],\n",
              "       [0.51727253],\n",
              "       [0.51727253],\n",
              "       [0.5172726 ],\n",
              "       [0.51727253],\n",
              "       [0.51727253],\n",
              "       [0.5172726 ],\n",
              "       [0.51727253],\n",
              "       [0.5172726 ],\n",
              "       [0.51727253],\n",
              "       [0.51727253],\n",
              "       [0.51727253],\n",
              "       [0.51727253],\n",
              "       [0.5172729 ],\n",
              "       [0.51727253],\n",
              "       [0.51727253],\n",
              "       [0.51727253],\n",
              "       [0.51727253],\n",
              "       [0.51727253],\n",
              "       [0.5172728 ],\n",
              "       [0.51727253],\n",
              "       [0.51727253],\n",
              "       [0.51727253],\n",
              "       [0.51727253],\n",
              "       [0.5172728 ],\n",
              "       [0.51727253],\n",
              "       [0.5172726 ],\n",
              "       [0.5172727 ],\n",
              "       [0.51727253],\n",
              "       [0.5172726 ],\n",
              "       [0.5172726 ],\n",
              "       [0.51727253],\n",
              "       [0.5172726 ],\n",
              "       [0.5172726 ],\n",
              "       [0.51727253],\n",
              "       [0.5172739 ],\n",
              "       [0.51727253],\n",
              "       [0.5172729 ],\n",
              "       [0.51727253],\n",
              "       [0.51727253],\n",
              "       [0.51727253],\n",
              "       [0.5172726 ],\n",
              "       [0.51727253],\n",
              "       [0.51727253],\n",
              "       [0.51727253],\n",
              "       [0.5172726 ],\n",
              "       [0.51727253],\n",
              "       [0.51727253],\n",
              "       [0.5172727 ],\n",
              "       [0.5172726 ],\n",
              "       [0.5172727 ],\n",
              "       [0.5172726 ],\n",
              "       [0.5172726 ],\n",
              "       [0.5172726 ],\n",
              "       [0.51727253],\n",
              "       [0.51727253],\n",
              "       [0.51727253],\n",
              "       [0.51727283],\n",
              "       [0.51727253],\n",
              "       [0.51727253],\n",
              "       [0.5172736 ],\n",
              "       [0.51727253],\n",
              "       [0.51727253],\n",
              "       [0.51727253],\n",
              "       [0.51727253],\n",
              "       [0.5172726 ],\n",
              "       [0.51727253],\n",
              "       [0.51727253],\n",
              "       [0.51727253],\n",
              "       [0.5172726 ],\n",
              "       [0.51727253],\n",
              "       [0.5172726 ],\n",
              "       [0.5172726 ],\n",
              "       [0.5172727 ],\n",
              "       [0.51727253],\n",
              "       [0.51727253],\n",
              "       [0.51727253],\n",
              "       [0.51727253],\n",
              "       [0.51727253],\n",
              "       [0.5172726 ],\n",
              "       [0.5172726 ],\n",
              "       [0.51727253],\n",
              "       [0.51727253],\n",
              "       [0.51727253],\n",
              "       [0.51727253],\n",
              "       [0.51727253],\n",
              "       [0.51727253],\n",
              "       [0.51727253],\n",
              "       [0.5172726 ],\n",
              "       [0.51727253],\n",
              "       [0.51727253],\n",
              "       [0.51727253],\n",
              "       [0.51727283],\n",
              "       [0.51727253],\n",
              "       [0.5172728 ],\n",
              "       [0.51727253],\n",
              "       [0.51727253],\n",
              "       [0.51727253],\n",
              "       [0.5172729 ],\n",
              "       [0.5172726 ],\n",
              "       [0.51727253],\n",
              "       [0.51727253],\n",
              "       [0.51727253],\n",
              "       [0.51727253],\n",
              "       [0.51727253],\n",
              "       [0.51727253],\n",
              "       [0.5172726 ],\n",
              "       [0.5172726 ],\n",
              "       [0.51727253],\n",
              "       [0.5172726 ],\n",
              "       [0.51727253],\n",
              "       [0.5172726 ],\n",
              "       [0.51727456],\n",
              "       [0.51727253],\n",
              "       [0.51727253],\n",
              "       [0.5172727 ],\n",
              "       [0.51727253],\n",
              "       [0.51727253],\n",
              "       [0.5172726 ],\n",
              "       [0.5172726 ],\n",
              "       [0.5172726 ],\n",
              "       [0.51727253],\n",
              "       [0.51727253],\n",
              "       [0.51727253],\n",
              "       [0.5172726 ],\n",
              "       [0.5172726 ],\n",
              "       [0.5172726 ],\n",
              "       [0.51727253],\n",
              "       [0.51727253],\n",
              "       [0.51727253],\n",
              "       [0.5172726 ],\n",
              "       [0.51727253],\n",
              "       [0.5172726 ],\n",
              "       [0.5172727 ],\n",
              "       [0.5172726 ],\n",
              "       [0.5172726 ],\n",
              "       [0.5172726 ],\n",
              "       [0.5172728 ],\n",
              "       [0.51727253],\n",
              "       [0.51727253],\n",
              "       [0.51727253],\n",
              "       [0.51727253],\n",
              "       [0.51727253],\n",
              "       [0.51727253],\n",
              "       [0.51727253],\n",
              "       [0.51729035],\n",
              "       [0.51727253],\n",
              "       [0.5172741 ],\n",
              "       [0.5172729 ],\n",
              "       [0.51727253],\n",
              "       [0.51727253],\n",
              "       [0.51727253],\n",
              "       [0.5172726 ],\n",
              "       [0.51727253],\n",
              "       [0.5172726 ],\n",
              "       [0.51727253],\n",
              "       [0.51727253],\n",
              "       [0.51727325],\n",
              "       [0.51727253],\n",
              "       [0.5172726 ],\n",
              "       [0.51727253],\n",
              "       [0.51727253],\n",
              "       [0.5172726 ],\n",
              "       [0.51727253],\n",
              "       [0.51727307],\n",
              "       [0.51727253],\n",
              "       [0.5172732 ],\n",
              "       [0.51727253],\n",
              "       [0.51727253],\n",
              "       [0.51727253],\n",
              "       [0.51727253],\n",
              "       [0.51727253],\n",
              "       [0.51727253],\n",
              "       [0.51727253],\n",
              "       [0.51727253],\n",
              "       [0.51727253],\n",
              "       [0.51727253],\n",
              "       [0.51727253],\n",
              "       [0.51727253],\n",
              "       [0.51727253],\n",
              "       [0.5172736 ],\n",
              "       [0.51727253],\n",
              "       [0.5172727 ],\n",
              "       [0.51727253],\n",
              "       [0.5172726 ],\n",
              "       [0.51727253],\n",
              "       [0.51727253],\n",
              "       [0.51727253],\n",
              "       [0.51727253],\n",
              "       [0.5172726 ],\n",
              "       [0.5172728 ],\n",
              "       [0.5172728 ],\n",
              "       [0.51727253],\n",
              "       [0.51727253],\n",
              "       [0.51727253],\n",
              "       [0.5172726 ],\n",
              "       [0.51727253],\n",
              "       [0.5172726 ],\n",
              "       [0.51727253],\n",
              "       [0.51727253],\n",
              "       [0.51727253],\n",
              "       [0.51727253],\n",
              "       [0.51727253],\n",
              "       [0.51727253],\n",
              "       [0.51727253],\n",
              "       [0.517273  ],\n",
              "       [0.51727253],\n",
              "       [0.51727253],\n",
              "       [0.51727253],\n",
              "       [0.51727253],\n",
              "       [0.5172731 ],\n",
              "       [0.517273  ],\n",
              "       [0.51727253],\n",
              "       [0.51727253],\n",
              "       [0.51727253],\n",
              "       [0.51727253],\n",
              "       [0.51727253],\n",
              "       [0.51727253],\n",
              "       [0.51727253],\n",
              "       [0.51727253],\n",
              "       [0.51727253],\n",
              "       [0.51727253],\n",
              "       [0.51727253],\n",
              "       [0.51727253],\n",
              "       [0.5172728 ]], dtype=float32)"
            ]
          },
          "metadata": {},
          "execution_count": 41
        }
      ],
      "source": [
        "# Make predictions\n",
        "y_hat = siamese_model.predict([test_input, test_val])\n",
        "y_hat"
      ]
    },
    {
      "cell_type": "code",
      "execution_count": null,
      "id": "fb13830f",
      "metadata": {
        "scrolled": true,
        "id": "fb13830f",
        "outputId": "c3ecb13f-fea8-400d-a463-97a83af41218",
        "colab": {
          "base_uri": "https://localhost:8080/"
        }
      },
      "outputs": [
        {
          "output_type": "stream",
          "name": "stdout",
          "text": [
            "[[1. 0.]\n",
            " [1. 1.]\n",
            " [1. 0.]\n",
            " [1. 0.]\n",
            " [1. 0.]\n",
            " [1. 0.]\n",
            " [1. 0.]\n",
            " [1. 0.]\n",
            " [1. 0.]\n",
            " [1. 0.]\n",
            " [1. 0.]\n",
            " [1. 0.]\n",
            " [1. 0.]\n",
            " [1. 0.]\n",
            " [1. 1.]\n",
            " [1. 0.]\n",
            " [1. 0.]\n",
            " [1. 0.]\n",
            " [1. 1.]\n",
            " [1. 0.]\n",
            " [1. 0.]\n",
            " [1. 0.]\n",
            " [1. 0.]\n",
            " [1. 0.]\n",
            " [1. 0.]\n",
            " [1. 0.]\n",
            " [1. 0.]\n",
            " [1. 0.]\n",
            " [1. 0.]\n",
            " [1. 0.]\n",
            " [1. 0.]\n",
            " [1. 0.]\n",
            " [1. 0.]\n",
            " [1. 0.]\n",
            " [1. 0.]\n",
            " [1. 0.]\n",
            " [1. 0.]\n",
            " [1. 0.]\n",
            " [1. 0.]\n",
            " [1. 0.]\n",
            " [1. 0.]\n",
            " [1. 0.]\n",
            " [1. 1.]\n",
            " [1. 0.]\n",
            " [1. 0.]\n",
            " [1. 1.]\n",
            " [1. 0.]\n",
            " [1. 0.]\n",
            " [1. 0.]\n",
            " [1. 0.]\n",
            " [1. 0.]\n",
            " [1. 0.]\n",
            " [1. 0.]\n",
            " [1. 0.]\n",
            " [1. 0.]\n",
            " [1. 0.]\n",
            " [1. 0.]\n",
            " [1. 0.]\n",
            " [1. 0.]\n",
            " [1. 0.]\n",
            " [1. 0.]\n",
            " [1. 0.]\n",
            " [1. 0.]\n",
            " [1. 0.]\n",
            " [1. 0.]\n",
            " [1. 0.]\n",
            " [1. 0.]\n",
            " [1. 0.]\n",
            " [1. 0.]\n",
            " [1. 0.]\n",
            " [1. 0.]\n",
            " [1. 0.]\n",
            " [1. 1.]\n",
            " [1. 0.]\n",
            " [1. 0.]\n",
            " [1. 0.]\n",
            " [1. 0.]\n",
            " [1. 1.]\n",
            " [1. 1.]\n",
            " [1. 0.]\n",
            " [1. 0.]\n",
            " [1. 0.]\n",
            " [1. 0.]\n",
            " [1. 1.]\n",
            " [1. 0.]\n",
            " [1. 0.]\n",
            " [1. 0.]\n",
            " [1. 0.]\n",
            " [1. 0.]\n",
            " [1. 1.]\n",
            " [1. 0.]\n",
            " [1. 1.]\n",
            " [1. 0.]\n",
            " [1. 0.]\n",
            " [1. 0.]\n",
            " [1. 0.]\n",
            " [1. 0.]\n",
            " [1. 0.]\n",
            " [1. 1.]\n",
            " [1. 0.]\n",
            " [1. 0.]\n",
            " [1. 0.]\n",
            " [1. 0.]\n",
            " [1. 1.]\n",
            " [1. 0.]\n",
            " [1. 0.]\n",
            " [1. 0.]\n",
            " [1. 0.]\n",
            " [1. 0.]\n",
            " [1. 0.]\n",
            " [1. 0.]\n",
            " [1. 0.]\n",
            " [1. 0.]\n",
            " [1. 0.]\n",
            " [1. 0.]\n",
            " [1. 1.]\n",
            " [1. 0.]\n",
            " [1. 0.]\n",
            " [1. 0.]\n",
            " [1. 0.]\n",
            " [1. 1.]\n",
            " [1. 0.]\n",
            " [1. 0.]\n",
            " [1. 0.]\n",
            " [1. 0.]\n",
            " [1. 0.]\n",
            " [1. 0.]\n",
            " [1. 0.]\n",
            " [1. 0.]\n",
            " [1. 0.]\n",
            " [1. 0.]\n",
            " [1. 0.]\n",
            " [1. 1.]\n",
            " [1. 0.]\n",
            " [1. 0.]\n",
            " [1. 0.]\n",
            " [1. 0.]\n",
            " [1. 0.]\n",
            " [1. 0.]\n",
            " [1. 0.]\n",
            " [1. 1.]\n",
            " [1. 0.]\n",
            " [1. 0.]\n",
            " [1. 0.]\n",
            " [1. 0.]\n",
            " [1. 0.]\n",
            " [1. 0.]\n",
            " [1. 0.]\n",
            " [1. 0.]\n",
            " [1. 0.]\n",
            " [1. 0.]\n",
            " [1. 1.]\n",
            " [1. 0.]\n",
            " [1. 0.]\n",
            " [1. 0.]\n",
            " [1. 0.]\n",
            " [1. 0.]\n",
            " [1. 0.]\n",
            " [1. 1.]\n",
            " [1. 0.]\n",
            " [1. 0.]\n",
            " [1. 0.]\n",
            " [1. 0.]\n",
            " [1. 0.]\n",
            " [1. 0.]\n",
            " [1. 0.]\n",
            " [1. 1.]\n",
            " [1. 0.]\n",
            " [1. 0.]\n",
            " [1. 0.]\n",
            " [1. 0.]\n",
            " [1. 0.]\n",
            " [1. 0.]\n",
            " [1. 0.]\n",
            " [1. 0.]\n",
            " [1. 0.]\n",
            " [1. 1.]\n",
            " [1. 1.]\n",
            " [1. 1.]\n",
            " [1. 0.]\n",
            " [1. 0.]\n",
            " [1. 1.]\n",
            " [1. 0.]\n",
            " [1. 0.]\n",
            " [1. 0.]\n",
            " [1. 0.]\n",
            " [1. 0.]\n",
            " [1. 1.]\n",
            " [1. 0.]\n",
            " [1. 0.]\n",
            " [1. 0.]\n",
            " [1. 0.]\n",
            " [1. 0.]\n",
            " [1. 0.]\n",
            " [1. 1.]\n",
            " [1. 0.]\n",
            " [1. 1.]\n",
            " [1. 0.]\n",
            " [1. 0.]\n",
            " [1. 0.]\n",
            " [1. 0.]\n",
            " [1. 1.]\n",
            " [1. 0.]\n",
            " [1. 0.]\n",
            " [1. 0.]\n",
            " [1. 0.]\n",
            " [1. 1.]\n",
            " [1. 0.]\n",
            " [1. 1.]\n",
            " [1. 0.]\n",
            " [1. 0.]\n",
            " [1. 1.]\n",
            " [1. 0.]\n",
            " [1. 0.]\n",
            " [1. 0.]\n",
            " [1. 1.]\n",
            " [1. 0.]\n",
            " [1. 0.]\n",
            " [1. 0.]\n",
            " [1. 0.]\n",
            " [1. 0.]\n",
            " [1. 0.]\n",
            " [1. 0.]\n",
            " [1. 0.]\n",
            " [1. 0.]\n",
            " [1. 1.]\n",
            " [1. 0.]\n",
            " [1. 0.]\n",
            " [1. 0.]\n",
            " [1. 1.]\n",
            " [1. 0.]\n",
            " [1. 0.]\n",
            " [1. 0.]\n",
            " [1. 0.]\n",
            " [1. 0.]\n",
            " [1. 0.]\n",
            " [1. 0.]\n",
            " [1. 1.]\n",
            " [1. 0.]\n",
            " [1. 0.]\n",
            " [1. 0.]\n",
            " [1. 1.]\n",
            " [1. 0.]\n",
            " [1. 0.]\n",
            " [1. 0.]\n",
            " [1. 0.]\n",
            " [1. 0.]\n",
            " [1. 0.]\n",
            " [1. 1.]\n",
            " [1. 1.]\n",
            " [1. 1.]\n",
            " [1. 0.]\n",
            " [1. 0.]\n",
            " [1. 1.]\n",
            " [1. 0.]\n",
            " [1. 0.]\n",
            " [1. 0.]\n",
            " [1. 0.]\n",
            " [1. 0.]\n",
            " [1. 0.]\n",
            " [1. 0.]\n",
            " [1. 0.]\n",
            " [1. 0.]\n",
            " [1. 0.]\n",
            " [1. 1.]\n",
            " [1. 1.]\n",
            " [1. 1.]\n",
            " [1. 1.]\n",
            " [1. 0.]\n",
            " [1. 0.]\n",
            " [1. 0.]\n",
            " [1. 0.]\n",
            " [1. 0.]\n",
            " [1. 0.]\n",
            " [1. 0.]\n",
            " [1. 1.]\n",
            " [1. 0.]\n",
            " [1. 0.]\n",
            " [1. 0.]\n",
            " [1. 0.]\n",
            " [1. 0.]\n",
            " [1. 0.]\n",
            " [1. 1.]\n",
            " [1. 1.]\n",
            " [1. 0.]\n",
            " [1. 0.]\n",
            " [1. 0.]\n",
            " [1. 0.]\n",
            " [1. 0.]\n",
            " [1. 1.]\n",
            " [1. 0.]\n",
            " [1. 0.]\n",
            " [1. 1.]\n",
            " [1. 0.]\n",
            " [1. 0.]\n",
            " [1. 0.]\n",
            " [1. 0.]\n",
            " [1. 0.]\n",
            " [1. 0.]\n",
            " [1. 0.]\n",
            " [1. 0.]\n",
            " [1. 0.]\n",
            " [1. 0.]\n",
            " [1. 0.]\n",
            " [1. 0.]\n",
            " [1. 0.]\n",
            " [1. 0.]\n",
            " [1. 0.]\n",
            " [1. 0.]\n",
            " [1. 0.]\n",
            " [1. 0.]\n",
            " [1. 1.]\n",
            " [1. 0.]\n",
            " [1. 0.]\n",
            " [1. 0.]\n",
            " [1. 0.]\n",
            " [1. 0.]\n",
            " [1. 0.]\n",
            " [1. 0.]\n",
            " [1. 1.]\n",
            " [1. 0.]\n",
            " [1. 0.]\n",
            " [1. 0.]\n",
            " [1. 0.]\n",
            " [1. 0.]\n",
            " [1. 0.]\n",
            " [1. 0.]\n",
            " [1. 1.]\n",
            " [1. 0.]\n",
            " [1. 0.]\n",
            " [1. 0.]\n",
            " [1. 0.]\n",
            " [1. 0.]\n",
            " [1. 1.]\n",
            " [1. 0.]\n",
            " [1. 1.]\n",
            " [1. 0.]\n",
            " [1. 0.]\n",
            " [1. 0.]\n",
            " [1. 0.]\n",
            " [1. 0.]\n",
            " [1. 1.]\n",
            " [1. 0.]\n",
            " [1. 0.]\n",
            " [1. 0.]\n",
            " [1. 0.]\n",
            " [1. 0.]\n",
            " [1. 0.]\n",
            " [1. 0.]\n",
            " [1. 0.]\n",
            " [1. 0.]\n",
            " [1. 0.]\n",
            " [1. 0.]\n",
            " [1. 0.]\n",
            " [1. 0.]\n",
            " [1. 0.]\n",
            " [1. 0.]\n",
            " [1. 0.]\n",
            " [1. 0.]\n",
            " [1. 0.]\n",
            " [1. 0.]\n",
            " [1. 0.]\n",
            " [1. 0.]\n",
            " [1. 0.]\n",
            " [1. 0.]\n",
            " [1. 0.]\n",
            " [1. 1.]\n",
            " [1. 0.]\n",
            " [1. 0.]\n",
            " [1. 0.]\n",
            " [1. 0.]\n",
            " [1. 0.]\n",
            " [1. 0.]]\n"
          ]
        }
      ],
      "source": [
        "# Convert predictions to binary values\n",
        "y_pred = np.where(y_hat > 0.5, 1, 0)\n",
        "y = np.column_stack((y_pred, y_true))\n",
        "np.set_printoptions(threshold=np.inf)\n",
        "print(y)"
      ]
    },
    {
      "cell_type": "markdown",
      "id": "e88f6c8d",
      "metadata": {
        "id": "e88f6c8d"
      },
      "source": [
        "## 6.3 Calculate Metrics"
      ]
    },
    {
      "cell_type": "code",
      "execution_count": null,
      "id": "493918ed",
      "metadata": {
        "id": "493918ed",
        "outputId": "290f694b-3121-4f0d-8a5d-2fb1ed0ecffc",
        "colab": {
          "base_uri": "https://localhost:8080/"
        }
      },
      "outputs": [
        {
          "output_type": "execute_result",
          "data": {
            "text/plain": [
              "1.0"
            ]
          },
          "metadata": {},
          "execution_count": 43
        }
      ],
      "source": [
        "# Recall (Sensitivity) = TP / TP + FN\n",
        "# Percentage of positive samples correctly predicted (over what is really positive)\n",
        "\n",
        "# Creating a metric object\n",
        "m = Recall()\n",
        "\n",
        "# Calculating the recall value\n",
        "m.update_state(y_true, y_pred)\n",
        "\n",
        "# Return Recall result\n",
        "m.result().numpy()"
      ]
    },
    {
      "cell_type": "code",
      "execution_count": null,
      "id": "96d0f886",
      "metadata": {
        "id": "96d0f886",
        "outputId": "04af7eb7-9e5d-4b90-e1ea-28d74bd2957a",
        "colab": {
          "base_uri": "https://localhost:8080/"
        }
      },
      "outputs": [
        {
          "output_type": "execute_result",
          "data": {
            "text/plain": [
              "0.15013404"
            ]
          },
          "metadata": {},
          "execution_count": 44
        }
      ],
      "source": [
        "# Precision = TP / TP + FP\n",
        "# Percentage of samples that were properly labeled positives (over positive labelled samples)\n",
        "# Creating a metric object\n",
        "m = Precision()\n",
        "\n",
        "# Calculating the precision value\n",
        "m.update_state(y_true, y_pred)\n",
        "\n",
        "# Return Precision result\n",
        "m.result().numpy()"
      ]
    },
    {
      "cell_type": "code",
      "execution_count": null,
      "id": "73c1f9a9",
      "metadata": {
        "id": "73c1f9a9",
        "outputId": "7d904a34-7339-4d60-c292-a88160d2002a",
        "colab": {
          "base_uri": "https://localhost:8080/"
        }
      },
      "outputs": [
        {
          "output_type": "stream",
          "name": "stdout",
          "text": [
            "Accuracy: 0.15013404825737264\n"
          ]
        }
      ],
      "source": [
        "# Accuracy = TP + TN / All\n",
        "from sklearn.metrics import accuracy_score\n",
        "\n",
        "# Compute the accuracy score\n",
        "accuracy = accuracy_score(y_true, y_pred)\n",
        "\n",
        "print(\"Accuracy:\", accuracy)\n"
      ]
    },
    {
      "cell_type": "code",
      "execution_count": null,
      "id": "2acea6d3",
      "metadata": {
        "scrolled": true,
        "id": "2acea6d3",
        "outputId": "e15be129-88a8-4601-b387-259842f3db69",
        "colab": {
          "base_uri": "https://localhost:8080/"
        }
      },
      "outputs": [
        {
          "output_type": "stream",
          "name": "stdout",
          "text": [
            "True Negatives:  0 False Positives:  317 \n",
            "False Negatives:  0 True Positives:  56\n"
          ]
        }
      ],
      "source": [
        "# # Confusion Matrix\n",
        "from sklearn.metrics import confusion_matrix\n",
        "\n",
        "cm = confusion_matrix(y_true, y_pred)\n",
        "tn, fp, fn, tp = cm.ravel()\n",
        "print(\"True Negatives: \", tn, \"False Positives: \", fp, \"\\nFalse Negatives: \", fn, \"True Positives: \", tp)\n"
      ]
    },
    {
      "cell_type": "markdown",
      "id": "85cbbde8",
      "metadata": {
        "id": "85cbbde8"
      },
      "source": [
        "## 6.4 Visualize Results"
      ]
    },
    {
      "cell_type": "code",
      "execution_count": null,
      "id": "4ad7a836",
      "metadata": {
        "id": "4ad7a836",
        "outputId": "0c576f36-7f66-455a-9709-3984b3a7ebd9",
        "colab": {
          "base_uri": "https://localhost:8080/",
          "height": 235
        }
      },
      "outputs": [
        {
          "output_type": "error",
          "ename": "NameError",
          "evalue": "ignored",
          "traceback": [
            "\u001b[0;31m---------------------------------------------------------------------------\u001b[0m",
            "\u001b[0;31mNameError\u001b[0m                                 Traceback (most recent call last)",
            "\u001b[0;32m<ipython-input-1-eafd36ac4c39>\u001b[0m in \u001b[0;36m<cell line: 2>\u001b[0;34m()\u001b[0m\n\u001b[1;32m      1\u001b[0m \u001b[0;31m# Set plot size\u001b[0m\u001b[0;34m\u001b[0m\u001b[0;34m\u001b[0m\u001b[0m\n\u001b[0;32m----> 2\u001b[0;31m \u001b[0mplt\u001b[0m\u001b[0;34m.\u001b[0m\u001b[0mfigure\u001b[0m\u001b[0;34m(\u001b[0m\u001b[0mfigsize\u001b[0m\u001b[0;34m=\u001b[0m\u001b[0;34m(\u001b[0m\u001b[0;36m18\u001b[0m\u001b[0;34m,\u001b[0m\u001b[0;36m8\u001b[0m\u001b[0;34m)\u001b[0m\u001b[0;34m)\u001b[0m\u001b[0;34m\u001b[0m\u001b[0;34m\u001b[0m\u001b[0m\n\u001b[0m\u001b[1;32m      3\u001b[0m \u001b[0;34m\u001b[0m\u001b[0m\n\u001b[1;32m      4\u001b[0m \u001b[0;31m# Set index\u001b[0m\u001b[0;34m\u001b[0m\u001b[0;34m\u001b[0m\u001b[0m\n\u001b[1;32m      5\u001b[0m \u001b[0mindex\u001b[0m \u001b[0;34m=\u001b[0m \u001b[0;36m15\u001b[0m\u001b[0;34m\u001b[0m\u001b[0;34m\u001b[0m\u001b[0m\n",
            "\u001b[0;31mNameError\u001b[0m: name 'plt' is not defined"
          ]
        }
      ],
      "source": [
        "# Set plot size\n",
        "plt.figure(figsize=(18,8))\n",
        "\n",
        "# Set index\n",
        "index = 15\n",
        "# index = random.randint(0,30)\n",
        "print(\"Index: \", index)\n",
        "\n",
        "# Set first subplot\n",
        "plt.subplot(1,2,1)\n",
        "plt.imshow(test_input[index])\n",
        "\n",
        "# Set second subplot\n",
        "plt.subplot(1,2,2)\n",
        "plt.imshow(test_val[index])\n",
        "\n",
        "# Renders cleanly\n",
        "plt.show()\n",
        "\n",
        "if (y_pred[index] == 1):\n",
        "    print(\"Same Person\")\n",
        "else:\n",
        "    print(\"Different Persons\")"
      ]
    },
    {
      "cell_type": "markdown",
      "id": "8481bbf7",
      "metadata": {
        "id": "8481bbf7"
      },
      "source": [
        "# 7. Save Model"
      ]
    },
    {
      "cell_type": "code",
      "execution_count": null,
      "id": "48e96680",
      "metadata": {
        "id": "48e96680",
        "outputId": "ae6d43b1-0030-4f72-da7f-8f58fbf6b0c6"
      },
      "outputs": [
        {
          "name": "stdout",
          "output_type": "stream",
          "text": [
            "WARNING:tensorflow:Compiled the loaded model, but the compiled metrics have yet to be built. `model.compile_metrics` will be empty until you train or evaluate the model.\n"
          ]
        }
      ],
      "source": [
        "# Save weights\n",
        "siamese_model.save('FaceID/siamesemodel.h5')"
      ]
    },
    {
      "cell_type": "code",
      "execution_count": null,
      "id": "a1d59515",
      "metadata": {
        "id": "a1d59515",
        "outputId": "cd982d65-13d1-4fc1-b625-3ebd7fd84da5"
      },
      "outputs": [
        {
          "name": "stdout",
          "output_type": "stream",
          "text": [
            "WARNING:tensorflow:No training configuration found in the save file, so the model was *not* compiled. Compile it manually.\n"
          ]
        }
      ],
      "source": [
        "# Reload model\n",
        "model = tf.keras.models.load_model('FaceID/siamesemodel.h5', custom_objects={'L1Dist':L1Dist, 'BinaryCrossentropy':tf.losses.BinaryCrossentropy})"
      ]
    },
    {
      "cell_type": "code",
      "execution_count": null,
      "id": "e58bc174",
      "metadata": {
        "id": "e58bc174",
        "outputId": "5ece879a-91aa-4d24-c9d9-0fd0622d011b"
      },
      "outputs": [
        {
          "name": "stdout",
          "output_type": "stream",
          "text": [
            "WARNING:tensorflow:6 out of the last 8 calls to <function Model.make_predict_function.<locals>.predict_function at 0x7f1a263b55e0> triggered tf.function retracing. Tracing is expensive and the excessive number of tracings could be due to (1) creating @tf.function repeatedly in a loop, (2) passing tensors with different shapes, (3) passing Python objects instead of tensors. For (1), please define your @tf.function outside of the loop. For (2), @tf.function has reduce_retracing=True option that can avoid unnecessary retracing. For (3), please refer to https://www.tensorflow.org/guide/function#controlling_retracing and https://www.tensorflow.org/api_docs/python/tf/function for  more details.\n",
            "3/3 [==============================] - 5s 1s/step\n"
          ]
        },
        {
          "data": {
            "text/plain": [
              "array([[3.43148480e-04],\n",
              "       [9.99759138e-01],\n",
              "       [2.93147197e-04],\n",
              "       [2.58727174e-04],\n",
              "       [3.12200127e-10],\n",
              "       [9.99869108e-01],\n",
              "       [9.00573832e-06],\n",
              "       [3.54808544e-05],\n",
              "       [1.52513539e-05],\n",
              "       [9.99982655e-01],\n",
              "       [7.67390375e-05],\n",
              "       [3.29335657e-04],\n",
              "       [9.99978185e-01],\n",
              "       [2.28931924e-04],\n",
              "       [2.86020600e-04],\n",
              "       [9.99957263e-01],\n",
              "       [9.99866545e-01],\n",
              "       [7.08128442e-04],\n",
              "       [9.99923289e-01],\n",
              "       [9.99822676e-01],\n",
              "       [4.92665131e-05],\n",
              "       [8.04969532e-05],\n",
              "       [9.99830902e-01],\n",
              "       [9.99890387e-01],\n",
              "       [9.35074873e-04],\n",
              "       [4.24746104e-04],\n",
              "       [9.99689698e-01],\n",
              "       [9.99984860e-01],\n",
              "       [5.29043900e-04],\n",
              "       [9.99995589e-01],\n",
              "       [1.02577469e-04],\n",
              "       [9.64357459e-05],\n",
              "       [5.93711564e-04],\n",
              "       [9.99999821e-01],\n",
              "       [9.99990404e-01],\n",
              "       [1.00000000e+00],\n",
              "       [9.99463499e-01],\n",
              "       [5.34195860e-04],\n",
              "       [9.99678314e-01],\n",
              "       [5.94284174e-05],\n",
              "       [9.99989152e-01],\n",
              "       [9.99981463e-01],\n",
              "       [9.99847293e-01],\n",
              "       [9.31048874e-08],\n",
              "       [9.99866009e-01],\n",
              "       [2.32103758e-07],\n",
              "       [1.09376881e-04],\n",
              "       [1.09457087e-05],\n",
              "       [9.99993265e-01],\n",
              "       [1.59662653e-04],\n",
              "       [3.27863308e-05],\n",
              "       [9.99965608e-01],\n",
              "       [1.41760887e-04],\n",
              "       [2.77792111e-07],\n",
              "       [9.99955893e-01],\n",
              "       [9.99714255e-01],\n",
              "       [9.99537826e-01],\n",
              "       [1.11017507e-05],\n",
              "       [9.34663331e-05],\n",
              "       [1.00000000e+00],\n",
              "       [9.99994755e-01],\n",
              "       [8.51997407e-04],\n",
              "       [4.07041603e-04],\n",
              "       [3.45020264e-04],\n",
              "       [8.20018613e-05],\n",
              "       [9.99994576e-01],\n",
              "       [9.99999285e-01],\n",
              "       [4.36280156e-04],\n",
              "       [9.99920785e-01],\n",
              "       [9.99986291e-01],\n",
              "       [1.01078265e-04],\n",
              "       [6.10745943e-08],\n",
              "       [4.05803905e-04],\n",
              "       [9.99805570e-01],\n",
              "       [9.99748468e-01],\n",
              "       [9.99968946e-01],\n",
              "       [2.52161000e-04],\n",
              "       [1.23313162e-04],\n",
              "       [9.99913812e-01],\n",
              "       [9.99627173e-01]], dtype=float32)"
            ]
          },
          "execution_count": 483,
          "metadata": {},
          "output_type": "execute_result"
        }
      ],
      "source": [
        "# Make predictions with reloaded model\n",
        "model.predict([test_input, test_val])"
      ]
    },
    {
      "cell_type": "code",
      "execution_count": null,
      "id": "f3f87a39",
      "metadata": {
        "id": "f3f87a39",
        "outputId": "3e88c29a-9bc6-43e8-e17d-5699931dad3d"
      },
      "outputs": [
        {
          "name": "stdout",
          "output_type": "stream",
          "text": [
            "Model: \"SiameseNetwork\"\n",
            "__________________________________________________________________________________________________\n",
            " Layer (type)                   Output Shape         Param #     Connected to                     \n",
            "==================================================================================================\n",
            " input_img (InputLayer)         [(None, 100, 100, 3  0           []                               \n",
            "                                )]                                                                \n",
            "                                                                                                  \n",
            " validation_img (InputLayer)    [(None, 100, 100, 3  0           []                               \n",
            "                                )]                                                                \n",
            "                                                                                                  \n",
            " embedding (Functional)         (None, 4096)         38960448    ['input_img[0][0]',              \n",
            "                                                                  'validation_img[0][0]']         \n",
            "                                                                                                  \n",
            " l1_dist_9 (L1Dist)             (None, 4096)         0           ['embedding[0][0]',              \n",
            "                                                                  'embedding[1][0]']              \n",
            "                                                                                                  \n",
            " dense_7 (Dense)                (None, 1)            4097        ['l1_dist_9[0][0]']              \n",
            "                                                                                                  \n",
            "==================================================================================================\n",
            "Total params: 38,964,545\n",
            "Trainable params: 38,964,545\n",
            "Non-trainable params: 0\n",
            "__________________________________________________________________________________________________\n"
          ]
        }
      ],
      "source": [
        "# Display model summary\n",
        "model.summary()"
      ]
    },
    {
      "cell_type": "code",
      "execution_count": null,
      "id": "546e7398",
      "metadata": {
        "id": "546e7398"
      },
      "outputs": [],
      "source": []
    }
  ],
  "metadata": {
    "kernelspec": {
      "display_name": "Python 3",
      "name": "python3"
    },
    "language_info": {
      "codemirror_mode": {
        "name": "ipython",
        "version": 3
      },
      "file_extension": ".py",
      "mimetype": "text/x-python",
      "name": "python",
      "nbconvert_exporter": "python",
      "pygments_lexer": "ipython3",
      "version": "3.8.10"
    },
    "colab": {
      "provenance": [],
      "gpuType": "T4",
      "machine_shape": "hm",
      "include_colab_link": true
    },
    "accelerator": "GPU"
  },
  "nbformat": 4,
  "nbformat_minor": 5
}