{
  "cells": [
    {
      "cell_type": "markdown",
      "metadata": {
        "id": "view-in-github",
        "colab_type": "text"
      },
      "source": [
        "<a href=\"https://colab.research.google.com/github/supernovaeee/siamese_nn/blob/main/Siamese_LFW.ipynb\" target=\"_parent\"><img src=\"https://colab.research.google.com/assets/colab-badge.svg\" alt=\"Open In Colab\"/></a>"
      ]
    },
    {
      "cell_type": "code",
      "execution_count": null,
      "id": "fc5cbf68",
      "metadata": {
        "id": "fc5cbf68"
      },
      "outputs": [],
      "source": [
        "# !pip install tensorflow opencv-python matplotlib"
      ]
    },
    {
      "cell_type": "code",
      "execution_count": null,
      "id": "85e918de",
      "metadata": {
        "id": "85e918de"
      },
      "outputs": [],
      "source": [
        "# !pip install -U scikit-learn"
      ]
    },
    {
      "cell_type": "markdown",
      "id": "c0c37fb0",
      "metadata": {
        "id": "c0c37fb0"
      },
      "source": [
        "## 1.2 Import Dependencies"
      ]
    },
    {
      "cell_type": "code",
      "execution_count": 1,
      "id": "89488b7d",
      "metadata": {
        "id": "89488b7d"
      },
      "outputs": [],
      "source": [
        "import cv2\n",
        "import os\n",
        "import random\n",
        "import numpy as np\n",
        "from matplotlib import pyplot as plt\n",
        "import glob\n",
        "import string\n",
        "import re"
      ]
    },
    {
      "cell_type": "code",
      "execution_count": 2,
      "id": "f2424872",
      "metadata": {
        "id": "f2424872"
      },
      "outputs": [],
      "source": [
        "# Import tensorflow dependencies - functional API\n",
        "from tensorflow.keras.models import Model\n",
        "from tensorflow.keras.layers import Layer, Conv2D, Dense, MaxPooling2D, Input, Flatten\n",
        "import tensorflow as tf\n",
        "from sklearn.metrics import accuracy_score\n",
        "from tensorflow.keras import layers, models, losses, optimizers\n",
        "from tensorflow.keras.utils import Progbar\n",
        "from sklearn.model_selection import GridSearchCV\n",
        "from tensorflow.keras.wrappers.scikit_learn import KerasClassifier"
      ]
    },
    {
      "cell_type": "code",
      "execution_count": null,
      "id": "f3c6d0a1",
      "metadata": {
        "id": "f3c6d0a1"
      },
      "outputs": [],
      "source": [
        "# tf.config.list_physical_devices(\"GPU\")"
      ]
    },
    {
      "cell_type": "markdown",
      "id": "644adc0d",
      "metadata": {
        "id": "644adc0d"
      },
      "source": [
        "## 1.3 Create Folder Structures"
      ]
    },
    {
      "cell_type": "code",
      "execution_count": 3,
      "id": "aa72ef46",
      "metadata": {
        "id": "aa72ef46"
      },
      "outputs": [],
      "source": [
        "# set up paths\n",
        "POS_PATH = os.path.join('drive', 'MyDrive','FaceID','data', 'positive')\n",
        "NEG_PATH = os.path.join('drive', 'MyDrive','FaceID','data', 'negative')\n",
        "ANC_PATH = os.path.join('drive', 'MyDrive','FaceID','data', 'anchor')"
      ]
    },
    {
      "cell_type": "markdown",
      "id": "4fa87b85",
      "metadata": {
        "id": "4fa87b85"
      },
      "source": [
        "# 2. Collect Positives and Anchors"
      ]
    },
    {
      "cell_type": "markdown",
      "id": "a8cebb1b",
      "metadata": {
        "id": "a8cebb1b"
      },
      "source": [
        "## 2.1 Untar Labelled Faces in the Wild Dataset"
      ]
    },
    {
      "cell_type": "code",
      "execution_count": null,
      "id": "3722ffeb",
      "metadata": {
        "id": "3722ffeb"
      },
      "outputs": [],
      "source": [
        "# https://vis-www.cs.umass.edu/lfw/"
      ]
    },
    {
      "cell_type": "code",
      "execution_count": null,
      "id": "814dd0ce",
      "metadata": {
        "id": "814dd0ce"
      },
      "outputs": [],
      "source": [
        "# # uncompress tar LFW dataset\n",
        "# !tar -xf lfw.tgz"
      ]
    },
    {
      "cell_type": "code",
      "execution_count": null,
      "id": "e4fb0980",
      "metadata": {
        "id": "e4fb0980"
      },
      "outputs": [],
      "source": [
        "\n",
        "\n",
        "# # Define the letters to check\n",
        "# letters_to_check = string.ascii_uppercase[2::2]  # 'C', 'E', 'G', ...\n",
        "\n",
        "# # Move LFW images to the following repo (data/negative)\n",
        "# for file in os.listdir('FaceID/data/negative'):\n",
        "#     for letter in letters_to_check:\n",
        "#         if file.startswith(letter):\n",
        "#             EX_PATH = os.path.join('FaceID/data/negative', file)\n",
        "#             NEW_PATH = os.path.join(ANC_PATH, file)\n",
        "#             os.renames(EX_PATH, NEW_PATH)\n",
        "#             break  # Break the loop if a match is found\n"
      ]
    },
    {
      "cell_type": "code",
      "execution_count": null,
      "id": "8376ada6",
      "metadata": {
        "id": "8376ada6"
      },
      "outputs": [],
      "source": [
        "# os.listdir(POS_PATH)"
      ]
    },
    {
      "cell_type": "code",
      "execution_count": null,
      "id": "7e71a9c3",
      "metadata": {
        "id": "7e71a9c3"
      },
      "outputs": [],
      "source": [
        "\n",
        "\n",
        "# # Move images from anchor to positive if their filenames end with even numbers\n",
        "# for file in os.listdir(POS_PATH):\n",
        "#     if re.match('.*\\_[01][012][0123456789][02468]\\.jpg$', file):\n",
        "#         EX_PATH = os.path.join(POS_PATH, file)\n",
        "#         NEW_PATH = os.path.join(ANC_PATH, file)\n",
        "#         os.renames(EX_PATH, NEW_PATH)\n"
      ]
    },
    {
      "cell_type": "markdown",
      "id": "4a5cab56",
      "metadata": {
        "id": "4a5cab56"
      },
      "source": [
        "# 3. Load and Preprocess Images"
      ]
    },
    {
      "cell_type": "markdown",
      "id": "f4b3d7dc",
      "metadata": {
        "id": "f4b3d7dc"
      },
      "source": [
        "## 3.1 Get Image Directories"
      ]
    },
    {
      "cell_type": "code",
      "execution_count": null,
      "id": "a6d492e9",
      "metadata": {
        "id": "a6d492e9"
      },
      "outputs": [],
      "source": [
        "# First, ensure that the image files are correctly stored into anchor, positive, and negative folders\n",
        "# The anchor and positive images should refer to the same person, while negative is for remaining datasets\n",
        "# Split a person's images into anchor and positive"
      ]
    },
    {
      "cell_type": "code",
      "source": [
        "# document_files = os.listdir(POS_PATH)\n",
        "# document_files"
      ],
      "metadata": {
        "id": "yIjmUykuyq0G"
      },
      "id": "yIjmUykuyq0G",
      "execution_count": null,
      "outputs": []
    },
    {
      "cell_type": "code",
      "source": [
        "from google.colab import drive\n",
        "drive.mount('/content/drive')"
      ],
      "metadata": {
        "colab": {
          "base_uri": "https://localhost:8080/"
        },
        "id": "lByxFKQrxlNK",
        "outputId": "bf9ee089-88ed-45e8-f81b-e15258d31250"
      },
      "id": "lByxFKQrxlNK",
      "execution_count": 4,
      "outputs": [
        {
          "output_type": "stream",
          "name": "stdout",
          "text": [
            "Mounted at /content/drive\n"
          ]
        }
      ]
    },
    {
      "cell_type": "code",
      "execution_count": 5,
      "id": "d7143767",
      "metadata": {
        "id": "d7143767"
      },
      "outputs": [],
      "source": [
        "# Get all filenames in the document directory\n",
        "document_files = os.listdir(ANC_PATH)\n",
        "\n",
        "# Extract unique names from the document filenames\n",
        "names = []\n",
        "for filename in document_files:\n",
        "    parts = filename.split('_')\n",
        "    if len(parts) == 3:\n",
        "        # Format: FirstName_LastName_0002.jpg\n",
        "        name = '_'.join(parts[:2]) + '_'\n",
        "    elif len(parts) == 2:\n",
        "        # Format: FirstName_0002.jpg\n",
        "        name = parts[0] + '_'\n",
        "    else:\n",
        "        continue  # Skip files with unexpected format\n",
        "\n",
        "    names.append(name)\n",
        "\n",
        "# Remove duplicates from the names list\n",
        "names = list(set(names))\n"
      ]
    },
    {
      "cell_type": "code",
      "execution_count": null,
      "id": "e10ff615",
      "metadata": {
        "id": "e10ff615",
        "outputId": "c0b8e12d-75f5-4ca7-e7fe-8eb746eb80ff",
        "colab": {
          "base_uri": "https://localhost:8080/"
        }
      },
      "outputs": [
        {
          "output_type": "execute_result",
          "data": {
            "text/plain": [
              "703"
            ]
          },
          "metadata": {},
          "execution_count": 8
        }
      ],
      "source": [
        "len(names)"
      ]
    },
    {
      "cell_type": "code",
      "execution_count": 7,
      "id": "908a2e25",
      "metadata": {
        "id": "908a2e25"
      },
      "outputs": [],
      "source": [
        "# Randomly select names from the available names list\n",
        "# num_names = len(names) - 1\n",
        "selected_names = random.sample(names, 300)\n",
        "\n",
        "\n",
        "# Create empty anchor and positive datasets\n",
        "anchor_list = []\n",
        "positive_list = []\n",
        "negative = tf.data.Dataset.from_tensor_slices([\"\"])\n",
        "\n",
        "# Load images from anchor and positive folders and pair them\n",
        "for i, name in enumerate(selected_names):\n",
        "    anchor_files = glob.glob(ANC_PATH + f'/{name}*.jpg')\n",
        "    positive_files = glob.glob(POS_PATH + f'/{name}*.jpg')\n",
        "\n",
        "    anchor_num = len(anchor_files)\n",
        "    positive_num = len(positive_files)\n",
        "\n",
        "    if (anchor_num > positive_num):\n",
        "      # cycle through the filenames of the most abundant (if anchor files is more abundant than positive files for this name)\n",
        "      for i in range(anchor_num):\n",
        "        positive_item = positive_files[i % positive_num] # modulo operator makes sure the index used for positive_files never goes out of bounds. It will cycle back to zero (and increment from zero) once the index reaches a multiple of the list's len()\n",
        "        anchor_item = anchor_files[i]\n",
        "\n",
        "        # Append the datasets to anchor and positive\n",
        "        anchor_list.append(anchor_item)\n",
        "        positive_list.append(positive_item)\n",
        "    else:\n",
        "      # cycle through the filenames of the most abundant (else, if positive files is more abundant than anchor files for this name, or they are equal)\n",
        "      for i in range(positive_num):\n",
        "        anchor_item = anchor_files[i % anchor_num] # modulo operator makes sure the index used for anchor_files never goes out of bounds. It will cycle back to zero (and increment from zero) once the index reaches a multiple of the list's len()\n",
        "        positive_item = positive_files[i]\n",
        "        # Append the datasets to anchor and positive\n",
        "        anchor_list.append(anchor_item)\n",
        "        positive_list.append(positive_item)\n",
        "\n",
        "# Turn anchor and positive list into tf.data.Dataset (tensorflow dataset(?))\n",
        "anchor = tf.data.Dataset.from_tensor_slices(anchor_list)\n",
        "positive = tf.data.Dataset.from_tensor_slices(positive_list)\n",
        "\n",
        "negative = tf.data.Dataset.list_files(NEG_PATH+'/*.jpg').take(len(anchor)) # take the length of anchor since length of either one is the same.\n",
        "\n"
      ]
    },
    {
      "cell_type": "code",
      "source": [
        "len(positive)"
      ],
      "metadata": {
        "id": "ODQdQ1p7iqbj",
        "colab": {
          "base_uri": "https://localhost:8080/"
        },
        "outputId": "9e61a8e8-44d8-45a9-9761-5ab82626b600"
      },
      "id": "ODQdQ1p7iqbj",
      "execution_count": 8,
      "outputs": [
        {
          "output_type": "execute_result",
          "data": {
            "text/plain": [
              "715"
            ]
          },
          "metadata": {},
          "execution_count": 8
        }
      ]
    },
    {
      "cell_type": "code",
      "source": [
        "# # Print the elements of the paired datasets -- FOR CHECKING\n",
        "# num_elements_to_show = 30  # Specify the number of elements to show\n",
        "# anchor_samples = anchor.take(num_elements_to_show)\n",
        "# positive_samples = positive.take(num_elements_to_show)\n",
        "\n",
        "# for a, p in tf.data.Dataset.zip((anchor_samples, positive_samples)):\n",
        "#     print(\"Anchor:\", a)\n",
        "#     print(\"Positive:\", p)"
      ],
      "metadata": {
        "id": "SpmB7nVEiQ7-"
      },
      "id": "SpmB7nVEiQ7-",
      "execution_count": null,
      "outputs": []
    },
    {
      "cell_type": "code",
      "execution_count": null,
      "id": "b59f2c2d",
      "metadata": {
        "id": "b59f2c2d"
      },
      "outputs": [],
      "source": [
        "# # Print the elements of the paired datasets -- FOR CHECKING\n",
        "# num_elements_to_show = 30  # Specify the number of elements to show\n",
        "# anchor_samples = anchor.take(num_elements_to_show)\n",
        "# negative_samples = negative.take(num_elements_to_show)\n",
        "\n",
        "# for a, p in tf.data.Dataset.zip((anchor_samples, negative_samples)):\n",
        "#     print(\"Anchor:\", a)\n",
        "#     print(\"Negative:\", p)"
      ]
    },
    {
      "cell_type": "code",
      "execution_count": null,
      "id": "ffce634d",
      "metadata": {
        "id": "ffce634d"
      },
      "outputs": [],
      "source": [
        "# # Take a look at the anchor dataset -- FOR CHECKING\n",
        "# dir_test = anchor.as_numpy_iterator()"
      ]
    },
    {
      "cell_type": "code",
      "execution_count": null,
      "id": "6ec00508",
      "metadata": {
        "id": "6ec00508"
      },
      "outputs": [],
      "source": [
        "# print(dir_test.next()) -- FOR CHECKING"
      ]
    },
    {
      "cell_type": "markdown",
      "id": "f8b3bd14",
      "metadata": {
        "id": "f8b3bd14"
      },
      "source": [
        "## 3.2 Preprocessing - Scale and Resize"
      ]
    },
    {
      "cell_type": "code",
      "execution_count": 9,
      "id": "13a44bf1",
      "metadata": {
        "id": "13a44bf1"
      },
      "outputs": [],
      "source": [
        "def preprocess(file_path):\n",
        "\n",
        "    # Read in image from file path\n",
        "    byte_img = tf.io.read_file(file_path)\n",
        "    # Load in the image\n",
        "    img = tf.io.decode_jpeg(byte_img)\n",
        "\n",
        "    # Preprocessing steps - resizing the image to be 100x100x3\n",
        "    img = tf.image.resize(img, (100,100))\n",
        "    # Scale image to be between 0 and 1\n",
        "    img = img / 255.0\n",
        "#\n",
        "    # Return image\n",
        "    return img"
      ]
    },
    {
      "cell_type": "code",
      "source": [
        "def process(file_path):\n",
        "\n",
        " # Read in image from file path\n",
        "    byte_img = tf.io.read_file(file_path)\n",
        "    # Load in the image\n",
        "    img = tf.io.decode_jpeg(byte_img)\n",
        "\n",
        "    return img"
      ],
      "metadata": {
        "id": "nXZcl8YEkYXB"
      },
      "id": "nXZcl8YEkYXB",
      "execution_count": 10,
      "outputs": []
    },
    {
      "cell_type": "code",
      "execution_count": null,
      "id": "60b69b99",
      "metadata": {
        "id": "60b69b99"
      },
      "outputs": [],
      "source": [
        "# img = preprocess('drive/MyDrive/FaceID/data/anchor/Mick_Jagger_0002.jpg') -- FOR CHECKING"
      ]
    },
    {
      "cell_type": "code",
      "source": [
        "# x = process('drive/MyDrive/FaceID/data/anchor/Mick_Jagger_0002.jpg') -- FOR CHECKING\n",
        "# # Display the image using Matplotlib\n",
        "# plt.imshow(x)\n",
        "# plt.axis('off')  # Remove axis ticks\n",
        "# plt.show()"
      ],
      "metadata": {
        "id": "_TrIWWamkOFJ"
      },
      "id": "_TrIWWamkOFJ",
      "execution_count": null,
      "outputs": []
    },
    {
      "cell_type": "code",
      "source": [
        "# # Convert the TensorFlow tensor to a NumPy array for visualization -- FOR CHECKING\n",
        "# img_np = img.numpy()\n",
        "\n",
        "# # Display the image using Matplotlib\n",
        "# plt.imshow(img_np)\n",
        "# plt.axis('off')  # Remove axis ticks\n",
        "# plt.show()\n"
      ],
      "metadata": {
        "id": "9HhqvFIZkFPY"
      },
      "id": "9HhqvFIZkFPY",
      "execution_count": null,
      "outputs": []
    },
    {
      "cell_type": "code",
      "execution_count": null,
      "id": "e986a79e",
      "metadata": {
        "id": "e986a79e"
      },
      "outputs": [],
      "source": [
        "# img.numpy().max() -- FOR CHECKING"
      ]
    },
    {
      "cell_type": "markdown",
      "id": "da6a1585",
      "metadata": {
        "id": "da6a1585"
      },
      "source": [
        "## 3.3 Create Labelled Dataset"
      ]
    },
    {
      "cell_type": "code",
      "execution_count": null,
      "id": "ff4b2855",
      "metadata": {
        "id": "ff4b2855"
      },
      "outputs": [],
      "source": [
        "# (anchor, positive) => 1,1,1,1,1\n",
        "# (anchor, negative) => 0,0,0,0,0"
      ]
    },
    {
      "cell_type": "code",
      "source": [
        "# len(negative)"
      ],
      "metadata": {
        "id": "xt_fbq95od2P"
      },
      "id": "xt_fbq95od2P",
      "execution_count": null,
      "outputs": []
    },
    {
      "cell_type": "code",
      "source": [
        "# def preprocess(file_path):\n",
        "\n",
        "#     # Read in image from file path\n",
        "#     byte_img = tf.io.read_file(file_path)\n",
        "#     # Load in the image\n",
        "#     img = tf.io.decode_jpeg(byte_img)\n",
        "\n",
        "#     # Preprocessing steps - resizing the image to be 100x100x3\n",
        "#     img = tf.image.resize(img, (100,100))\n",
        "#     # Scale image to be between 0 and 1\n",
        "#     img = img / 255.0\n",
        "\n",
        "#     # Return image\n",
        "#     return img"
      ],
      "metadata": {
        "id": "GH_77SoPrs2S"
      },
      "id": "GH_77SoPrs2S",
      "execution_count": null,
      "outputs": []
    },
    {
      "cell_type": "code",
      "source": [
        "# def process(file_path):\n",
        "\n",
        "#     # Read in image from file path\n",
        "#     byte_img = tf.io.read_file(file_path)\n",
        "#     # Load in the image\n",
        "#     img = tf.io.decode_jpeg(byte_img)\n",
        "\n",
        "#     return img\n",
        "\n",
        "def preprocess_twin(input_img, validation_img, label):\n",
        "    return(preprocess(input_img), preprocess(validation_img), label)"
      ],
      "metadata": {
        "id": "dI3cyHdYrvLg"
      },
      "id": "dI3cyHdYrvLg",
      "execution_count": 11,
      "outputs": []
    },
    {
      "cell_type": "code",
      "source": [
        "# # Load and preprocess the anchor, positive, and negative images\n",
        "# anchor_images = [preprocess(path) for path in anchor]\n",
        "# positive_images = [preprocess(path) for path in positive]\n",
        "# negative_images = [preprocess(path) for path in negative]\n",
        "\n",
        "# # Convert the image lists to tensors\n",
        "# anchor = tf.data.Dataset.from_tensor_slices(anchor_images)\n",
        "# positive = tf.data.Dataset.from_tensor_slices(positive_images)\n",
        "# negative = tf.data.Dataset.from_tensor_slices(negative_images)\n",
        "\n",
        "# # Combine the datasets\n",
        "# positives = tf.data.Dataset.zip((anchor, positive, tf.data.Dataset.from_tensor_slices(tf.ones(len(positive)))))\n",
        "# negatives = tf.data.Dataset.zip((anchor, negative, tf.data.Dataset.from_tensor_slices(tf.zeros(len(negative)))))\n",
        "# data = positives.concatenate(negatives)\n",
        "\n",
        "# # Continue with the rest of the code for creating the Siamese network and training\n",
        "\n"
      ],
      "metadata": {
        "id": "YfgqpB07fxFf"
      },
      "id": "YfgqpB07fxFf",
      "execution_count": null,
      "outputs": []
    },
    {
      "cell_type": "code",
      "execution_count": 12,
      "id": "56d39927",
      "metadata": {
        "id": "56d39927"
      },
      "outputs": [],
      "source": [
        "positives = tf.data.Dataset.zip((anchor, positive, tf.data.Dataset.from_tensor_slices(tf.ones(len(positive)))))\n",
        "negatives = tf.data.Dataset.zip((anchor, negative, tf.data.Dataset.from_tensor_slices(tf.zeros(len(negative)))))\n",
        "data = positives.concatenate(negatives)"
      ]
    },
    {
      "cell_type": "code",
      "source": [
        "data.element_spec"
      ],
      "metadata": {
        "id": "jAYT2mkpZng9"
      },
      "id": "jAYT2mkpZng9",
      "execution_count": null,
      "outputs": []
    },
    {
      "cell_type": "code",
      "execution_count": null,
      "id": "09a652bd",
      "metadata": {
        "id": "09a652bd"
      },
      "outputs": [],
      "source": [
        "# num_elements_to_show = 5  # Specify the number of elements to show\n",
        "# positive_samples = positives.take(num_elements_to_show)\n",
        "\n",
        "# for data_point in positive_samples:\n",
        "#     print(data_point)\n"
      ]
    },
    {
      "cell_type": "markdown",
      "source": [],
      "metadata": {
        "id": "NJ356cPITPB4"
      },
      "id": "NJ356cPITPB4"
    },
    {
      "cell_type": "code",
      "execution_count": null,
      "id": "fc3c715a",
      "metadata": {
        "id": "fc3c715a"
      },
      "outputs": [],
      "source": [
        "# samples = data.as_numpy_iterator()"
      ]
    },
    {
      "cell_type": "code",
      "execution_count": null,
      "id": "21b067f3",
      "metadata": {
        "id": "21b067f3"
      },
      "outputs": [],
      "source": [
        "# examples = samples.next()"
      ]
    },
    {
      "cell_type": "markdown",
      "id": "378ee17f",
      "metadata": {
        "id": "378ee17f"
      },
      "source": [
        "## 3.4 Build Train and Test Partition"
      ]
    },
    {
      "cell_type": "code",
      "execution_count": null,
      "id": "edf9c7e2",
      "metadata": {
        "id": "edf9c7e2"
      },
      "outputs": [],
      "source": [
        "def preprocess_twin(input_img, validation_img, label):\n",
        "    return(preprocess(input_img), preprocess(validation_img), label)"
      ]
    },
    {
      "cell_type": "code",
      "execution_count": null,
      "id": "3423194e",
      "metadata": {
        "id": "3423194e"
      },
      "outputs": [],
      "source": [
        "# res = preprocess_twin(*examples)"
      ]
    },
    {
      "cell_type": "code",
      "execution_count": null,
      "id": "227ff16f",
      "metadata": {
        "id": "227ff16f"
      },
      "outputs": [],
      "source": [
        "# plt.imshow(res[1])"
      ]
    },
    {
      "cell_type": "code",
      "execution_count": 13,
      "id": "53ec168c",
      "metadata": {
        "id": "53ec168c"
      },
      "outputs": [],
      "source": [
        "# Build dataloader pipeline\n",
        "data = data.map(preprocess_twin)\n",
        "data = data.cache()\n",
        "data = data.shuffle(buffer_size = 1024)"
      ]
    },
    {
      "cell_type": "code",
      "source": [
        "len(data)"
      ],
      "metadata": {
        "colab": {
          "base_uri": "https://localhost:8080/"
        },
        "id": "G9K9v1seQ_Ji",
        "outputId": "fa1897d6-ff10-47a1-f8d7-621c27e3c001"
      },
      "id": "G9K9v1seQ_Ji",
      "execution_count": 14,
      "outputs": [
        {
          "output_type": "execute_result",
          "data": {
            "text/plain": [
              "1430"
            ]
          },
          "metadata": {},
          "execution_count": 14
        }
      ]
    },
    {
      "cell_type": "code",
      "execution_count": null,
      "id": "22ff36af",
      "metadata": {
        "id": "22ff36af"
      },
      "outputs": [],
      "source": [
        "# REPLACED - NOT USED\n",
        "# # Training partition\n",
        "# train_data = data.take(round(len(data)*.7))\n",
        "# # train_data = data.take(4)\n",
        "# print(len(train_data))\n",
        "# train_data = train_data.batch(16)\n",
        "# print(len(train_data))\n",
        "# train_data = train_data.prefetch(8)\n",
        "# print(len(train_data))"
      ]
    },
    {
      "cell_type": "code",
      "execution_count": null,
      "id": "8e1260a5",
      "metadata": {
        "id": "8e1260a5"
      },
      "outputs": [],
      "source": [
        "# REPLACED - NOT USED\n",
        "# # Testing partition\n",
        "# test_data = data.skip(round(len(data)*.7))\n",
        "# # test_data = data.skip(4)\n",
        "# # test_data = test_data.take(round(len(data)*.3)) # use the dataset that has been skipped the amount of what was taken for train_data\n",
        "# print(len(test_data))\n",
        "# test_data = test_data.batch(16)\n",
        "# print(len(test_data))\n",
        "# test_data = test_data.prefetch(8)\n",
        "# print(len(test_data))"
      ]
    },
    {
      "cell_type": "code",
      "source": [],
      "metadata": {
        "id": "HAhN6_lfL0K6"
      },
      "id": "HAhN6_lfL0K6",
      "execution_count": null,
      "outputs": []
    },
    {
      "cell_type": "code",
      "source": [
        "# Split the data into training, validation, and testing partitions\n",
        "train_size = round(len(data) * 0.7)\n",
        "val_size = round(len(data) * 0.2)\n",
        "test_size = len(data) - train_size - val_size\n",
        "\n",
        "train_data = data.take(train_size)\n",
        "val_data = data.skip(train_size).take(val_size)\n",
        "test_data = data.skip(train_size + val_size)"
      ],
      "metadata": {
        "id": "hICb_pGjT7vq"
      },
      "id": "hICb_pGjT7vq",
      "execution_count": 15,
      "outputs": []
    },
    {
      "cell_type": "code",
      "source": [
        "print(len(train_data))\n",
        "print(len(val_data))\n",
        "print(len(test_data))"
      ],
      "metadata": {
        "colab": {
          "base_uri": "https://localhost:8080/"
        },
        "id": "1WXKlERKT-2B",
        "outputId": "254b9764-cc14-4d73-c7fc-20aff15a6deb"
      },
      "id": "1WXKlERKT-2B",
      "execution_count": 16,
      "outputs": [
        {
          "output_type": "stream",
          "name": "stdout",
          "text": [
            "1001\n",
            "286\n",
            "143\n"
          ]
        }
      ]
    },
    {
      "cell_type": "code",
      "source": [
        "train_data.element_spec"
      ],
      "metadata": {
        "colab": {
          "base_uri": "https://localhost:8080/"
        },
        "id": "TX-Eg7MCNjqO",
        "outputId": "ff635fcc-6add-44b2-a181-81af79229007"
      },
      "id": "TX-Eg7MCNjqO",
      "execution_count": null,
      "outputs": [
        {
          "output_type": "execute_result",
          "data": {
            "text/plain": [
              "(TensorSpec(shape=(100, 100, None), dtype=tf.float32, name=None),\n",
              " TensorSpec(shape=(100, 100, None), dtype=tf.float32, name=None),\n",
              " TensorSpec(shape=(), dtype=tf.float32, name=None))"
            ]
          },
          "metadata": {},
          "execution_count": 134
        }
      ]
    },
    {
      "cell_type": "code",
      "source": [
        "batch_size = 16\n",
        "train_data = train_data.batch(batch_size).prefetch(tf.data.AUTOTUNE) # add , drop_remainder=True after batch_size if want to drop remainder\n",
        "val_data = val_data.batch(batch_size).prefetch(tf.data.AUTOTUNE)\n",
        "test_data = test_data.batch(batch_size).prefetch(tf.data.AUTOTUNE)"
      ],
      "metadata": {
        "id": "lBCEM5JPUF4I"
      },
      "id": "lBCEM5JPUF4I",
      "execution_count": 17,
      "outputs": []
    },
    {
      "cell_type": "code",
      "source": [
        "len(test_data)"
      ],
      "metadata": {
        "colab": {
          "base_uri": "https://localhost:8080/"
        },
        "id": "9IbjtCpzu4Zd",
        "outputId": "863aa3fe-3ceb-456f-9e54-9a982dcfff9d"
      },
      "id": "9IbjtCpzu4Zd",
      "execution_count": 18,
      "outputs": [
        {
          "output_type": "execute_result",
          "data": {
            "text/plain": [
              "9"
            ]
          },
          "metadata": {},
          "execution_count": 18
        }
      ]
    },
    {
      "cell_type": "code",
      "source": [
        "                                                                                                                                      # # Convert tf.data.Dataset to NumPy arrays\n",
        "# train_data_np = np.array(list(train_data.as_numpy_iterator()))\n",
        "# val_data_np = np.array(list(val_data.as_numpy_iterator()))"
      ],
      "metadata": {
        "id": "TaBnVjErkqQB"
      },
      "id": "TaBnVjErkqQB",
      "execution_count": null,
      "outputs": []
    },
    {
      "cell_type": "code",
      "source": [
        "# train_samples = train_data.as_numpy_iterator()"
      ],
      "metadata": {
        "id": "64zTAFBxT24-"
      },
      "id": "64zTAFBxT24-",
      "execution_count": null,
      "outputs": []
    },
    {
      "cell_type": "code",
      "source": [
        "# examples = train_samples.next()"
      ],
      "metadata": {
        "id": "EdH5op65Uibk"
      },
      "id": "EdH5op65Uibk",
      "execution_count": null,
      "outputs": []
    },
    {
      "cell_type": "code",
      "source": [
        "# plt.imshow(examples[0])"
      ],
      "metadata": {
        "id": "z-sVz_p3UkD1"
      },
      "id": "z-sVz_p3UkD1",
      "execution_count": null,
      "outputs": []
    },
    {
      "cell_type": "code",
      "execution_count": null,
      "id": "d0299f90",
      "metadata": {
        "id": "d0299f90"
      },
      "outputs": [],
      "source": [
        "# test_data_samples = test_data.as_numpy_iterator()\n",
        "# examples = train_samples.next()\n"
      ]
    },
    {
      "cell_type": "code",
      "source": [
        "# plt.imshow(examples[1])"
      ],
      "metadata": {
        "id": "8NVS40sqV4oi"
      },
      "id": "8NVS40sqV4oi",
      "execution_count": null,
      "outputs": []
    },
    {
      "cell_type": "markdown",
      "id": "980a817f",
      "metadata": {
        "id": "980a817f"
      },
      "source": [
        "# 4. Model Engineering"
      ]
    },
    {
      "cell_type": "code",
      "source": [
        "def make_embedding():\n",
        "  inp = Input(shape=(100,100,3), name='input_image')\n",
        "\n",
        "  # First block\n",
        "  c1 = Conv2D(64, (10,10), activation='relu')(inp)\n",
        "  m1 = MaxPooling2D(64, (2,2), padding='same')(c1)\n",
        "\n",
        "  # Second block\n",
        "  c2 = Conv2D(128, (7,7), activation='relu')(m1)\n",
        "  m2 = MaxPooling2D(64, (2,2), padding='same')(c2)\n",
        "\n",
        "  # Third block\n",
        "  c3 = Conv2D(128, (4,4), activation='relu')(m2)\n",
        "  m3 = MaxPooling2D(64, (2,2), padding='same')(c3)\n",
        "\n",
        "  # Final embedding block\n",
        "  c4 = Conv2D(256, (4,4), activation='relu')(m3)\n",
        "  f1 = Flatten()(c4)\n",
        "  d1 = Dense(4096, activation='sigmoid')(f1)\n",
        "\n",
        "  return Model(inputs=[inp], outputs=[d1], name='embedding')"
      ],
      "metadata": {
        "id": "IhlOpm66C1h5"
      },
      "id": "IhlOpm66C1h5",
      "execution_count": 19,
      "outputs": []
    },
    {
      "cell_type": "code",
      "source": [
        "embedding = make_embedding()"
      ],
      "metadata": {
        "id": "QmkHUPWbC7lM"
      },
      "id": "QmkHUPWbC7lM",
      "execution_count": 20,
      "outputs": []
    },
    {
      "cell_type": "code",
      "source": [
        "embedding.summary()"
      ],
      "metadata": {
        "colab": {
          "base_uri": "https://localhost:8080/"
        },
        "id": "u9TAjaUvQUVz",
        "outputId": "625ed336-28c9-491b-b7cd-86a1df44fb40"
      },
      "id": "u9TAjaUvQUVz",
      "execution_count": 21,
      "outputs": [
        {
          "output_type": "stream",
          "name": "stdout",
          "text": [
            "Model: \"embedding\"\n",
            "_________________________________________________________________\n",
            " Layer (type)                Output Shape              Param #   \n",
            "=================================================================\n",
            " input_image (InputLayer)    [(None, 100, 100, 3)]     0         \n",
            "                                                                 \n",
            " conv2d (Conv2D)             (None, 91, 91, 64)        19264     \n",
            "                                                                 \n",
            " max_pooling2d (MaxPooling2D  (None, 46, 46, 64)       0         \n",
            " )                                                               \n",
            "                                                                 \n",
            " conv2d_1 (Conv2D)           (None, 40, 40, 128)       401536    \n",
            "                                                                 \n",
            " max_pooling2d_1 (MaxPooling  (None, 20, 20, 128)      0         \n",
            " 2D)                                                             \n",
            "                                                                 \n",
            " conv2d_2 (Conv2D)           (None, 17, 17, 128)       262272    \n",
            "                                                                 \n",
            " max_pooling2d_2 (MaxPooling  (None, 9, 9, 128)        0         \n",
            " 2D)                                                             \n",
            "                                                                 \n",
            " conv2d_3 (Conv2D)           (None, 6, 6, 256)         524544    \n",
            "                                                                 \n",
            " flatten (Flatten)           (None, 9216)              0         \n",
            "                                                                 \n",
            " dense (Dense)               (None, 4096)              37752832  \n",
            "                                                                 \n",
            "=================================================================\n",
            "Total params: 38,960,448\n",
            "Trainable params: 38,960,448\n",
            "Non-trainable params: 0\n",
            "_________________________________________________________________\n"
          ]
        }
      ]
    },
    {
      "cell_type": "code",
      "source": [
        "# Siamese L1 Distance class -- possible to change to equillibrium distance\n",
        "class L1Dist(Layer):\n",
        "\n",
        "    # Init method - inheritance\n",
        "    def __init__(self, **kwargs):\n",
        "        super().__init__()\n",
        "\n",
        "    # Magic happens here - similarity calculation\n",
        "    def call(self, input_embedding, validation_embedding):\n",
        "        return tf.math.abs(input_embedding - validation_embedding)"
      ],
      "metadata": {
        "id": "WV8NF2Gmbfi2"
      },
      "id": "WV8NF2Gmbfi2",
      "execution_count": 22,
      "outputs": []
    },
    {
      "cell_type": "code",
      "source": [
        "l1 = L1Dist()"
      ],
      "metadata": {
        "id": "wR9wEtIDbn3A"
      },
      "id": "wR9wEtIDbn3A",
      "execution_count": 23,
      "outputs": []
    },
    {
      "cell_type": "code",
      "source": [
        "def make_siamese_model():\n",
        "\n",
        "  # Anchor image input in the network\n",
        "  input_image = Input(name='input_img', shape=(100,100,3))\n",
        "\n",
        "  # Validation image in the network\n",
        "  validation_image = Input(name='validation_img', shape=(100,100,3))\n",
        "\n",
        "  # Combine siamese distance components\n",
        "  siamese_layer = L1Dist()\n",
        "  siamese_layer._name = 'distance'\n",
        "  distances = siamese_layer(embedding(input_image), embedding(validation_image))\n",
        "\n",
        "  # Classification layer\n",
        "  classifier = Dense(1, activation='sigmoid')(distances)\n",
        "\n",
        "  return Model(inputs=[input_image, validation_image], outputs=classifier, name='SiameseNetwork')"
      ],
      "metadata": {
        "id": "z2yZhMXKCSbP"
      },
      "id": "z2yZhMXKCSbP",
      "execution_count": 24,
      "outputs": []
    },
    {
      "cell_type": "code",
      "source": [
        "siamese_model = make_siamese_model()"
      ],
      "metadata": {
        "id": "y078yhNoCwzG"
      },
      "id": "y078yhNoCwzG",
      "execution_count": 25,
      "outputs": []
    },
    {
      "cell_type": "code",
      "source": [
        "siamese_model.summary()"
      ],
      "metadata": {
        "colab": {
          "base_uri": "https://localhost:8080/"
        },
        "id": "joySCiMjQX6c",
        "outputId": "d2cd67ae-3e8f-45f5-c772-75dde453b8d4"
      },
      "id": "joySCiMjQX6c",
      "execution_count": 26,
      "outputs": [
        {
          "output_type": "stream",
          "name": "stdout",
          "text": [
            "Model: \"SiameseNetwork\"\n",
            "__________________________________________________________________________________________________\n",
            " Layer (type)                   Output Shape         Param #     Connected to                     \n",
            "==================================================================================================\n",
            " input_img (InputLayer)         [(None, 100, 100, 3  0           []                               \n",
            "                                )]                                                                \n",
            "                                                                                                  \n",
            " validation_img (InputLayer)    [(None, 100, 100, 3  0           []                               \n",
            "                                )]                                                                \n",
            "                                                                                                  \n",
            " embedding (Functional)         (None, 4096)         38960448    ['input_img[0][0]',              \n",
            "                                                                  'validation_img[0][0]']         \n",
            "                                                                                                  \n",
            " distance (L1Dist)              (None, 4096)         0           ['embedding[0][0]',              \n",
            "                                                                  'embedding[1][0]']              \n",
            "                                                                                                  \n",
            " dense_1 (Dense)                (None, 1)            4097        ['distance[0][0]']               \n",
            "                                                                                                  \n",
            "==================================================================================================\n",
            "Total params: 38,964,545\n",
            "Trainable params: 38,964,545\n",
            "Non-trainable params: 0\n",
            "__________________________________________________________________________________________________\n"
          ]
        }
      ]
    },
    {
      "cell_type": "code",
      "source": [],
      "metadata": {
        "id": "ydb2Jw4tCB8u"
      },
      "id": "ydb2Jw4tCB8u",
      "execution_count": null,
      "outputs": []
    },
    {
      "cell_type": "code",
      "source": [
        "import tf.keras.backend as K\n",
        "# Equillibrium Distance class\n",
        "def equillibrium_distance(vectors):\n",
        "  v1, v2 = vectors\n",
        "  sum_square = K.sum(K.square(v1 - v2), axis=1, keepdims=True)\n",
        "  return K.sqrt(K.maximum(sum_square, K.epsilon()))\n"
      ],
      "metadata": {
        "id": "vwWkDb6gqHCV"
      },
      "id": "vwWkDb6gqHCV",
      "execution_count": null,
      "outputs": []
    },
    {
      "cell_type": "code",
      "source": [],
      "metadata": {
        "id": "NbR03NsBCHxi"
      },
      "id": "NbR03NsBCHxi",
      "execution_count": null,
      "outputs": []
    },
    {
      "cell_type": "code",
      "source": [
        "# Function to create the Siamese Neural Network model\n",
        "def create_siamese_model(learning_rate=1e-4):\n",
        "\n",
        "     # Anchor image input in the network\n",
        "    input_image = Input(name='input_img', shape=(100, 100, 3))\n",
        "\n",
        "    # Validation image in the network\n",
        "    validation_image = Input(name='validation_img', shape=(100, 100, 3))\n",
        "\n",
        "    # Combine siamese distance components\n",
        "    siamese_layer = L1Dist()\n",
        "    siamese_layer._name = 'distance'\n",
        "    distances = siamese_layer(embedding(input_image), embedding(validation_image))\n",
        "\n",
        "    # Classification layer\n",
        "    classifier = Dense(1, activation='sigmoid')(distances)\n",
        "\n",
        "    siamese_model = Model(inputs=[input_image, validation_image], outputs=classifier, name='SiameseNetwork')\n",
        "\n",
        "    # Compile the model with the loss function\n",
        "    siamese_model.compile(loss='binary_crossentropy', optimizer='adam')\n",
        "\n",
        "    return siamese_model"
      ],
      "metadata": {
        "id": "yfVo1QhprlHd"
      },
      "id": "yfVo1QhprlHd",
      "execution_count": null,
      "outputs": []
    },
    {
      "cell_type": "code",
      "source": [
        "# from tensorflow.keras.layers import Lambda\n",
        "# # Function to create the Siamese Neural Network model\n",
        "# def create_siamese_model(learning_rate=1e-4):\n",
        "\n",
        "#      # Anchor image input in the network\n",
        "#     input_image = Input(name='input_img', shape=(100, 100, 3))\n",
        "\n",
        "#     # Validation image in the network\n",
        "#     validation_image = Input(name='validation_img', shape=(100, 100, 3))\n",
        "\n",
        "#     embedded_anchor = embedding(input_image)\n",
        "#     embedded_val = embedding(validation_image)\n",
        "\n",
        "#     # Distance\n",
        "#     distance = Lambda(equillibrium_distance, output_shape=(1,))([embedded_anchor, embedded_val])\n",
        "\n",
        "#     # Classification layer\n",
        "#     classifier = Dense(1, activation='sigmoid')(distance)\n",
        "\n",
        "#     siamese_model = Model(inputs=[input_image, validation_image], outputs=classifier, name='SiameseNetwork')\n",
        "\n",
        "#     # Compile the model with the loss function\n",
        "#     siamese_model.compile(loss='binary_crossentropy', optimizer='adam')\n",
        "\n",
        "#     return siamese_model"
      ],
      "metadata": {
        "id": "r8jwD4rvrmED"
      },
      "id": "r8jwD4rvrmED",
      "execution_count": null,
      "outputs": []
    },
    {
      "cell_type": "code",
      "source": [],
      "metadata": {
        "id": "pK2JBPearmLV"
      },
      "id": "pK2JBPearmLV",
      "execution_count": null,
      "outputs": []
    },
    {
      "cell_type": "code",
      "source": [
        "import tensorflow_datasets as tfds\n",
        "train_data.element_spec"
      ],
      "metadata": {
        "id": "9tUSJ5mCY5-g"
      },
      "id": "9tUSJ5mCY5-g",
      "execution_count": null,
      "outputs": []
    },
    {
      "cell_type": "code",
      "source": [
        "# Extract the labels from train_data and convert them to a NumPy array\n",
        "y_train = np.array(list(train_data.map(lambda anchor, sample, label: label).as_numpy_iterator()))\n",
        "# Extract the labels from val_data and convert them to a NumPy array\n",
        "y_val = np.array(list(val_data.map(lambda anchor, sample, label: label).as_numpy_iterator()))\n",
        "print(len(y_train))\n",
        "print(len(y_val))\n",
        "print(len(train_data))\n",
        "print(len(val_data))\n",
        "\n",
        "# Wrap the model creation function in KerasClassifier for use with scikit-learn\n",
        "model = KerasClassifier(build_fn=create_siamese_model, verbose=0)\n",
        "\n",
        "# Define hyperparameter grid for grid search\n",
        "param_grid = {\n",
        "    'learning_rate': [1e-4, 1e-3],\n",
        "    'batch_size': [16, 32],\n",
        "    'dropout_rate': [0.2, 0.4, 0.6],\n",
        "    'optimizer': ['adam', 'adamax', 'resprop']\n",
        "}\n",
        "# Perform GridSearchCV for hyperparameter tuning\n",
        "grid = GridSearchCV(estimator=model, param_grid=param_grid, cv=3, error_score='raise')\n",
        "\n",
        "# Fit the grid search on the data with labels (y_train) and validation data (val_data)\n",
        "grid_result = grid.fit(train_data, y_train, validation_data=(val_data, y_val))\n",
        "\n",
        "# Get the best hyperparameters from the search\n",
        "best_learning_rate = grid_result.best_params_['learning_rate']\n",
        "best_batch_size = grid_result.best_params_['batch_size']\n",
        "best_dropout_rate = grid_result.best_params_['dropout_rate']\n",
        "best_optimizer = grid_result.best_params_['optimizer']"
      ],
      "metadata": {
        "id": "_bI9fugVkDtC"
      },
      "id": "_bI9fugVkDtC",
      "execution_count": null,
      "outputs": []
    },
    {
      "cell_type": "code",
      "source": [
        "def extract_labels(data_generator):\n",
        "  labels = np.array([label for _, _, label in data.as_numpy_iterator()])\n",
        "  return labels\n",
        "\n",
        "y_train = extract_labels(train_data)\n",
        "y_val = extract_labels(val_data)\n",
        "\n",
        "train_data = train_data.map(lambda anchor, sample, label: (anchor / 255.0, sample / 255.0, label))\n",
        "val_data = val_data.map(lambda anchor, sample, label: (anchor / 255.0, sample / 255.0, label))\n",
        "\n",
        "# Wrap the model creation function in KerasClassifier for use with scikit-learn\n",
        "model = KerasClassifier(build_fn=create_siamese_model, verbose=0)\n",
        "\n",
        "# Define hyperparameter grid for grid search\n",
        "param_grid = {\n",
        "    'learning_rate': [1e-4, 1e-3],\n",
        "    'batch_size': [16, 32],\n",
        "    'dropout_rate': [0.2, 0.4, 0.6],\n",
        "    'optimizer': ['adam', 'adamax', 'resprop']\n",
        "}\n",
        "\n",
        "# Perform GridSearchCV for hyperparameter tuning\n",
        "grid = GridSearchCV(estimator=model, param_grid=param_grid, cv=3, error_score='raise')\n",
        "\n",
        "# Fit the grid search on the data with labels (y_train) and validation data (val_data)\n",
        "grid_result = grid.fit(train_data, y_train, validation_data=val_data)\n",
        "\n",
        "\n",
        "# Get the best hyperparameters from the search\n",
        "best_learning_rate = grid_result.best_params_['learning_rate']\n",
        "best_batch_size = grid_result.best_params_['batch_size']\n",
        "best_dropout_rate = grid_result.best_params_['dropout_rate']\n",
        "best_optimizer = grid_result.best_params_['optimizer']"
      ],
      "metadata": {
        "id": "9c4UD-ImvlaV"
      },
      "id": "9c4UD-ImvlaV",
      "execution_count": null,
      "outputs": []
    },
    {
      "cell_type": "markdown",
      "id": "516e220a",
      "metadata": {
        "id": "516e220a"
      },
      "source": [
        "## 4.1 Build Embedding Layer"
      ]
    },
    {
      "cell_type": "code",
      "execution_count": null,
      "id": "4772d1ea",
      "metadata": {
        "id": "4772d1ea"
      },
      "outputs": [],
      "source": [
        " # def make_embedding():\n",
        "#     inp = Input(shape=(100,100,3), name='input_image')\n",
        "\n",
        "#     # First block\n",
        "#     c1 = Conv2D(64, (10,10), activation='relu')(inp)\n",
        "#     m1 = MaxPooling2D(64, (2,2), padding='same')(c1)\n",
        "\n",
        "#     # Second block\n",
        "#     c2 = Conv2D(128, (7,7), activation='relu')(m1)\n",
        "#     m2 = MaxPooling2D(64, (2,2), padding='same')(c2)\n",
        "\n",
        "#     # Third block\n",
        "#     c3 = Conv2D(128, (4,4), activation='relu')(m2)\n",
        "#     m3 = MaxPooling2D(64, (2,2), padding='same')(c3)\n",
        "\n",
        "#     # Final embedding block\n",
        "#     c4 = Conv2D(256, (4,4), activation='relu')(m3)\n",
        "#     f1 = Flatten()(c4)\n",
        "#     d1 = Dense(4096, activation='sigmoid')(f1)\n",
        "\n",
        "#     return Model(inputs=[inp], outputs=[d1], name='embedding')"
      ]
    },
    {
      "cell_type": "code",
      "execution_count": null,
      "id": "dde57d64",
      "metadata": {
        "id": "dde57d64"
      },
      "outputs": [],
      "source": [
        "# embedding = make_embedding()"
      ]
    },
    {
      "cell_type": "code",
      "execution_count": null,
      "id": "fccf72b5",
      "metadata": {
        "id": "fccf72b5"
      },
      "outputs": [],
      "source": [
        "# embedding.summary()"
      ]
    },
    {
      "cell_type": "markdown",
      "id": "5fad5458",
      "metadata": {
        "id": "5fad5458"
      },
      "source": [
        "# 5. Training"
      ]
    },
    {
      "cell_type": "markdown",
      "id": "b68c6beb",
      "metadata": {
        "id": "b68c6beb"
      },
      "source": [
        "## 5.1 Setup Loss and Optimizer"
      ]
    },
    {
      "cell_type": "code",
      "execution_count": 27,
      "id": "a1dfec63",
      "metadata": {
        "id": "a1dfec63"
      },
      "outputs": [],
      "source": [
        "binary_cross_loss = tf.losses.BinaryCrossentropy()"
      ]
    },
    {
      "cell_type": "code",
      "execution_count": 28,
      "id": "9bf43225",
      "metadata": {
        "id": "9bf43225"
      },
      "outputs": [],
      "source": [
        "opt = tf.keras.optimizers.Adam(1e-4)"
      ]
    },
    {
      "cell_type": "markdown",
      "id": "9828022e",
      "metadata": {
        "id": "9828022e"
      },
      "source": [
        "## 5.2 Build Train Step Function"
      ]
    },
    {
      "cell_type": "code",
      "execution_count": null,
      "id": "31ea39ae",
      "metadata": {
        "id": "31ea39ae"
      },
      "outputs": [],
      "source": [
        "# @tf.function\n",
        "# def train_step(batch):\n",
        "\n",
        "#     # Record all of our operations\n",
        "#     with tf.GradientTape() as tape:\n",
        "#         # Get anchor and positive/negative image\n",
        "#         X = batch[:2]\n",
        "#         # Get label\n",
        "#         y = batch[2]\n",
        "\n",
        "#         # Forward pass\n",
        "#         yhat = siamese_model(X, training=True)\n",
        "#         # Calculate loss\n",
        "#         loss = binary_cross_loss(y, yhat)\n",
        "\n",
        "\n",
        "#     # # Calculate accuracy\n",
        "#     # accuracy = tf.keras.metrics.binary_accuracy(y, yhat)\n",
        "\n",
        "#     # # Update the accuracy lists\n",
        "#     # train_accuracy.append(accuracy)\n",
        "\n",
        "#     # Calculate gradients\n",
        "#     grad = tape.gradient(loss, siamese_model.trainable_variables)\n",
        "\n",
        "#     # Calculate updated weights and apply to siamese model\n",
        "#     opt.apply_gradients(zip(grad, siamese_model.trainable_variables))\n",
        "\n",
        "#     # Return loss\n",
        "#     return loss"
      ]
    },
    {
      "cell_type": "code",
      "source": [
        "@tf.function\n",
        "def train_step(batch):\n",
        "    # Record all of our operations\n",
        "    with tf.GradientTape() as tape:\n",
        "        # Get anchor and positive/negative image\n",
        "        X = batch[:2]\n",
        "        # Get label\n",
        "        y = batch[2]\n",
        "\n",
        "        # Forward pass\n",
        "        yhat = siamese_model(X, training=True)\n",
        "        # Calculate loss\n",
        "        loss = binary_cross_loss(y, yhat)\n",
        "\n",
        "    # Calculate gradients\n",
        "    grad = tape.gradient(loss, siamese_model.trainable_variables)\n",
        "\n",
        "    # Calculate updated weights and apply to siamese model\n",
        "    opt.apply_gradients(zip(grad, siamese_model.trainable_variables))\n",
        "\n",
        "    # Return loss\n",
        "    return loss"
      ],
      "metadata": {
        "id": "Mwsr8VzyRauD"
      },
      "id": "Mwsr8VzyRauD",
      "execution_count": 29,
      "outputs": []
    },
    {
      "cell_type": "markdown",
      "id": "4889a8ab",
      "metadata": {
        "id": "4889a8ab"
      },
      "source": [
        "## 5.3 Build Training Loop"
      ]
    },
    {
      "cell_type": "code",
      "execution_count": null,
      "id": "e1b88891",
      "metadata": {
        "id": "e1b88891"
      },
      "outputs": [],
      "source": [
        "# def train(data, EPOCHS):\n",
        "#     # Lists to store loss for plotting\n",
        "#     train_losses = []\n",
        "\n",
        "#     # Loop through epochs\n",
        "#     for epoch in range(1, EPOCHS+1):\n",
        "#         print('\\n Epoch{}/{}'.format(epoch, EPOCHS))\n",
        "#         progbar = Progbar(len(data))\n",
        "\n",
        "#         # Variable to store total loss in this epoch\n",
        "#         total_loss = 0.0\n",
        "\n",
        "#         # Loop through each batch\n",
        "#         for idx, batch in enumerate(data):\n",
        "#             # Run train step and get the loss\n",
        "#             loss = train_step(batch).numpy()\n",
        "\n",
        "#             # Update total loss for this epoch\n",
        "#             total_loss += loss\n",
        "\n",
        "#             # Print the loss value\n",
        "#             print(\"Loss: \", loss)\n",
        "#             progbar.update(idx + 1)\n",
        "\n",
        "#         # Calculate average loss for this epoch\n",
        "#         epoch_loss = total_loss / len(data)\n",
        "#         train_losses.append(epoch_loss)\n",
        "\n",
        "#     # Plot the loss\n",
        "#     plt.plot(range(1, EPOCHS+1), train_losses, label='Training Loss')\n",
        "#     plt.xlabel('Epoch')\n",
        "#     plt.ylabel('Loss')\n",
        "#     plt.legend()\n",
        "#     plt.show()\n"
      ]
    },
    {
      "cell_type": "code",
      "source": [
        "# Training function with validation\n",
        "def train_with_validation(train_data, val_data, EPOCHS):\n",
        "    train_losses = []  # To store training losses\n",
        "    val_losses = []    # To store validation losses\n",
        "\n",
        "    for epoch in range(1, EPOCHS+1):\n",
        "        print(f'\\nEpoch {epoch}/{EPOCHS}')\n",
        "        progbar = tf.keras.utils.Progbar(len(train_data))\n",
        "        batches = 0  # To track the number of batches processed during training\n",
        "\n",
        "        # Training loop\n",
        "        for idx, batch in enumerate(train_data):\n",
        "            loss = train_step(batch).numpy()\n",
        "            train_losses.append(loss)\n",
        "            progbar.update(idx + 1)\n",
        "            batches += 1\n",
        "\n",
        "        # Validation loop\n",
        "        val_loss = 0.0\n",
        "        for idx, batch in enumerate(val_data):\n",
        "            val_loss += train_step(batch).numpy()\n",
        "        val_loss /= len(val_data)\n",
        "        val_losses.extend([val_loss] * batches)  # Extend the list to match train_losses\n",
        "\n",
        "        # Print training and validation losses\n",
        "        print(f'\\nTraining Loss: {train_losses[-1]}, Validation Loss: {val_losses[-1]}')\n",
        "\n",
        "    # Plot the training and validation losses\n",
        "    plt.plot(range(1, len(train_losses)+1), train_losses, label='Training Loss')\n",
        "    plt.plot(range(1, len(val_losses)+1), val_losses, label='Validation Loss')\n",
        "    plt.xlabel('Training Steps')\n",
        "    plt.ylabel('Loss')\n",
        "    plt.legend()\n",
        "    plt.show()\n"
      ],
      "metadata": {
        "id": "ciop--T1UOMh"
      },
      "id": "ciop--T1UOMh",
      "execution_count": 30,
      "outputs": []
    },
    {
      "cell_type": "code",
      "source": [],
      "metadata": {
        "id": "pn1hKx5wj_ic"
      },
      "id": "pn1hKx5wj_ic",
      "execution_count": null,
      "outputs": []
    },
    {
      "cell_type": "markdown",
      "id": "46d985b5",
      "metadata": {
        "id": "46d985b5"
      },
      "source": [
        "## 5.4 Train the model"
      ]
    },
    {
      "cell_type": "code",
      "execution_count": 31,
      "id": "7bcd037f",
      "metadata": {
        "id": "7bcd037f"
      },
      "outputs": [],
      "source": [
        "EPOCHS = 50"
      ]
    },
    {
      "cell_type": "code",
      "execution_count": 32,
      "id": "61cdaaf5",
      "metadata": {
        "id": "61cdaaf5",
        "outputId": "74ee3fc9-e64b-45d2-c762-5444751367bd",
        "colab": {
          "base_uri": "https://localhost:8080/",
          "height": 1000
        }
      },
      "outputs": [
        {
          "output_type": "stream",
          "name": "stdout",
          "text": [
            "\n",
            "Epoch 1/50\n",
            "63/63 [==============================] - 249s 813ms/step\n",
            "\n",
            "Training Loss: 0.6917017698287964, Validation Loss: 0.6938136319319407\n",
            "\n",
            "Epoch 2/50\n",
            "63/63 [==============================] - 13s 204ms/step\n",
            "\n",
            "Training Loss: 0.6955448389053345, Validation Loss: 0.6869785288969675\n",
            "\n",
            "Epoch 3/50\n",
            "63/63 [==============================] - 13s 200ms/step\n",
            "\n",
            "Training Loss: 0.6364138126373291, Validation Loss: 0.700665596458647\n",
            "\n",
            "Epoch 4/50\n",
            "63/63 [==============================] - 12s 197ms/step\n",
            "\n",
            "Training Loss: 0.6856966614723206, Validation Loss: 0.6896028485563066\n",
            "\n",
            "Epoch 5/50\n",
            "63/63 [==============================] - 12s 198ms/step\n",
            "\n",
            "Training Loss: 0.6697008609771729, Validation Loss: 0.6856571469042037\n",
            "\n",
            "Epoch 6/50\n",
            "63/63 [==============================] - 12s 198ms/step\n",
            "\n",
            "Training Loss: 0.6956473588943481, Validation Loss: 0.6933004293176863\n",
            "\n",
            "Epoch 7/50\n",
            "63/63 [==============================] - 13s 200ms/step\n",
            "\n",
            "Training Loss: 0.6942980289459229, Validation Loss: 0.6824644439750247\n",
            "\n",
            "Epoch 8/50\n",
            "63/63 [==============================] - 12s 195ms/step\n",
            "\n",
            "Training Loss: 0.664701521396637, Validation Loss: 0.6942893664042155\n",
            "\n",
            "Epoch 9/50\n",
            "63/63 [==============================] - 12s 194ms/step\n",
            "\n",
            "Training Loss: 0.7507596611976624, Validation Loss: 0.6858566866980659\n",
            "\n",
            "Epoch 10/50\n",
            "63/63 [==============================] - 12s 190ms/step\n",
            "\n",
            "Training Loss: 0.7042237520217896, Validation Loss: 0.6840884288152059\n",
            "\n",
            "Epoch 11/50\n",
            "63/63 [==============================] - 12s 188ms/step\n",
            "\n",
            "Training Loss: 0.704796552658081, Validation Loss: 0.6904048058721755\n",
            "\n",
            "Epoch 12/50\n",
            "63/63 [==============================] - 11s 182ms/step\n",
            "\n",
            "Training Loss: 0.6672279834747314, Validation Loss: 0.6793269183900621\n",
            "\n",
            "Epoch 13/50\n",
            "63/63 [==============================] - 11s 181ms/step\n",
            "\n",
            "Training Loss: 0.657397985458374, Validation Loss: 0.6888446542951796\n",
            "\n",
            "Epoch 14/50\n",
            "63/63 [==============================] - 11s 180ms/step\n",
            "\n",
            "Training Loss: 0.7150455117225647, Validation Loss: 0.6961234907309214\n",
            "\n",
            "Epoch 15/50\n",
            "63/63 [==============================] - 11s 179ms/step\n",
            "\n",
            "Training Loss: 0.671628475189209, Validation Loss: 0.6918829215897454\n",
            "\n",
            "Epoch 16/50\n",
            "63/63 [==============================] - 11s 178ms/step\n",
            "\n",
            "Training Loss: 0.6939974427223206, Validation Loss: 0.6848687397109138\n",
            "\n",
            "Epoch 17/50\n",
            "63/63 [==============================] - 11s 179ms/step\n",
            "\n",
            "Training Loss: 0.6962382793426514, Validation Loss: 0.6910078989134895\n",
            "\n",
            "Epoch 18/50\n",
            "63/63 [==============================] - 11s 179ms/step\n",
            "\n",
            "Training Loss: 0.7363242506980896, Validation Loss: 0.6817562878131866\n",
            "\n",
            "Epoch 19/50\n",
            "63/63 [==============================] - 11s 178ms/step\n",
            "\n",
            "Training Loss: 0.6795765161514282, Validation Loss: 0.689610888560613\n",
            "\n",
            "Epoch 20/50\n",
            "63/63 [==============================] - 11s 178ms/step\n",
            "\n",
            "Training Loss: 0.6914685964584351, Validation Loss: 0.6835147870911492\n",
            "\n",
            "Epoch 21/50\n",
            "63/63 [==============================] - 11s 180ms/step\n",
            "\n",
            "Training Loss: 0.7211978435516357, Validation Loss: 0.6880000366104974\n",
            "\n",
            "Epoch 22/50\n",
            "63/63 [==============================] - 11s 178ms/step\n",
            "\n",
            "Training Loss: 0.6318802833557129, Validation Loss: 0.6811149881945716\n",
            "\n",
            "Epoch 23/50\n",
            "63/63 [==============================] - 11s 177ms/step\n",
            "\n",
            "Training Loss: 0.5275586247444153, Validation Loss: 0.6792011757691702\n",
            "\n",
            "Epoch 24/50\n",
            "63/63 [==============================] - 11s 174ms/step\n",
            "\n",
            "Training Loss: 0.6149439215660095, Validation Loss: 0.6652407579951816\n",
            "\n",
            "Epoch 25/50\n",
            "63/63 [==============================] - 11s 176ms/step\n",
            "\n",
            "Training Loss: 0.6711901426315308, Validation Loss: 0.6647856036822001\n",
            "\n",
            "Epoch 26/50\n",
            "63/63 [==============================] - 11s 175ms/step\n",
            "\n",
            "Training Loss: 0.6304385662078857, Validation Loss: 0.6525996194945441\n",
            "\n",
            "Epoch 27/50\n",
            "63/63 [==============================] - 11s 173ms/step\n",
            "\n",
            "Training Loss: 0.7171095609664917, Validation Loss: 0.6323785781860352\n",
            "\n",
            "Epoch 28/50\n",
            "63/63 [==============================] - 11s 178ms/step\n",
            "\n",
            "Training Loss: 0.8086855411529541, Validation Loss: 0.641837004158232\n",
            "\n",
            "Epoch 29/50\n",
            "63/63 [==============================] - 11s 180ms/step\n",
            "\n",
            "Training Loss: 0.6732046604156494, Validation Loss: 0.5872136784924401\n",
            "\n",
            "Epoch 30/50\n",
            "63/63 [==============================] - 11s 177ms/step\n",
            "\n",
            "Training Loss: 0.66928631067276, Validation Loss: 0.616494400633706\n",
            "\n",
            "Epoch 31/50\n",
            "63/63 [==============================] - 11s 178ms/step\n",
            "\n",
            "Training Loss: 0.7461012005805969, Validation Loss: 0.6168420314788818\n",
            "\n",
            "Epoch 32/50\n",
            "63/63 [==============================] - 11s 180ms/step\n",
            "\n",
            "Training Loss: 0.5719386339187622, Validation Loss: 0.6203403539127774\n",
            "\n",
            "Epoch 33/50\n",
            "63/63 [==============================] - 11s 180ms/step\n",
            "\n",
            "Training Loss: 0.5713428258895874, Validation Loss: 0.5562774555550681\n",
            "\n",
            "Epoch 34/50\n",
            "63/63 [==============================] - 12s 185ms/step\n",
            "\n",
            "Training Loss: 0.5437473058700562, Validation Loss: 0.536802942554156\n",
            "\n",
            "Epoch 35/50\n",
            "63/63 [==============================] - 12s 185ms/step\n",
            "\n",
            "Training Loss: 0.5782210826873779, Validation Loss: 0.5769113699595133\n",
            "\n",
            "Epoch 36/50\n",
            "63/63 [==============================] - 11s 182ms/step\n",
            "\n",
            "Training Loss: 0.5049188733100891, Validation Loss: 0.5611544913715787\n",
            "\n",
            "Epoch 37/50\n",
            "63/63 [==============================] - 11s 182ms/step\n",
            "\n",
            "Training Loss: 0.7496944069862366, Validation Loss: 0.49851276808314854\n",
            "\n",
            "Epoch 38/50\n",
            "63/63 [==============================] - 11s 182ms/step\n",
            "\n",
            "Training Loss: 0.5140917897224426, Validation Loss: 0.5029519084427092\n",
            "\n",
            "Epoch 39/50\n",
            "63/63 [==============================] - 11s 181ms/step\n",
            "\n",
            "Training Loss: 0.33431410789489746, Validation Loss: 0.45388518273830414\n",
            "\n",
            "Epoch 40/50\n",
            "63/63 [==============================] - 11s 181ms/step\n",
            "\n",
            "Training Loss: 0.47114098072052, Validation Loss: 0.44434387650754714\n",
            "\n",
            "Epoch 41/50\n",
            "63/63 [==============================] - 11s 181ms/step\n",
            "\n",
            "Training Loss: 0.4584035277366638, Validation Loss: 0.40450700289673275\n",
            "\n",
            "Epoch 42/50\n",
            "63/63 [==============================] - 11s 181ms/step\n",
            "\n",
            "Training Loss: 0.5145988464355469, Validation Loss: 0.43347317973772687\n",
            "\n",
            "Epoch 43/50\n",
            "63/63 [==============================] - 11s 181ms/step\n",
            "\n",
            "Training Loss: 0.42165276408195496, Validation Loss: 0.39881910797622466\n",
            "\n",
            "Epoch 44/50\n",
            "63/63 [==============================] - 11s 182ms/step\n",
            "\n",
            "Training Loss: 0.3854406774044037, Validation Loss: 0.39358239538139767\n",
            "\n",
            "Epoch 45/50\n",
            "63/63 [==============================] - 11s 181ms/step\n",
            "\n",
            "Training Loss: 0.18829286098480225, Validation Loss: 0.3580552281604873\n",
            "\n",
            "Epoch 46/50\n",
            "63/63 [==============================] - 11s 182ms/step\n",
            "\n",
            "Training Loss: 0.28150737285614014, Validation Loss: 0.3553250382343928\n",
            "\n",
            "Epoch 47/50\n",
            "63/63 [==============================] - 11s 182ms/step\n",
            "\n",
            "Training Loss: 0.5074356198310852, Validation Loss: 0.3208625498745177\n",
            "\n",
            "Epoch 48/50\n",
            "63/63 [==============================] - 11s 181ms/step\n",
            "\n",
            "Training Loss: 0.25080764293670654, Validation Loss: 0.28710639890697265\n",
            "\n",
            "Epoch 49/50\n",
            "63/63 [==============================] - 11s 181ms/step\n",
            "\n",
            "Training Loss: 0.11075304448604584, Validation Loss: 0.33504871941275066\n",
            "\n",
            "Epoch 50/50\n",
            "63/63 [==============================] - 11s 181ms/step\n",
            "\n",
            "Training Loss: 0.33340156078338623, Validation Loss: 0.2443494556678666\n"
          ]
        },
        {
          "output_type": "display_data",
          "data": {
            "text/plain": [
              "<Figure size 640x480 with 1 Axes>"
            ],
            "image/png": "[encoded data removed]"
          },
          "metadata": {}
        }
      ],
      "source": [
        "train_with_validation(train_data, val_data, EPOCHS)"
      ]
    },
    {
      "cell_type": "markdown",
      "id": "8d5c7ec3",
      "metadata": {
        "id": "8d5c7ec3"
      },
      "source": [
        "# 6. Evaluate Model"
      ]
    },
    {
      "cell_type": "markdown",
      "id": "9a3b1585",
      "metadata": {
        "id": "9a3b1585"
      },
      "source": [
        "## 6.1 Import Metrics"
      ]
    },
    {
      "cell_type": "code",
      "execution_count": 34,
      "id": "494558de",
      "metadata": {
        "id": "494558de"
      },
      "outputs": [],
      "source": [
        "# import metric calculations\n",
        "from tensorflow.keras.metrics import Precision, Recall"
      ]
    },
    {
      "cell_type": "markdown",
      "id": "f76b1ab3",
      "metadata": {
        "id": "f76b1ab3"
      },
      "source": [
        "## 6.2 Make Predictions"
      ]
    },
    {
      "cell_type": "code",
      "execution_count": 35,
      "id": "827225ab",
      "metadata": {
        "id": "827225ab"
      },
      "outputs": [],
      "source": [
        "# get entire test data\n",
        "\n",
        "# Initialize empty lists\n",
        "test_input_list = []\n",
        "test_val_list = []\n",
        "y_true_list = []\n",
        "# Iterate over the test_data and collect the data\n",
        "\n",
        "for test_input, test_val, y_true in test_data.as_numpy_iterator():\n",
        "    test_input_list.append(test_input)\n",
        "    test_val_list.append(test_val)\n",
        "    y_true_list.append(y_true)\n",
        "\n",
        "# Concatenate the collected data into numpy arrays\n",
        "test_input = np.concatenate(test_input_list)\n",
        "test_val = np.concatenate(test_val_list)\n",
        "y_true = np.concatenate(y_true_list)"
      ]
    },
    {
      "cell_type": "code",
      "execution_count": 36,
      "id": "58f15383",
      "metadata": {
        "id": "58f15383",
        "outputId": "183c5e8f-fc69-4649-d84c-66a68ee18ba5",
        "colab": {
          "base_uri": "https://localhost:8080/"
        }
      },
      "outputs": [
        {
          "output_type": "stream",
          "name": "stdout",
          "text": [
            "5/5 [==============================] - 2s 225ms/step\n"
          ]
        },
        {
          "output_type": "execute_result",
          "data": {
            "text/plain": [
              "array([[7.75453210e-01],\n",
              "       [8.24438751e-01],\n",
              "       [9.99163032e-01],\n",
              "       [7.35534787e-01],\n",
              "       [5.82272828e-01],\n",
              "       [4.28958148e-01],\n",
              "       [8.60723794e-01],\n",
              "       [2.06652749e-02],\n",
              "       [6.89121056e-03],\n",
              "       [1.90558210e-01],\n",
              "       [1.42229241e-04],\n",
              "       [2.86977232e-01],\n",
              "       [8.75934899e-01],\n",
              "       [9.66016829e-01],\n",
              "       [8.85616094e-02],\n",
              "       [8.59905422e-01],\n",
              "       [8.73044133e-01],\n",
              "       [5.35147935e-02],\n",
              "       [9.65926707e-01],\n",
              "       [9.39455032e-01],\n",
              "       [3.81327271e-01],\n",
              "       [9.61327612e-01],\n",
              "       [7.26045847e-01],\n",
              "       [8.71765792e-01],\n",
              "       [8.18278074e-01],\n",
              "       [2.34904786e-04],\n",
              "       [9.53262905e-04],\n",
              "       [9.64945734e-01],\n",
              "       [9.86513555e-01],\n",
              "       [7.69351702e-03],\n",
              "       [1.13790251e-01],\n",
              "       [9.05579049e-03],\n",
              "       [4.56962466e-01],\n",
              "       [9.70537841e-01],\n",
              "       [2.67006040e-01],\n",
              "       [9.95991886e-01],\n",
              "       [5.49353480e-01],\n",
              "       [1.14138074e-01],\n",
              "       [9.87281144e-01],\n",
              "       [8.38241696e-01],\n",
              "       [9.20435786e-01],\n",
              "       [9.60705101e-01],\n",
              "       [2.25824580e-01],\n",
              "       [8.42929363e-01],\n",
              "       [8.51834476e-01],\n",
              "       [9.44139302e-01],\n",
              "       [3.15321125e-02],\n",
              "       [1.11108214e-01],\n",
              "       [9.79705393e-01],\n",
              "       [9.30416465e-01],\n",
              "       [1.52205154e-01],\n",
              "       [9.98534262e-02],\n",
              "       [1.57634102e-04],\n",
              "       [9.96462643e-01],\n",
              "       [8.99283066e-02],\n",
              "       [2.31032376e-03],\n",
              "       [9.04663861e-01],\n",
              "       [2.12533906e-01],\n",
              "       [9.66018498e-01],\n",
              "       [9.76338089e-01],\n",
              "       [9.63783205e-01],\n",
              "       [7.54677176e-01],\n",
              "       [9.53030407e-01],\n",
              "       [4.02983390e-02],\n",
              "       [9.95989025e-01],\n",
              "       [1.76478196e-02],\n",
              "       [5.90690494e-01],\n",
              "       [8.11902761e-01],\n",
              "       [2.99428850e-01],\n",
              "       [1.79800438e-03],\n",
              "       [8.91001105e-01],\n",
              "       [9.99615431e-01],\n",
              "       [6.19723946e-02],\n",
              "       [3.76781039e-02],\n",
              "       [4.18609262e-01],\n",
              "       [9.86612976e-01],\n",
              "       [5.01843214e-01],\n",
              "       [9.94662642e-01],\n",
              "       [8.13204050e-01],\n",
              "       [5.42462647e-01],\n",
              "       [1.26218027e-03],\n",
              "       [7.96448052e-01],\n",
              "       [9.58958805e-01],\n",
              "       [9.82035458e-01],\n",
              "       [1.32022813e-01],\n",
              "       [7.58830845e-01],\n",
              "       [4.18591380e-01],\n",
              "       [9.89020646e-01],\n",
              "       [9.91299689e-01],\n",
              "       [2.31960252e-01],\n",
              "       [6.80908235e-03],\n",
              "       [2.97201239e-02],\n",
              "       [3.00220102e-02],\n",
              "       [9.29360747e-01],\n",
              "       [7.04802334e-01],\n",
              "       [2.92706443e-03],\n",
              "       [2.93778945e-02],\n",
              "       [6.86678231e-01],\n",
              "       [8.27725336e-04],\n",
              "       [9.68599260e-01],\n",
              "       [9.40805554e-01],\n",
              "       [5.43954849e-01],\n",
              "       [3.33103724e-02],\n",
              "       [7.57515728e-01],\n",
              "       [9.74676073e-01],\n",
              "       [9.90047514e-01],\n",
              "       [1.51730597e-01],\n",
              "       [8.08614314e-01],\n",
              "       [9.71811295e-01],\n",
              "       [2.07692072e-01],\n",
              "       [2.97580123e-01],\n",
              "       [1.37306324e-05],\n",
              "       [9.18530762e-01],\n",
              "       [8.91900539e-01],\n",
              "       [5.21780849e-01],\n",
              "       [6.95840120e-02],\n",
              "       [9.89062488e-01],\n",
              "       [2.53270119e-01],\n",
              "       [8.87083076e-03],\n",
              "       [1.49838831e-02],\n",
              "       [1.86147332e-01],\n",
              "       [3.25437486e-02],\n",
              "       [3.90730023e-01],\n",
              "       [3.42429033e-03],\n",
              "       [5.52722544e-04],\n",
              "       [3.16331774e-01],\n",
              "       [9.97425497e-01],\n",
              "       [6.14640079e-02],\n",
              "       [2.36282572e-02],\n",
              "       [2.27624804e-01],\n",
              "       [6.35998309e-01],\n",
              "       [3.69970649e-01],\n",
              "       [2.97418796e-02],\n",
              "       [8.30975533e-01],\n",
              "       [1.48794606e-01],\n",
              "       [9.85280454e-01],\n",
              "       [9.48551476e-01],\n",
              "       [9.90627527e-01],\n",
              "       [9.67052042e-01],\n",
              "       [5.19194901e-01],\n",
              "       [3.21025521e-01],\n",
              "       [2.87497252e-01],\n",
              "       [3.09472859e-01]], dtype=float32)"
            ]
          },
          "metadata": {},
          "execution_count": 36
        }
      ],
      "source": [
        "# Make predictions\n",
        "y_hat = siamese_model.predict([test_input, test_val])\n",
        "y_hat"
      ]
    },
    {
      "cell_type": "code",
      "execution_count": 37,
      "id": "fb13830f",
      "metadata": {
        "scrolled": true,
        "id": "fb13830f",
        "outputId": "523ef8e0-7fe3-4b69-eeae-73fe693cba30",
        "colab": {
          "base_uri": "https://localhost:8080/"
        }
      },
      "outputs": [
        {
          "output_type": "stream",
          "name": "stdout",
          "text": [
            "[[1. 1.]\n",
            " [1. 1.]\n",
            " [1. 1.]\n",
            " [1. 1.]\n",
            " [1. 1.]\n",
            " [0. 1.]\n",
            " [1. 1.]\n",
            " [0. 0.]\n",
            " [0. 0.]\n",
            " [0. 0.]\n",
            " [0. 0.]\n",
            " [0. 0.]\n",
            " [1. 1.]\n",
            " [1. 1.]\n",
            " [0. 0.]\n",
            " [1. 1.]\n",
            " [1. 1.]\n",
            " [0. 0.]\n",
            " [1. 1.]\n",
            " [1. 1.]\n",
            " [0. 1.]\n",
            " [1. 1.]\n",
            " [1. 1.]\n",
            " [1. 1.]\n",
            " [1. 1.]\n",
            " [0. 0.]\n",
            " [0. 0.]\n",
            " [1. 1.]\n",
            " [1. 1.]\n",
            " [0. 0.]\n",
            " [0. 0.]\n",
            " [0. 0.]\n",
            " [0. 0.]\n",
            " [1. 1.]\n",
            " [0. 0.]\n",
            " [1. 1.]\n",
            " [1. 1.]\n",
            " [0. 0.]\n",
            " [1. 1.]\n",
            " [1. 1.]\n",
            " [1. 1.]\n",
            " [1. 1.]\n",
            " [0. 0.]\n",
            " [1. 1.]\n",
            " [1. 1.]\n",
            " [1. 1.]\n",
            " [0. 0.]\n",
            " [0. 0.]\n",
            " [1. 1.]\n",
            " [1. 1.]\n",
            " [0. 0.]\n",
            " [0. 0.]\n",
            " [0. 0.]\n",
            " [1. 1.]\n",
            " [0. 0.]\n",
            " [0. 0.]\n",
            " [1. 1.]\n",
            " [0. 0.]\n",
            " [1. 1.]\n",
            " [1. 1.]\n",
            " [1. 1.]\n",
            " [1. 1.]\n",
            " [1. 1.]\n",
            " [0. 0.]\n",
            " [1. 1.]\n",
            " [0. 0.]\n",
            " [1. 0.]\n",
            " [1. 0.]\n",
            " [0. 0.]\n",
            " [0. 0.]\n",
            " [1. 1.]\n",
            " [1. 1.]\n",
            " [0. 0.]\n",
            " [0. 0.]\n",
            " [0. 0.]\n",
            " [1. 1.]\n",
            " [1. 1.]\n",
            " [1. 1.]\n",
            " [1. 1.]\n",
            " [1. 1.]\n",
            " [0. 0.]\n",
            " [1. 1.]\n",
            " [1. 1.]\n",
            " [1. 1.]\n",
            " [0. 0.]\n",
            " [1. 1.]\n",
            " [0. 0.]\n",
            " [1. 1.]\n",
            " [1. 1.]\n",
            " [0. 1.]\n",
            " [0. 0.]\n",
            " [0. 0.]\n",
            " [0. 0.]\n",
            " [1. 1.]\n",
            " [1. 1.]\n",
            " [0. 0.]\n",
            " [0. 0.]\n",
            " [1. 1.]\n",
            " [0. 0.]\n",
            " [1. 1.]\n",
            " [1. 1.]\n",
            " [1. 0.]\n",
            " [0. 0.]\n",
            " [1. 1.]\n",
            " [1. 1.]\n",
            " [1. 1.]\n",
            " [0. 0.]\n",
            " [1. 1.]\n",
            " [1. 1.]\n",
            " [0. 0.]\n",
            " [0. 0.]\n",
            " [0. 0.]\n",
            " [1. 1.]\n",
            " [1. 1.]\n",
            " [1. 0.]\n",
            " [0. 0.]\n",
            " [1. 1.]\n",
            " [0. 0.]\n",
            " [0. 0.]\n",
            " [0. 0.]\n",
            " [0. 0.]\n",
            " [0. 0.]\n",
            " [0. 1.]\n",
            " [0. 0.]\n",
            " [0. 0.]\n",
            " [0. 0.]\n",
            " [1. 1.]\n",
            " [0. 0.]\n",
            " [0. 0.]\n",
            " [0. 0.]\n",
            " [1. 0.]\n",
            " [0. 1.]\n",
            " [0. 0.]\n",
            " [1. 1.]\n",
            " [0. 0.]\n",
            " [1. 1.]\n",
            " [1. 1.]\n",
            " [1. 1.]\n",
            " [1. 1.]\n",
            " [1. 1.]\n",
            " [0. 0.]\n",
            " [0. 1.]\n",
            " [0. 0.]]\n"
          ]
        }
      ],
      "source": [
        "# Convert predictions to binary values\n",
        "y_pred = np.where(y_hat > 0.5, 1, 0)\n",
        "y = np.column_stack((y_pred, y_true))\n",
        "np.set_printoptions(threshold=np.inf)\n",
        "print(y)"
      ]
    },
    {
      "cell_type": "markdown",
      "id": "e88f6c8d",
      "metadata": {
        "id": "e88f6c8d"
      },
      "source": [
        "## 6.3 Calculate Metrics"
      ]
    },
    {
      "cell_type": "code",
      "execution_count": 38,
      "id": "493918ed",
      "metadata": {
        "id": "493918ed",
        "outputId": "fa6a6898-eacc-42b6-d4f0-2b8334a8a9bb",
        "colab": {
          "base_uri": "https://localhost:8080/"
        }
      },
      "outputs": [
        {
          "output_type": "execute_result",
          "data": {
            "text/plain": [
              "0.9220779"
            ]
          },
          "metadata": {},
          "execution_count": 38
        }
      ],
      "source": [
        "# Recall (Sensitivity) = TP / TP + FN\n",
        "# Percentage of positive samples correctly predicted (over what is really positive)\n",
        "\n",
        "# Creating a metric object\n",
        "m = Recall()\n",
        "\n",
        "# Calculating the recall value\n",
        "m.update_state(y_true, y_pred)\n",
        "\n",
        "# Return Recall result\n",
        "m.result().numpy()"
      ]
    },
    {
      "cell_type": "code",
      "execution_count": 39,
      "id": "96d0f886",
      "metadata": {
        "id": "96d0f886",
        "outputId": "29a50943-b50d-4f3f-813b-af3fbe70eace",
        "colab": {
          "base_uri": "https://localhost:8080/"
        }
      },
      "outputs": [
        {
          "output_type": "execute_result",
          "data": {
            "text/plain": [
              "0.93421054"
            ]
          },
          "metadata": {},
          "execution_count": 39
        }
      ],
      "source": [
        "# Precision = TP / TP + FP\n",
        "# Percentage of samples that were properly labeled positives (over positive labelled samples)\n",
        "# Creating a metric object\n",
        "m = Precision()\n",
        "\n",
        "# Calculating the precision value\n",
        "m.update_state(y_true, y_pred)\n",
        "\n",
        "# Return Precision result\n",
        "m.result().numpy()"
      ]
    },
    {
      "cell_type": "code",
      "execution_count": 40,
      "id": "73c1f9a9",
      "metadata": {
        "id": "73c1f9a9",
        "outputId": "4edfae4c-71fd-4b31-97bd-df7c7a4c54de",
        "colab": {
          "base_uri": "https://localhost:8080/"
        }
      },
      "outputs": [
        {
          "output_type": "stream",
          "name": "stdout",
          "text": [
            "Accuracy: 0.9230769230769231\n"
          ]
        }
      ],
      "source": [
        "# Accuracy = TP + TN / All\n",
        "from sklearn.metrics import accuracy_score\n",
        "\n",
        "# Compute the accuracy score\n",
        "accuracy = accuracy_score(y_true, y_pred)\n",
        "\n",
        "print(\"Accuracy:\", accuracy)\n"
      ]
    },
    {
      "cell_type": "code",
      "execution_count": 41,
      "id": "2acea6d3",
      "metadata": {
        "scrolled": true,
        "id": "2acea6d3",
        "outputId": "0fb92808-6f18-4cf3-c425-69884b60ef9e",
        "colab": {
          "base_uri": "https://localhost:8080/"
        }
      },
      "outputs": [
        {
          "output_type": "stream",
          "name": "stdout",
          "text": [
            "True Negatives:  61 False Positives:  5 \n",
            "False Negatives:  6 True Positives:  71\n"
          ]
        }
      ],
      "source": [
        "# # Confusion Matrix\n",
        "from sklearn.metrics import confusion_matrix\n",
        "\n",
        "cm = confusion_matrix(y_true, y_pred)\n",
        "tn, fp, fn, tp = cm.ravel()\n",
        "print(\"True Negatives: \", tn, \"False Positives: \", fp, \"\\nFalse Negatives: \", fn, \"True Positives: \", tp)\n"
      ]
    },
    {
      "cell_type": "markdown",
      "id": "85cbbde8",
      "metadata": {
        "id": "85cbbde8"
      },
      "source": [
        "## 6.4 Visualize Results"
      ]
    },
    {
      "cell_type": "code",
      "execution_count": 47,
      "id": "4ad7a836",
      "metadata": {
        "id": "4ad7a836",
        "outputId": "040690f1-eaf9-4877-859a-e1c239d9ed5d",
        "colab": {
          "base_uri": "https://localhost:8080/",
          "height": 425
        }
      },
      "outputs": [
        {
          "output_type": "stream",
          "name": "stdout",
          "text": [
            "Index:  6\n"
          ]
        },
        {
          "output_type": "display_data",
          "data": {
            "text/plain": [
              "<Figure size 1800x800 with 2 Axes>"
            ],
            "image/png": "[encoded data removed]"
          },
          "metadata": {}
        },
        {
          "output_type": "stream",
          "name": "stdout",
          "text": [
            "Same Person\n"
          ]
        }
      ],
      "source": [
        "# Set plot size\n",
        "plt.figure(figsize=(18,8))\n",
        "\n",
        "# Set index\n",
        "# index = 15\n",
        "index = random.randint(0,143)\n",
        "print(\"Index: \", index)\n",
        "\n",
        "# Set first subplot\n",
        "plt.subplot(1,2,1)\n",
        "plt.imshow(test_input[index])\n",
        "\n",
        "# Set second subplot\n",
        "plt.subplot(1,2,2)\n",
        "plt.imshow(test_val[index])\n",
        "\n",
        "# Renders cleanly\n",
        "plt.show()\n",
        "\n",
        "if (y_pred[index] == 1):\n",
        "    print(\"Same Person\")\n",
        "else:\n",
        "    print(\"Different Persons\")"
      ]
    },
    {
      "cell_type": "markdown",
      "id": "8481bbf7",
      "metadata": {
        "id": "8481bbf7"
      },
      "source": [
        "# 7. Save Model"
      ]
    },
    {
      "cell_type": "code",
      "execution_count": 48,
      "id": "48e96680",
      "metadata": {
        "id": "48e96680",
        "outputId": "b17cca5d-b92d-4523-8df2-45f84e2e6e0e",
        "colab": {
          "base_uri": "https://localhost:8080/"
        }
      },
      "outputs": [
        {
          "output_type": "stream",
          "name": "stderr",
          "text": [
            "WARNING:tensorflow:Compiled the loaded model, but the compiled metrics have yet to be built. `model.compile_metrics` will be empty until you train or evaluate the model.\n"
          ]
        }
      ],
      "source": [
        "# Save weights\n",
        "siamese_model.save('FaceID/siamesemodel.h5')"
      ]
    },
    {
      "cell_type": "code",
      "execution_count": 49,
      "id": "a1d59515",
      "metadata": {
        "id": "a1d59515",
        "outputId": "d0fe0e31-79d1-4608-e514-f2da6bd9fef0",
        "colab": {
          "base_uri": "https://localhost:8080/"
        }
      },
      "outputs": [
        {
          "output_type": "stream",
          "name": "stderr",
          "text": [
            "WARNING:tensorflow:No training configuration found in the save file, so the model was *not* compiled. Compile it manually.\n"
          ]
        }
      ],
      "source": [
        "# Reload model\n",
        "model = tf.keras.models.load_model('FaceID/siamesemodel.h5', custom_objects={'L1Dist':L1Dist, 'BinaryCrossentropy':tf.losses.BinaryCrossentropy})"
      ]
    },
    {
      "cell_type": "code",
      "execution_count": 50,
      "id": "e58bc174",
      "metadata": {
        "id": "e58bc174",
        "outputId": "22bb57a0-8b7d-49b5-e484-03110e99df64",
        "colab": {
          "base_uri": "https://localhost:8080/"
        }
      },
      "outputs": [
        {
          "output_type": "stream",
          "name": "stdout",
          "text": [
            "5/5 [==============================] - 1s 148ms/step\n"
          ]
        },
        {
          "output_type": "execute_result",
          "data": {
            "text/plain": [
              "array([[7.75453210e-01],\n",
              "       [8.24438751e-01],\n",
              "       [9.99163032e-01],\n",
              "       [7.35534787e-01],\n",
              "       [5.82272828e-01],\n",
              "       [4.28958148e-01],\n",
              "       [8.60723794e-01],\n",
              "       [2.06652749e-02],\n",
              "       [6.89121056e-03],\n",
              "       [1.90558210e-01],\n",
              "       [1.42229241e-04],\n",
              "       [2.86977232e-01],\n",
              "       [8.75934899e-01],\n",
              "       [9.66016829e-01],\n",
              "       [8.85616094e-02],\n",
              "       [8.59905422e-01],\n",
              "       [8.73044133e-01],\n",
              "       [5.35147935e-02],\n",
              "       [9.65926707e-01],\n",
              "       [9.39455032e-01],\n",
              "       [3.81327271e-01],\n",
              "       [9.61327612e-01],\n",
              "       [7.26045847e-01],\n",
              "       [8.71765792e-01],\n",
              "       [8.18278074e-01],\n",
              "       [2.34904786e-04],\n",
              "       [9.53262905e-04],\n",
              "       [9.64945734e-01],\n",
              "       [9.86513555e-01],\n",
              "       [7.69351702e-03],\n",
              "       [1.13790251e-01],\n",
              "       [9.05579049e-03],\n",
              "       [4.56962466e-01],\n",
              "       [9.70537841e-01],\n",
              "       [2.67006040e-01],\n",
              "       [9.95991886e-01],\n",
              "       [5.49353480e-01],\n",
              "       [1.14138074e-01],\n",
              "       [9.87281144e-01],\n",
              "       [8.38241696e-01],\n",
              "       [9.20435786e-01],\n",
              "       [9.60705101e-01],\n",
              "       [2.25824580e-01],\n",
              "       [8.42929363e-01],\n",
              "       [8.51834476e-01],\n",
              "       [9.44139302e-01],\n",
              "       [3.15321125e-02],\n",
              "       [1.11108214e-01],\n",
              "       [9.79705393e-01],\n",
              "       [9.30416465e-01],\n",
              "       [1.52205154e-01],\n",
              "       [9.98534262e-02],\n",
              "       [1.57634102e-04],\n",
              "       [9.96462643e-01],\n",
              "       [8.99283066e-02],\n",
              "       [2.31032376e-03],\n",
              "       [9.04663861e-01],\n",
              "       [2.12533906e-01],\n",
              "       [9.66018498e-01],\n",
              "       [9.76338089e-01],\n",
              "       [9.63783205e-01],\n",
              "       [7.54677176e-01],\n",
              "       [9.53030407e-01],\n",
              "       [4.02983390e-02],\n",
              "       [9.95989025e-01],\n",
              "       [1.76478196e-02],\n",
              "       [5.90690494e-01],\n",
              "       [8.11902761e-01],\n",
              "       [2.99428850e-01],\n",
              "       [1.79800438e-03],\n",
              "       [8.91001105e-01],\n",
              "       [9.99615431e-01],\n",
              "       [6.19723946e-02],\n",
              "       [3.76781039e-02],\n",
              "       [4.18609262e-01],\n",
              "       [9.86612976e-01],\n",
              "       [5.01843214e-01],\n",
              "       [9.94662642e-01],\n",
              "       [8.13204050e-01],\n",
              "       [5.42462647e-01],\n",
              "       [1.26218027e-03],\n",
              "       [7.96448052e-01],\n",
              "       [9.58958805e-01],\n",
              "       [9.82035458e-01],\n",
              "       [1.32022813e-01],\n",
              "       [7.58830845e-01],\n",
              "       [4.18591380e-01],\n",
              "       [9.89020646e-01],\n",
              "       [9.91299689e-01],\n",
              "       [2.31960252e-01],\n",
              "       [6.80908235e-03],\n",
              "       [2.97201239e-02],\n",
              "       [3.00220102e-02],\n",
              "       [9.29360747e-01],\n",
              "       [7.04802334e-01],\n",
              "       [2.92706443e-03],\n",
              "       [2.93778945e-02],\n",
              "       [6.86678231e-01],\n",
              "       [8.27725336e-04],\n",
              "       [9.68599260e-01],\n",
              "       [9.40805554e-01],\n",
              "       [5.43954849e-01],\n",
              "       [3.33103724e-02],\n",
              "       [7.57515728e-01],\n",
              "       [9.74676073e-01],\n",
              "       [9.90047514e-01],\n",
              "       [1.51730597e-01],\n",
              "       [8.08614314e-01],\n",
              "       [9.71811295e-01],\n",
              "       [2.07692072e-01],\n",
              "       [2.97580123e-01],\n",
              "       [1.37306324e-05],\n",
              "       [9.18530762e-01],\n",
              "       [8.91900539e-01],\n",
              "       [5.21780849e-01],\n",
              "       [6.95840120e-02],\n",
              "       [9.89062488e-01],\n",
              "       [2.53270119e-01],\n",
              "       [8.87083076e-03],\n",
              "       [1.49838831e-02],\n",
              "       [1.86147332e-01],\n",
              "       [3.25437486e-02],\n",
              "       [3.90730023e-01],\n",
              "       [3.42429033e-03],\n",
              "       [5.52722544e-04],\n",
              "       [3.16331774e-01],\n",
              "       [9.97425497e-01],\n",
              "       [6.14640079e-02],\n",
              "       [2.36282796e-02],\n",
              "       [2.27625281e-01],\n",
              "       [6.35997713e-01],\n",
              "       [3.69970590e-01],\n",
              "       [2.97418889e-02],\n",
              "       [8.30975890e-01],\n",
              "       [1.48794368e-01],\n",
              "       [9.85280454e-01],\n",
              "       [9.48551297e-01],\n",
              "       [9.90627527e-01],\n",
              "       [9.67052162e-01],\n",
              "       [5.19195259e-01],\n",
              "       [3.21025848e-01],\n",
              "       [2.87497342e-01],\n",
              "       [3.09472889e-01]], dtype=float32)"
            ]
          },
          "metadata": {},
          "execution_count": 50
        }
      ],
      "source": [
        "# Make predictions with reloaded model\n",
        "model.predict([test_input, test_val])"
      ]
    },
    {
      "cell_type": "code",
      "execution_count": 51,
      "id": "f3f87a39",
      "metadata": {
        "id": "f3f87a39",
        "outputId": "9113667e-4a3c-4dcb-9983-351a95187589",
        "colab": {
          "base_uri": "https://localhost:8080/"
        }
      },
      "outputs": [
        {
          "output_type": "stream",
          "name": "stdout",
          "text": [
            "Model: \"SiameseNetwork\"\n",
            "__________________________________________________________________________________________________\n",
            " Layer (type)                   Output Shape         Param #     Connected to                     \n",
            "==================================================================================================\n",
            " input_img (InputLayer)         [(None, 100, 100, 3  0           []                               \n",
            "                                )]                                                                \n",
            "                                                                                                  \n",
            " validation_img (InputLayer)    [(None, 100, 100, 3  0           []                               \n",
            "                                )]                                                                \n",
            "                                                                                                  \n",
            " embedding (Functional)         (None, 4096)         38960448    ['input_img[0][0]',              \n",
            "                                                                  'validation_img[0][0]']         \n",
            "                                                                                                  \n",
            " l1_dist_2 (L1Dist)             (None, 4096)         0           ['embedding[0][0]',              \n",
            "                                                                  'embedding[1][0]']              \n",
            "                                                                                                  \n",
            " dense_1 (Dense)                (None, 1)            4097        ['l1_dist_2[0][0]']              \n",
            "                                                                                                  \n",
            "==================================================================================================\n",
            "Total params: 38,964,545\n",
            "Trainable params: 38,964,545\n",
            "Non-trainable params: 0\n",
            "__________________________________________________________________________________________________\n"
          ]
        }
      ],
      "source": [
        "# Display model summary\n",
        "model.summary()"
      ]
    },
    {
      "cell_type": "markdown",
      "source": [
        "<h1> 8. Real Time Test <h1>\n"
      ],
      "metadata": {
        "id": "pUOOUeX54Yxz"
      },
      "id": "pUOOUeX54Yxz"
    },
    {
      "cell_type": "markdown",
      "source": [
        "<h2> 8.1 Verification Function <h2>"
      ],
      "metadata": {
        "id": "qMjwbPNo4q2s"
      },
      "id": "qMjwbPNo4q2s"
    },
    {
      "cell_type": "code",
      "source": [
        "def verify(model, detection_threshold, verification_threshold):\n",
        "  # Build results array\n",
        "  results = []\n",
        "  for image in os.listdir(os.path.join('application_data', 'verification_images')):\n",
        "    input_img = preprocess(os.path.join('application_data', 'input_images', 'input_image.jpg'))\n",
        "    validation_img = preprocess(os.path.join('application_data','verification_images', image))\n",
        "\n",
        "    # Make Predictions\n",
        "    result = model.predict(list(np.expand_dims([input_img, validation_img], axis=1)))\n",
        "    results.append(result)\n",
        "\n",
        "  # Detection Threshold: Metric above which a prediction is considered positive\n",
        "  detection = np.sum(np.array(results) > detection_threshold)\n",
        "\n",
        "  # Verification Threshold: Proportion of positive predictions / total positive samples\n",
        "  verification = detection / len(os.listdir(os.path.join('application_data', 'verification_images')))\n",
        "  verified = verification > verification_threshold\n",
        "\n",
        "  return results, verified"
      ],
      "metadata": {
        "id": "JoY6hVGd4n45"
      },
      "id": "JoY6hVGd4n45",
      "execution_count": 52,
      "outputs": []
    },
    {
      "cell_type": "markdown",
      "source": [
        "<h2> 8.2 OpenCV Real Time Verification  <h2>\n"
      ],
      "metadata": {
        "id": "45A9AvVi6OZP"
      },
      "id": "45A9AvVi6OZP"
    },
    {
      "cell_type": "code",
      "source": [
        "cap = cv2.VideoCapture(0)\n",
        "while cap.isOpened():\n",
        "    ret, frame = cap.read()\n",
        "    frame = frame[120:120+250,200:200+250, :]\n",
        "\n",
        "    cv2.imshow('Verification', frame)\n",
        "\n",
        "    # Verification trigger\n",
        "    if cv2.waitKey(10) & 0xFF == ord('v'):\n",
        "        # Save input image to application_data/input_image folder\n",
        "        cv2.imwrite(os.path.join('application_data', 'input_image', 'input_image.jpg'), frame)\n",
        "        # Run verification\n",
        "        results, verified = verify(siamese_model, 0.5, 0.5)\n",
        "        print(verified)\n",
        "\n",
        "    if cv2.waitKey(10) & 0xFF == ord('q'):\n",
        "        break\n",
        "cap.release()\n",
        "cv2.destroyAllWindows()\n"
      ],
      "metadata": {
        "id": "GOlWsc2tX_i2"
      },
      "id": "GOlWsc2tX_i2",
      "execution_count": 101,
      "outputs": []
    },
    {
      "cell_type": "code",
      "source": [],
      "metadata": {
        "id": "z4jnudaDQWUu"
      },
      "id": "z4jnudaDQWUu",
      "execution_count": null,
      "outputs": []
    }
  ],
  "metadata": {
    "kernelspec": {
      "display_name": "Python 3",
      "name": "python3"
    },
    "language_info": {
      "codemirror_mode": {
        "name": "ipython",
        "version": 3
      },
      "file_extension": ".py",
      "mimetype": "text/x-python",
      "name": "python",
      "nbconvert_exporter": "python",
      "pygments_lexer": "ipython3",
      "version": "3.8.10"
    },
    "colab": {
      "provenance": [],
      "gpuType": "T4",
      "machine_shape": "hm",
      "include_colab_link": true
    },
    "accelerator": "GPU"
  },
  "nbformat": 4,
  "nbformat_minor": 5
}